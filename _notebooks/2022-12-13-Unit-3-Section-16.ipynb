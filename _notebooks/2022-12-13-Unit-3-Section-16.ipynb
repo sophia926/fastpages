{
 "cells": [
  {
   "attachments": {},
   "cell_type": "markdown",
   "metadata": {},
   "source": [
    "# Unit 3 Lesson 16\n",
    "- toc: true\n",
    "- comments: true\n"
   ]
  },
  {
   "attachments": {},
   "cell_type": "markdown",
   "metadata": {},
   "source": [
    "### Hack #1 - Class Notes\n",
    "\n",
    "Write any extra notes you have here\n",
    "\n",
    "- Simulations are abstractions that mimic more complex objects or phenomena from the real world\n",
    "- Simulations use varying sets of values to reflect the changing state of a real phenomenon\n",
    "- Simulations allow the formulation of hypotheses under consideration\n",
    "- Variability and randomness of the world is considered using random number generators"
   ]
  },
  {
   "attachments": {},
   "cell_type": "markdown",
   "metadata": {},
   "source": [
    "### Hack #2 - Functions Classwork"
   ]
  },
  {
   "attachments": {},
   "cell_type": "markdown",
   "metadata": {},
   "source": [
    "In this hack, I allowed the user to choose if they wanted to add or remove a clothing item from the closet. I printed their closet inventory afterwards."
   ]
  },
  {
   "cell_type": "code",
   "execution_count": 9,
   "metadata": {},
   "outputs": [
    {
     "name": "stdout",
     "output_type": "stream",
     "text": [
      "The random number between 1 through 100 is: 26\n",
      "The random number between 1 and 10 is: 3\n"
     ]
    },
    {
     "data": {
      "text/plain": [
       "['red shoes', 'green pants', 'tie', 'belt', 'pj pants']"
      ]
     },
     "execution_count": 9,
     "metadata": {},
     "output_type": "execute_result"
    }
   ],
   "source": [
    "# insert your work with randomization/ functions and the mycloset code here # Hint: Use the functions we talked about in the beginning!\n",
    "\n",
    "import random\n",
    "x = random.randint(1, 100)\n",
    "print(\"The random number between 1 through 100 is: \" + str(x))\n",
    "\n",
    "user = int(input(\"Enter a positive integer: \"))\n",
    "y = random.randint(1, user)\n",
    "print(\"The random number between 1 and \" + str(user) + \" is: \" + str(y))\n",
    "\n",
    "def mycloset():\n",
    "    myclothes = [\"red shoes\", \"green pants\", \"tie\", \"belt\"]\n",
    "    choice = str(input(\"Do you want to add an item or remove an item from your closet? Please enter 'add' or 'remove': \"))\n",
    "    if (choice == \"add\"):\n",
    "        add = str(input(\"Clothing item to add to your closet: \"))\n",
    "        myclothes.append(add)\n",
    "    else:\n",
    "        throw = str(input(\"Clothing item to throw out: \"))\n",
    "        myclothes.remove(throw)\n",
    "    return(myclothes)\n",
    "\n",
    "mycloset()"
   ]
  },
  {
   "attachments": {},
   "cell_type": "markdown",
   "metadata": {},
   "source": [
    "### Unfair Coin"
   ]
  },
  {
   "attachments": {},
   "cell_type": "markdown",
   "metadata": {},
   "source": [
    "This is an unfair coin with 2/3 chance heads and 1/3 chance tails :)"
   ]
  },
  {
   "cell_type": "code",
   "execution_count": 14,
   "metadata": {},
   "outputs": [
    {
     "name": "stdout",
     "output_type": "stream",
     "text": [
      "Tails\n",
      "Heads\n",
      "Heads\n",
      "Heads\n",
      "Heads\n"
     ]
    }
   ],
   "source": [
    "import random\n",
    "\n",
    "def coinflip():         #def function \n",
    "    randomflip = random.randint(0, 2) #picks either 0 or 1 randomly (50/50 chance of either) \n",
    "    if randomflip == 0: #assigning 0 to be heads--> if 0 is chosen then it will print, \"Heads\"\n",
    "        print(\"Tails\")\n",
    "    else:\n",
    "        print(\"Heads\")\n",
    "\n",
    "#Tossing the coin 5 times:\n",
    "t1 = coinflip()\n",
    "t2 = coinflip()\n",
    "t3 = coinflip()\n",
    "t4 = coinflip()\n",
    "t5 = coinflip()\n"
   ]
  },
  {
   "cell_type": "markdown",
   "metadata": {},
   "source": [
    "### Hack #3 - Binary Simulation Problem"
   ]
  },
  {
   "attachments": {},
   "cell_type": "markdown",
   "metadata": {},
   "source": [
    "Here, I used binary to determine if everyone on the list survived or got taken by the zombies... scary..."
   ]
  },
  {
   "cell_type": "code",
   "execution_count": 24,
   "metadata": {},
   "outputs": [
    {
     "name": "stdout",
     "output_type": "stream",
     "text": [
      "Jiya GOT TAKEN BY THE ZOMBIES...\n",
      "Shruthi GOT TAKEN BY THE ZOMBIES...\n",
      "Noor survived!!\n",
      "Ananya survived!!\n",
      "Sophia GOT TAKEN BY THE ZOMBIES...\n",
      "Taylor Swift GOT TAKEN BY THE ZOMBIES...\n",
      "Ariana Grande GOT TAKEN BY THE ZOMBIES...\n",
      "Mariah Carey GOT TAKEN BY THE ZOMBIES...\n"
     ]
    }
   ],
   "source": [
    "# insert your zombie simulation here; you don't have to use this template but it will help you get started\n",
    "\n",
    "import random\n",
    "\n",
    "def randomnum(): # function for generating random int\n",
    "    return(random.randint(0, 255))\n",
    "    \n",
    "\n",
    "def converttobin(n): # function for converting decimal to binary\n",
    "    return(format(n,'08b'))\n",
    "    \n",
    "\n",
    "def survivors(binary): # function to assign position\n",
    "    survivorstatus = [\"Jiya\", \"Shruthi\", \"Noor\", \"Ananya\" , \"Sophia\", \"Taylor Swift\", \"Ariana Grande\", \"Mariah Carey\"]\n",
    "    for i in range (0, 8):\n",
    "        zombie = int(binary[i])\n",
    "        if (zombie == 1):\n",
    "            print(survivorstatus[i] + \" survived!!\")\n",
    "        else:\n",
    "            print(survivorstatus[i] + \" GOT TAKEN BY THE ZOMBIES...\")\n",
    "    # replace the names above with your choice of people in the house\n",
    "\n",
    "x = randomnum()\n",
    "y = converttobin(x)\n",
    "survivors(y)"
   ]
  },
  {
   "cell_type": "markdown",
   "metadata": {},
   "source": [
    "### Hack #4 - Thinking through a problem\n",
    "- create your own simulation involving a dice roll\n",
    "- should include randomization and a function for rolling + multiple trials"
   ]
  },
  {
   "attachments": {},
   "cell_type": "markdown",
   "metadata": {},
   "source": [
    "In this hack, I decided to simulate if it was a weekend or weekday, telling the user if they had homework or if they could rest and sleep"
   ]
  },
  {
   "cell_type": "code",
   "execution_count": 10,
   "metadata": {},
   "outputs": [
    {
     "name": "stdout",
     "output_type": "stream",
     "text": [
      "it's a weekday unfortunately, you have homework from school... good luck...\n",
      "it's a weekend!! have fun and rest and sleep :)\n",
      "it's a weekday unfortunately, you have homework from school... good luck...\n",
      "it's a weekday unfortunately, you have homework from school... good luck...\n"
     ]
    }
   ],
   "source": [
    "def dayOfWeek():\n",
    "    num = random.randint(1, 7)\n",
    "    if (num == 6 or num == 7):\n",
    "        return(\"it's a weekend!! have fun and rest and sleep :)\")\n",
    "    else:\n",
    "        return(\"it's a weekday unfortunately, you have homework from school... good luck...\")\n",
    "\n",
    "print(dayOfWeek())\n",
    "print(dayOfWeek())\n",
    "print(dayOfWeek())\n",
    "print(dayOfWeek())"
   ]
  },
  {
   "attachments": {},
   "cell_type": "markdown",
   "metadata": {},
   "source": [
    "### Hack 5 - Applying your knowledge to situation based problems\n",
    "\n",
    "Using the questions bank below, create a quiz that presents the user a random question and calculates the user's score. You can use the template below or make your own. Making your own using a loop can give you extra points. "
   ]
  },
  {
   "attachments": {},
   "cell_type": "markdown",
   "metadata": {},
   "source": [
    "1. A researcher gathers data about the effect of Advanced Placement®︎ classes on students' success in college and career, and develops a simulation to show how a sequence of AP classes affect a hypothetical student's pathway.Several school administrators are concerned that the simulation contains bias favoring high-income students, however.\n",
    "    - answer options:\n",
    "        1. The simulation is an abstraction and therefore cannot contain any bias\n",
    "        2. The simulation may accidentally contain bias due to the exclusion of details.\n",
    "        3. If the simulation is found to contain bias, then it is not possible to remove the bias from the simulation.\n",
    "        4. The only way for the simulation to be biased is if the researcher intentionally used data that favored their desired output.\n",
    "2. Jack is trying to plan his financial future using an online tool. The tool starts off by asking him to input details about his current finances and career. It then lets him choose different future scenarios, such as having children. For each scenario chosen, the tool does some calculations and outputs his projected savings at the ages of 35, 45, and 55.Would that be considered a simulation and why?\n",
    "    - answer options\n",
    "        1. No, it's not a simulation because it does not include a visualization of the results.\n",
    "        2. No, it's not a simulation because it does not include all the details of his life history and the future financial environment.\n",
    "        3. Yes, it's a simulation because it runs on a computer and includes both user input and computed output.\n",
    "        4. Yes, it's a simulation because it is an abstraction of a real world scenario that enables the drawing of inferences.\n",
    "3. Sylvia is an industrial engineer working for a sporting goods company. She is developing a baseball bat that can hit balls with higher accuracy and asks their software engineering team to develop a simulation to verify the design.Which of the following details is most important to include in this simulation?\n",
    "    - answer options\n",
    "        1. Realistic sound effects based on the material of the baseball bat and the velocity of the hit\n",
    "        2. A depiction of an audience in the stands with lifelike behavior in response to hit accuracy\n",
    "        3. Accurate accounting for the effects of wind conditions on the movement of the ball\n",
    "        4. A baseball field that is textured to differentiate between the grass and the dirt\n",
    "4. Ashlynn is an industrial engineer who is trying to design a safer parachute. She creates a computer simulation of the parachute opening at different heights and in different environmental conditions.What are advantages of running the simulation versus an actual experiment?\n",
    "    - answer options\n",
    "        1. The simulation will not contain any bias that favors one body type over another, while an experiment will be biased.\n",
    "        2. The simulation can be run more safely than an actual experiment\n",
    "        3. The simulation will accurately predict the parachute's safety level, while an experiment may be inaccurate due to faulty experimental design.\n",
    "        4. The simulation can test the parachute design in a wide range of environmental conditions that may be difficult to reliably reproduce in an experiment.\n",
    "    * this question has 2 correct answers\n",
    "5. YOUR OWN QUESTION; can be situational, pseudo code based, or vocab/concept based\n",
    "6. YOUR OWN QUESTION; can be situational, pseudo code based, or vocab/concept based"
   ]
  },
  {
   "attachments": {},
   "cell_type": "markdown",
   "metadata": {},
   "source": [
    "In this hack, I used a loop and dictionary, I also calculated score at the end and displayed if the user passed or not."
   ]
  },
  {
   "cell_type": "code",
   "execution_count": 16,
   "metadata": {},
   "outputs": [
    {
     "name": "stdout",
     "output_type": "stream",
     "text": [
      "Welcome to the quiz! For your answers, please enter in 'A', 'B', 'C', or 'D'! Thanks!\n",
      "B is correct!\n",
      "C is correct!\n",
      "C is correct!\n",
      "B is correct!\n",
      "A is correct!\n",
      "A is correct!\n",
      "You scored6/6\n",
      "Your percentage is 100.0%! Good work!\n",
      "You passed!\n"
     ]
    }
   ],
   "source": [
    "import random\n",
    "\n",
    "print(\"Welcome to the quiz! For your answers, please enter in 'A', 'B', 'C', or 'D'! Thanks!\")\n",
    "\n",
    "def question(prompt, answer):\n",
    "    msg = input(\"Question: \" + prompt)\n",
    "    if msg == answer:\n",
    "        print(msg + \" is correct!\")\n",
    "        return(1)\n",
    "    else:\n",
    "        print(msg + \" is incorrect!\")\n",
    "        return(0)\n",
    "\n",
    "# Append to List a Dictionary of key/values related to a person and cars\n",
    "quiz = {\n",
    "    \"A researcher gathers data about the effect of Advanced Placement®︎ classes on students' success in college and career, and develops a simulation to show how a sequence of AP classes affect a hypothetical student's pathway.Several school administrators are concerned that the simulation contains bias favoring high-income students, however. (A) The simulation is an abstraction and therefore cannot contain any bias (B) The simulation may accidentally contain bias due to the exclusion of details (C) If the simulation is found to contain bias, then it is not possible to remove the bias from the simulation (D) The only way for the simulation to be biased is if the researcher intentionally used data that favored their desired output\": \"B\",\n",
    "    \"Jack is trying to plan his financial future using an online tool. The tool starts off by asking him to input details about his current finances and career. It then lets him choose different future scenarios, such as having children. For each scenario chosen, the tool does some calculations and outputs his projected savings at the ages of 35, 45, and 55.Would that be considered a simulation and why? (A) No, it's not a simulation because it does not include a visualization of the results. (B) No, it's not a simulation because it does not include all the details of his life history and the future financial environment (C) Yes, it's a simulation because it runs on a computer and includes both user input and computed output. (D) Yes, it's a simulation because it is an abstraction of a real world scenario that enables the drawing of inferences.\": \"C\",\n",
    "    \"Sylvia is an industrial engineer working for a sporting goods company. She is developing a baseball bat that can hit balls with higher accuracy and asks their software engineering team to develop a simulation to verify the design.Which of the following details is most important to include in this simulation? (A) Realistic sound effects based on the material of the baseball bat and the velocity of the hit (B) A depiction of an audience in the stands with lifelike behavior in response to hit accuracy (C) Accurate accounting for the effects of wind conditions on the movement of the ball (D) A baseball field that is textured to differentiate between the grass and the dirt\": \"C\",\n",
    "    \"Ashlynn is an industrial engineer who is trying to design a safer parachute. She creates a computer simulation of the parachute opening at different heights and in different environmental conditions.What are advantages of running the simulation versus an actual experiment? (A) The simulation will not contain any bias that favors one body type over another, while an experiment will be biased (B) The simulation can be run more safely than an actual experiment (C) The simulation will accurately predict the parachute's safety level, while an experiment may be inaccurate due to faulty experimental design (D) The simulation can't test the parachute design in a wide range of environmental conditions that may be difficult to reliably reproduce in an experiment\": \"B\",\n",
    "    \"True or False: Simulations are abstractions that mimic more complex objects or phenomena from the real world, (A) True (B) False\": \"A\",\n",
    "    \"What do random number generators account for? (A) varaibility real world (B) make something not random (C) how ordered things are in the real world (D) doesn't affect result\": \"A\"\n",
    "}\n",
    "\n",
    "numqs = 6\n",
    "correct = 0\n",
    "\n",
    "for item in quiz:\n",
    "    num = question(item, quiz[item])\n",
    "    correct = correct + num\n",
    "\n",
    "print(\"You scored\" + str(correct) +\"/\" + str(numqs))\n",
    "print(\"Your percentage is \" + str(correct/numqs*100) + \"%! Good work!\")\n",
    "if (correct >= 5):\n",
    "    print(\"You passed!\")\n",
    "else:\n",
    "    print(\"You failed!\")"
   ]
  },
  {
   "attachments": {},
   "cell_type": "markdown",
   "metadata": {},
   "source": [
    "### Hack #6 / Challenge - Taking real life problems and implementing them into code"
   ]
  },
  {
   "attachments": {},
   "cell_type": "markdown",
   "metadata": {},
   "source": [
    "Create your own simulation based on your experiences/knowledge!\n",
    "Be creative! Think about instances in your own life, science, puzzles that can be made into simulations\n",
    "\n",
    "Some ideas to get your brain running: A simulation that breeds two plants and tells you phenotypes of offspring, an adventure simulation..."
   ]
  },
  {
   "attachments": {},
   "cell_type": "markdown",
   "metadata": {},
   "source": [
    "For this hack, I made a random meal planne"
   ]
  },
  {
   "cell_type": "code",
   "execution_count": 31,
   "metadata": {},
   "outputs": [
    {
     "data": {
      "text/plain": [
       "'The meal is... spring rolls, spaghetti, and apple pie'"
      ]
     },
     "execution_count": 31,
     "metadata": {},
     "output_type": "execute_result"
    }
   ],
   "source": [
    "def mealplanner():\n",
    "    appetizers = [\"pita chips and hummus\", \"tortilla chips and salsa\", \"guacamole\", \"spring rolls\"]\n",
    "    x = random.randint(0,3)\n",
    "\n",
    "    mains = [\"spaghetti\", \"mac and cheese\", \"pizza\", \"lasagna\", \"cheeseburgers\", \"dumplings\"]\n",
    "    y = random.randint(0, 5)\n",
    "\n",
    "    dessert = [\"tiramisu\", \"ice cream\", \"apple pie\"]\n",
    "    z = random.randint(0, 2)\n",
    "\n",
    "    return(\"The meal is... \" + appetizers[x] + \", \" + mains[y] + \", and \" + dessert[z])\n",
    "\n",
    "mealplanner()"
   ]
  }
 ],
 "metadata": {
  "kernelspec": {
   "display_name": "Python 3",
   "language": "python",
   "name": "python3"
  },
  "language_info": {
   "codemirror_mode": {
    "name": "ipython",
    "version": 3
   },
   "file_extension": ".py",
   "mimetype": "text/x-python",
   "name": "python",
   "nbconvert_exporter": "python",
   "pygments_lexer": "ipython3",
   "version": "3.8.10"
  },
  "orig_nbformat": 4,
  "vscode": {
   "interpreter": {
    "hash": "916dbcbb3f70747c44a77c7bcd40155683ae19c65e1c03b4aa3499c5328201f1"
   }
  }
 },
 "nbformat": 4,
 "nbformat_minor": 2
}
