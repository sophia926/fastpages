{
 "cells": [
  {
   "cell_type": "markdown",
   "metadata": {},
   "source": [
    "# API Documentation\n",
    "> This is a documentation of my API.\n",
    "- title: API Documentation\n",
    "- toc: true \n",
    "- badges: true\n",
    "- comments: true\n",
    "- categories: [week7]"
   ]
  },
  {
   "cell_type": "markdown",
   "metadata": {},
   "source": [
    "I found an API that generates a random gratitude questions, which would be good to include in our final project because we have a gratitude log in our journal. We will probably use this :)"
   ]
  },
  {
   "cell_type": "code",
   "execution_count": 24,
   "metadata": {},
   "outputs": [
    {
     "name": "stdout",
     "output_type": "stream",
     "text": [
      "{\"question\":\"What’s one thing I enjoyed about my job recently?\"}\n",
      "What’s one thing I enjoyed about my job recently?\n"
     ]
    }
   ],
   "source": [
    "import requests\n",
    "\n",
    "url = \"https://gratitude-questions.p.rapidapi.com/question\"\n",
    "\n",
    "headers = {\n",
    "\t\"X-RapidAPI-Key\": \"222daebd02msh197e0db183672fap17cc9djsn8a1f2f813e5b\",\n",
    "\t\"X-RapidAPI-Host\": \"gratitude-questions.p.rapidapi.com\"\n",
    "}\n",
    "\n",
    "response = requests.request(\"GET\", url, headers=headers)\n",
    "\n",
    "print(response.text)\n",
    "\n",
    "question = response.json().get('question')\n",
    "print(question)"
   ]
  },
  {
   "cell_type": "markdown",
   "metadata": {},
   "source": [
    "Here is an inspiring quotes generator, which would also be cool to include in our journal because it's good to be inspired when you're journaling and it can also help with mental health."
   ]
  },
  {
   "cell_type": "code",
   "execution_count": 27,
   "metadata": {},
   "outputs": [
    {
     "name": "stdout",
     "output_type": "stream",
     "text": [
      "{\"author\":\"Albert Einstein\",\"quote\":\"One may say the eternal mystery of the world is its comprehensibility.\"}\n",
      "Albert Einstein once said, \"One may say the eternal mystery of the world is its comprehensibility.\"\n"
     ]
    }
   ],
   "source": [
    "import requests\n",
    "\n",
    "url = \"https://inspiring-quotes.p.rapidapi.com/random\"\n",
    "\n",
    "querystring = {\"author\":\"Albert\"}\n",
    "\n",
    "headers = {\n",
    "\t\"X-RapidAPI-Key\": \"222daebd02msh197e0db183672fap17cc9djsn8a1f2f813e5b\",\n",
    "\t\"X-RapidAPI-Host\": \"inspiring-quotes.p.rapidapi.com\"\n",
    "}\n",
    "\n",
    "response = requests.request(\"GET\", url, headers=headers, params=querystring)\n",
    "\n",
    "print(response.text)\n",
    "\n",
    "author = response.json().get('author')\n",
    "quote = response.json().get('quote')\n",
    "print(author, 'once said, \"'+ quote + '\"')"
   ]
  },
  {
   "cell_type": "markdown",
   "metadata": {},
   "source": [
    "This is a would you rather API :)"
   ]
  },
  {
   "cell_type": "code",
   "execution_count": 57,
   "metadata": {},
   "outputs": [
    {
     "name": "stdout",
     "output_type": "stream",
     "text": [
      "Here is a would you rather question!\n",
      "Would you rather be smacked in the face with a fish or farted on?\n"
     ]
    }
   ],
   "source": [
    "import requests\n",
    "\n",
    "url = \"https://would-you-rather.p.rapidapi.com/wyr/random\"\n",
    "\n",
    "headers = {\n",
    "\t\"X-RapidAPI-Key\": \"222daebd02msh197e0db183672fap17cc9djsn8a1f2f813e5b\",\n",
    "\t\"X-RapidAPI-Host\": \"would-you-rather.p.rapidapi.com\"\n",
    "}\n",
    "\n",
    "response = requests.request(\"GET\", url, headers=headers)\n",
    "\n",
    "question = response.json()[0].get('question')\n",
    "print(\"Here is a would you rather question!\")\n",
    "print(question)"
   ]
  }
 ],
 "metadata": {
  "kernelspec": {
   "display_name": "Python 3.8.10 64-bit",
   "language": "python",
   "name": "python3"
  },
  "language_info": {
   "codemirror_mode": {
    "name": "ipython",
    "version": 3
   },
   "file_extension": ".py",
   "mimetype": "text/x-python",
   "name": "python",
   "nbconvert_exporter": "python",
   "pygments_lexer": "ipython3",
   "version": "3.8.10"
  },
  "orig_nbformat": 4,
  "vscode": {
   "interpreter": {
    "hash": "916dbcbb3f70747c44a77c7bcd40155683ae19c65e1c03b4aa3499c5328201f1"
   }
  }
 },
 "nbformat": 4,
 "nbformat_minor": 2
}
