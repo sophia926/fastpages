{
 "cells": [
  {
   "attachments": {},
   "cell_type": "markdown",
   "metadata": {},
   "source": [
    "# Unit 3 Sections 14-15 Homework\n",
    "> Here are the instructions for the homework for sections 14-15.\n",
    "\n",
    "- toc: true\n",
    "- comments: true\n",
    "- categories: [week16]"
   ]
  },
  {
   "attachments": {},
   "cell_type": "markdown",
   "metadata": {},
   "source": [
    "Create a program that asks the user for a day and then gives them a distance in days between that day and another random day in the year. We have provided you with a possible starter, but you are welcome to change it up if you would like."
   ]
  },
  {
   "cell_type": "code",
   "execution_count": 12,
   "metadata": {},
   "outputs": [
    {
     "name": "stdout",
     "output_type": "stream",
     "text": [
      "user date: 2/5/2020\n",
      "random date: 1/27/2004\n",
      "There are 5853 days between the two dates\n"
     ]
    }
   ],
   "source": [
    "from datetime import date\n",
    "import random\n",
    "import math\n",
    "\n",
    "# expected output shown below (or something similar)\n",
    "day = input(\"input a day: \")\n",
    "month = input(\"input a month: \")\n",
    "year = input(\"input a year: \")\n",
    "print(\"user date: \" + str(month) + \"/\" + str(day) + \"/\" + str(year))\n",
    "userdate = date(int(year), int(month), int(day))\n",
    "randommonth = random.randint(1,12)\n",
    "\n",
    "thirtyonedays = [1,3,5,7,8,10,12]\n",
    "\n",
    "if (randommonth in thirtyonedays):\n",
    "    randomday = random.randint(1,31)\n",
    "elif (randommonth == 2):\n",
    "    randomday = random.randint(1,28)\n",
    "else:\n",
    "    randomday = random.randint(1,30)\n",
    "\n",
    "randomyear = random.randint(1990, 2023)\n",
    "\n",
    "print(\"random date: \" + str(randommonth) + \"/\" + str(randomday) + \"/\" + str(randomyear))\n",
    "randomdate = date(randomyear, randommonth, randomday)\n",
    "result = randomdate - userdate\n",
    "result = abs(result.days)\n",
    "print(\"There are \" + str(result) + \" days between the two dates\")"
   ]
  }
 ],
 "metadata": {
  "kernelspec": {
   "display_name": "Python 3",
   "language": "python",
   "name": "python3"
  },
  "language_info": {
   "codemirror_mode": {
    "name": "ipython",
    "version": 3
   },
   "file_extension": ".py",
   "mimetype": "text/x-python",
   "name": "python",
   "nbconvert_exporter": "python",
   "pygments_lexer": "ipython3",
   "version": "3.8.10"
  },
  "orig_nbformat": 4,
  "vscode": {
   "interpreter": {
    "hash": "916dbcbb3f70747c44a77c7bcd40155683ae19c65e1c03b4aa3499c5328201f1"
   }
  }
 },
 "nbformat": 4,
 "nbformat_minor": 2
}
