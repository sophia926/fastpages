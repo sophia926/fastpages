{
 "cells": [
  {
   "attachments": {},
   "cell_type": "markdown",
   "metadata": {},
   "source": [
    "# Building Simulation/Interaction using Lists and Iteration\n",
    "\n",
    "- toc: true\n",
    "- badges: false\n",
    "- comments: true\n",
    "- author: Haeryn Yu, Tanisha Patil, Naja Fonseca, Amitha Sanka, Sophia Tang\n",
    "- categories: [student]\n",
    "- type: ap\n",
    "- week: 31"
   ]
  },
  {
   "attachments": {},
   "cell_type": "markdown",
   "metadata": {},
   "source": [
    "## Vocabulary\n",
    "- *Iteration*  - Repitition of a Process <br>\n",
    "- *`For Loop`* - FOR LOOP repeats a function for a set number of times; I is the number of times repeated <br>\n",
    "- *`While Loop`*  - The while loop is used to repeat a section of code an unknown number of times until a specific condition is met <br>\n",
    "- *Initialization* - What sets the counter variable to a starting value. For example (var i = 0) represents an initial value of 0. <br>\n",
    "- *Condition* - Allows the computer to know whether or not to keep repeating the loop.\n",
    "- *increment/decrement* - Modifies the counter variable after each repetition.\n",
    "- *Indexing* / *List Index* - The position of an element in a list, starting from 0 <br>\n",
    "- *`append`*, *`remove`*, *`pop`* - Various methods, append adds an element to the end, remove removes at an index, and pop removes the last item. <br>\n",
    "- *Elements [in a list]* - An item in a list. <br>\n",
    "- *Nesting* - Having one data type or function inside another data type or function, such as lists or loops. <br>\n",
    "- *array* - Another name for a list, depends on the language <br>\n",
    "- *Ke*y - the unique identifier associated with a value in a dictionary, such as name <br>\n",
    "- *Value* - the data associated with a key in a dictionary, such as age <br>\n",
    "- *Pair* - a key-value combination in a dictionary, such as a person's name + age <br>\n",
    "- *Mutable* - the ability to be changed or modified <br>\n",
    "- *Tuple* - an immutable ordered sequence of elements, similar to a list <br>\n",
    "- *Insertion* - the process of adding a new key-value pair to a dictionary <br>\n",
    "- *Deletion* -  the process of removing a key-value pair from a dictionary <br>\n",
    "- *Keys method/`keys()`* - a built-in Python function that returns a list of all keys in a dictionary <br>\n",
    "- *Values method/`values()`* - a built-in Python function that returns a list of all values in a dictionary <br>\n",
    "- *Items method/`items()`* - a built-in Python function that returns a list of all key-value pairs in a dictionary as tuples <br>\n",
    "- *Update method/`update()`* - a built-in Python function that updates a dictionary with key-value pairs from another dictionary or iterable <br>\n",
    "- *Clear method/`clear()`* - a built-in Python function that removes all key-value pairs from a dictionary <br>"
   ]
  },
  {
   "attachments": {},
   "cell_type": "markdown",
   "metadata": {},
   "source": [
    "## Simulations/Interactions\n",
    "\n",
    "Building a simulation or interaction using lists and iteration in VS Code can be accomplished using a few simple steps:\n",
    "\n",
    "1. Define your data: First, you need to define the data that your simulation will be working with. This could be a list of numbers, a list of strings, or any other type of data that your simulation will be manipulating.\n",
    "\n",
    "2. Write your simulation code: Once you have defined your data, you can start writing the code for your simulation. This code will typically involve iterating over your list of data, performing some operation on each item in the list, and updating the list accordingly.\n",
    "\n",
    "3. Test your simulation: After you have written your simulation code, it is important to test it to make sure it is working as expected. You can do this by running your code and checking the output to see if it matches what you expect.\n",
    "\n",
    "4. Refine your simulation: Once you have tested your simulation, you may need to refine it based on the results. This could involve tweaking the code to make it more efficient, adding new features, or fixing any bugs that you have discovered.\n",
    "\n",
    "Here's a simple example of a simulation in Python that uses lists and iteration to calculate the average of a list of numbers:"
   ]
  },
  {
   "cell_type": "code",
   "execution_count": 1,
   "metadata": {},
   "outputs": [
    {
     "name": "stdout",
     "output_type": "stream",
     "text": [
      "The average of the list is: 3.0\n"
     ]
    }
   ],
   "source": [
    "# Define the list of numbers\n",
    "numbers = [1, 2, 3, 4, 5]\n",
    "\n",
    "# Initialize the sum and count variables\n",
    "sum = 0\n",
    "count = 0\n",
    "\n",
    "# Iterate over the list of numbers, adding each number to the sum\n",
    "for number in numbers:\n",
    "    sum += number\n",
    "    count += 1\n",
    "\n",
    "# Calculate the average of the list of numbers\n",
    "average = sum / count\n",
    "\n",
    "# Print the average\n",
    "print(\"The average of the list is:\", average)"
   ]
  },
  {
   "attachments": {},
   "cell_type": "markdown",
   "metadata": {},
   "source": [
    "This code defines a list of numbers, iterates over the list to calculate the sum and count of the numbers, and then calculates the average by dividing the sum by the count. Finally, it prints the average to the console."
   ]
  },
  {
   "attachments": {},
   "cell_type": "markdown",
   "metadata": {},
   "source": [
    "## Lists\n",
    "For list operations, write expressions that use list indexing and list procedures. For algorithms involving elements of a list, write iteration statements to traverse a list.\n",
    "- List procedures are implemented in accordance with the syntax rules of the programming language. \n",
    "- Iteration statements can be used to traverse a list\n",
    "- Knowldege of exisiting algorithms that use iteration can help in constructing new algorithms. Some are:\n",
    "    - Determining a minimum or maximum value in a list\n",
    "    - Computing a sum or average of a list of numbers\n",
    "\n",
    "### What are Lists?\n",
    "- Lists are a collection of data in a sequence that is an iterable\n",
    "- Each sequence is demarcated with an <mark>index</mark>, starting from 0. This is known as <mark>base 0 indexing</mark>\n",
    "- In memory, it is stored as a variable name with multiple pointers to each variable stored in a certain order\n",
    "- Lists can also be called arrays\n",
    "- Lists have methods that act upon the list and change them. This moves the pointers within RAM to change the parts of the list.\n",
    "\n",
    "#### Nested Lists\n",
    "\n",
    "##### Uses of Nested lists\n",
    "Placing lists within lists allows you to have arrays of similar data together, and create complexity. <br>\n",
    "\n",
    "Some uses include: \n",
    "- Creating 2d Arrays \n",
    "- Storing similar, but slightly different categories (sublists)\n",
    "- Create a matrix\n",
    "\n"
   ]
  },
  {
   "attachments": {},
   "cell_type": "markdown",
   "metadata": {},
   "source": [
    "## Iteration\n",
    "Iterative statements are also called loops, and they repeat themselves over and over until the condition for stopping is met. \n",
    "- In College Board's Pseudocode, the first is a REPEAT n TIMES loop, where the n represents some number.\n",
    "\n",
    "The second type of loop is a REPEAT UNTIL (condition) loop, where the loop will continue to run until a condition is met.\n",
    "\n",
    "Conceptually, a while loop is very similar to an if conditional, except that a while is continually executed until it's no longer true and an if is only executed once.\n",
    "\n"
   ]
  },
  {
   "attachments": {},
   "cell_type": "markdown",
   "metadata": {},
   "source": [
    "## Libaries\n",
    "\n",
    "- A software library contains procedures that may be used in creating new programs. \n",
    "- Existing code segments can come from internal or external sources, such as libaries or previously written code. \n",
    "- The use of libaries simplifies the task of creating complex programs.\n",
    "\n",
    "### APIs\n",
    "\n",
    "Application program interfaces (APIs) are specifications for how the procedures in a libary behave and can be used as documentation for an API/libary is necessary in understanding the behaviors provided by the API and how to use them.\n",
    "\n",
    "A file that contains procedures that can be used in a program is considered a libary.\n",
    "- API provides specifications for how procedures in a library behave and can be used. \n",
    "- Many companies use APIs for programmers to interact with their products. "
   ]
  },
  {
   "attachments": {},
   "cell_type": "markdown",
   "metadata": {},
   "source": [
    "## Dictionaries\n",
    "\n",
    "### What are Dictionaries?\n",
    "\n",
    "-  an unordered collection of key-value pairs, where each key is unique and associated with a specific value\n",
    "- known as associative arrays, maps, or hash tables in some programming languages\n",
    "- used to store and retrieve data efficiently, as they allow fast access to values based on their associated keys\n",
    "- useful for a wide range of tasks, such as storing, indexing, and counting\n",
    "\n",
    "### What are the types of Dictionaries?\n",
    "\n",
    "\n",
    "#### Ordered Dictionaries \n",
    "- Iterates over keys and values in the same order that the keys were inserted \n",
    "- If an entry is deleted and reinserted, then it will be moved to the end of the dictionary\n",
    "- Specially designed to keep its items ordered\n",
    "- Useful in situations where the order of insertion is important and when you need to process data in a specific order\n",
    "- If the order of the data is important, an ordered dictionary is the better choice\n",
    "\n",
    "##### How to create an ordered dictionary? \n",
    "\n",
    "1. Import OrderedDict from collections \n",
    "2. Create an empty ordered dictionary by instantiating OrderedDict without providing arguments to the constructor\n",
    "3. Add key-value pairs to the dictionary by providing a key in square brackets ([]) and assigning a value to that key. \n",
    "4. Print the ordered dictionary \n",
    "5. Iterate over the items in the ordered dictionary \n",
    "\n",
    "#### Regular Dictionaries \n",
    "- Mutable; can add, remove, and modify key-value pairs after they have been created\n",
    "- Used to store data values in key:value pairs\n",
    "- Can be iterated over using loops\n",
    "- If order is not important, a regular dictionary may provide better performance\n",
    "\n",
    "##### How to create a regular dictionary? \n",
    "\n",
    "1. Create a variable name which will be the name of the dictionary\n",
    "2. Assign the variable to an empty set of curly braces {}\n",
    "3. Create a dictionary with the dict() OR empty curly brackets \n"
   ]
  },
  {
   "attachments": {},
   "cell_type": "markdown",
   "metadata": {},
   "source": [
    "## Code Examples"
   ]
  },
  {
   "attachments": {},
   "cell_type": "markdown",
   "metadata": {},
   "source": [
    "Reverse a list utilizing features of lists and iteration"
   ]
  },
  {
   "cell_type": "code",
   "execution_count": 1,
   "metadata": {},
   "outputs": [
    {
     "name": "stdout",
     "output_type": "stream",
     "text": [
      "List before reverse :  [1, 2, 3, 4, 5]\n",
      "List after reverse :  [5, 4, 3, 2, 1]\n"
     ]
    }
   ],
   "source": [
    "## Code Examples\n",
    "\n",
    "original_list = [1, 2, 3, 4, 5]\n",
    "print(\"List before reverse : \",original_list)\n",
    "reversed_list = []\n",
    "for value in original_list:\n",
    "  reversed_list = [value] + reversed_list\n",
    "# print(\"List after reverse : \", reversed_list)"
   ]
  },
  {
   "attachments": {},
   "cell_type": "markdown",
   "metadata": {},
   "source": [
    "Similar to insertion sort, this algorithm takes an unsorted array and returns a sorted array. Unlike insertion sort where you iterate through the each element and move the smaller elements to the front, this algorithm starts at the beginning and swaps the position of every element in the array"
   ]
  },
  {
   "cell_type": "code",
   "execution_count": 2,
   "metadata": {},
   "outputs": [
    {
     "name": "stdout",
     "output_type": "stream",
     "text": [
      "array before sort [9, 8, 4, 3, 5, 2, 6, 7, 1, 0]\n",
      "array after sort [0, 1, 2, 3, 4, 5, 6, 7, 8, 9]\n"
     ]
    }
   ],
   "source": [
    "list = [9, 8, 4, 3, 5, 2, 6, 7, 1, 0]\n",
    "print(f\"array before sort {list}\")\n",
    "def insertion_sort(list):\n",
    "    for index in range(1,len(list)): # repeats through length of the array\n",
    "        value = list[index]\n",
    "        i = index - 1\n",
    "        while i >= 0:\n",
    "            if value < list[i]:\n",
    "                list[i+1] = list[i] # shift number in slot i to the right\n",
    "                list[i] = value # shift value left into slot i\n",
    "                i = i - 1\n",
    "            else:\n",
    "                break\n",
    "\n",
    "IS = insertion_sort(list)\n",
    "# print(f\"array after sort {list}\")"
   ]
  },
  {
   "attachments": {},
   "cell_type": "markdown",
   "metadata": {},
   "source": [
    "# Hacks\n",
    "- Create a list and a dictionary and compare the two. \n",
    "\n",
    "## Grading\n",
    "- 0.2 for notes on the lesson\n",
    "- 0.3 for the creation of the list\n",
    "- 0.3 for the creation of the dictionary\n",
    "- 0.1 for the comparison\n",
    "- Extra 0.1 for creating a dictionary/list, iterating through it with a use inputed value, and giving an output which is dependent on the input (similar to the playlist maker)\n"
   ]
  }
 ],
 "metadata": {
  "kernelspec": {
   "display_name": "base",
   "language": "python",
   "name": "python3"
  },
  "language_info": {
   "codemirror_mode": {
    "name": "ipython",
    "version": 3
   },
   "file_extension": ".py",
   "mimetype": "text/x-python",
   "name": "python",
   "nbconvert_exporter": "python",
   "pygments_lexer": "ipython3",
   "version": "3.9.12"
  },
  "orig_nbformat": 4
 },
 "nbformat": 4,
 "nbformat_minor": 2
}
