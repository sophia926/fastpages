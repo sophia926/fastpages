{
 "cells": [
  {
   "attachments": {},
   "cell_type": "markdown",
   "metadata": {},
   "source": [
    "# Pandas Hacks - Data Analysis Lesson (4/27)\n",
    "> This lesson introduces students to the Pandas library in Python for data analysis and manipulation, covering topics such as data loading, table creation, manipulation, and visualization using real-world examples.\n",
    "\n",
    "- toc: true \n",
    "- badges: true\n",
    "- comments: true\n",
    "- categories: [jupyter, lesson]"
   ]
  },
  {
   "attachments": {},
   "cell_type": "markdown",
   "metadata": {},
   "source": [
    "# before we start this portion of the lesson:\n",
    "check if you have pip installed since we are going to be installing some libraries today!!!!!!\n",
    "if you arnt sure if you have pip, check it by running this command:\n",
    "```zsh \n",
    "pip\n",
    "```\n",
    "if your terminal says \"command not found\" or something else on linux, run this:\n",
    "```zsh\n",
    "python3 -m ensurepip --default-pip\n",
    "```"
   ]
  },
  {
   "attachments": {},
   "cell_type": "markdown",
   "metadata": {},
   "source": [
    "# Overview:\n",
    "Pandas is a powerful tool in Python that is used for data analysis and manipulation. In this lesson, we will explore how to use Pandas to work with datasets, analyze them, and visualize the results.\n",
    "\n",
    "# Learning Objectives:\n",
    "By the end of this lesson, students should be able to:\n",
    "\n",
    "- Understand what Pandas is and why it is useful for data analysis\n",
    "- Load data into Pandas and create tables to store it\n",
    "- Use different functions in Pandas to manipulate data, such as filtering, sorting, and grouping\n",
    "- Visualize data using graphs and charts\n"
   ]
  },
  {
   "attachments": {},
   "cell_type": "markdown",
   "metadata": {},
   "source": [
    "## Question\n",
    "Who here has used numpy????\n",
    "- I have used numpy before\n",
    "\n",
    "###### (should be all odf you because all of you have used it in this class before. )"
   ]
  },
  {
   "attachments": {},
   "cell_type": "markdown",
   "metadata": {},
   "source": [
    "# what is pandas?\n",
    "\n",
    "no not this\n",
    "\n",
    "this:\n",
    "\n",
    "- Pandas is a Python library used for data analysis and manipulation.\n",
    "- it can handle different types of data, including CSV files and databases.\n",
    "- it also allows you to create tables to store and work with your data.\n",
    "- it has functions for filtering, sorting, and grouping data to make it easier to work with.\n",
    "- it also has tools for visualizing data with graphs and charts.\n",
    "- it is widely used in the industry for data analysis and is a valuable skill to learn.\n",
    "- companies that use Pandas include JPMorgan Chase, Google, NASA, the New York Times, and many others. "
   ]
  },
  {
   "attachments": {},
   "cell_type": "markdown",
   "metadata": {},
   "source": [
    "# Question #2 & 3:\n",
    "- which companies use pandas? \n",
    "    - instacart, trivago\n",
    "- what is pandas?\n",
    "    - python library used for data anlysis and manipulation"
   ]
  },
  {
   "attachments": {},
   "cell_type": "markdown",
   "metadata": {},
   "source": [
    "# but why is pandas useful? \n",
    "- it can provides tools for handling and manipulating tabular data, which is a common format for storing and analyzing data.\n",
    "- it can handle different types of data, including CSV files and databases.\n",
    "- it allows you to perform tasks such as filtering, sorting, and grouping data, making it easier to analyze and work with.\n",
    "- it has functions for handling missing data and can fill in or remove missing values, which is important for accurate data analysis.\n",
    "- it also has tools for creating visualizations such as graphs and charts, making it easier to communicate insights from the data.\n",
    "- it is fast and efficient, even for large datasets, which is important for time-critical data analysis.\n",
    "- it is widely used in the industry and has a large community of users and developers, making it easy to find support and resources."
   ]
  },
  {
   "attachments": {},
   "cell_type": "markdown",
   "metadata": {},
   "source": [
    "# Question #4:\n",
    "- why is pandas useful? \n",
    "    - provide tools for analyzing and using data, common for storing/analyzing data, can handle different types of data (csv, databases), has tools like sorting, functions for missing data, has tools for visualization/charts/graphs, fast/efficient even for large datasets"
   ]
  },
  {
   "attachments": {},
   "cell_type": "markdown",
   "metadata": {},
   "source": [
    "# how do i flipping use it? its so hard, my puny brain cant understand it\n",
    "it is actually really simple\n",
    "\n",
    "here is numpy doing simple math:"
   ]
  },
  {
   "cell_type": "code",
   "execution_count": 2,
   "metadata": {},
   "outputs": [
    {
     "ename": "ModuleNotFoundError",
     "evalue": "No module named 'pandas'",
     "output_type": "error",
     "traceback": [
      "\u001b[0;31m---------------------------------------------------------------------------\u001b[0m",
      "\u001b[0;31mModuleNotFoundError\u001b[0m                       Traceback (most recent call last)",
      "Cell \u001b[0;32mIn[2], line 1\u001b[0m\n\u001b[0;32m----> 1\u001b[0m \u001b[39mimport\u001b[39;00m \u001b[39mpandas\u001b[39;00m \u001b[39mas\u001b[39;00m \u001b[39mpd\u001b[39;00m\n\u001b[1;32m      3\u001b[0m \u001b[39m# Read the CSV file into a Pandas DataFrame\u001b[39;00m\n\u001b[1;32m      4\u001b[0m df \u001b[39m=\u001b[39m pd\u001b[39m.\u001b[39mread_csv(\u001b[39m'\u001b[39m\u001b[39mexample.csv\u001b[39m\u001b[39m'\u001b[39m)\n",
      "\u001b[0;31mModuleNotFoundError\u001b[0m: No module named 'pandas'"
     ]
    }
   ],
   "source": [
    "# dummy code, just like you.\n",
    "\n",
    "import pandas as pd\n",
    "\n",
    "df = pd.read_csv('yourcsvfileidcjustpickoneidiot.csv')\n",
    "\n",
    "print(df.head())\n",
    "\n",
    "print(\"Average age:\", df['Age'].mean())\n",
    "\n",
    "females = df[df['Gender'] == 'Female']\n",
    "print(females)\n",
    "\n",
    "sorted_data = df.sort_values(by='Salary', ascending=False)\n",
    "print(sorted_data)\n",
    "\n"
   ]
  },
  {
   "attachments": {},
   "cell_type": "markdown",
   "metadata": {},
   "source": [
    "uh oh!!! no pandas 😢\n",
    "\n",
    "if see this error, enter these into your terminal: \n",
    "\n",
    "``` zsh\n",
    "pip install wheel\n",
    "pip install pandas\n",
    "```\n",
    "\n",
    "on stack overflow, it said pandas is disturbed through pip as a wheel. so you need that too. \n",
    "\n",
    "link to full forum if curious: \n",
    "https://stackoverflow.com/questions/33481974/importerror-no-module-named-pandas\n",
    "\n"
   ]
  },
  {
   "attachments": {},
   "cell_type": "markdown",
   "metadata": {},
   "source": [
    "ps: do this for this to work on ur laptop:\n",
    "``` zsh\n",
    "wget https://raw.githubusercontent.com/KKcbal/amongus/master/_notebooks/files/example.csv\n",
    "```"
   ]
  },
  {
   "attachments": {},
   "cell_type": "markdown",
   "metadata": {},
   "source": [
    "# example code on how to load a csv into a chart"
   ]
  },
  {
   "cell_type": "code",
   "execution_count": 1,
   "metadata": {},
   "outputs": [
    {
     "name": "stdout",
     "output_type": "stream",
     "text": [
      "           Name  Age  Gender Occupation\n",
      "0      John Doe   32    Male   Engineer\n",
      "1    Jane Smith   27  Female    Teacher\n",
      "2  Mike Johnson   45    Male    Manager\n",
      "3      Sara Lee   38  Female     Doctor\n",
      "4     David Kim   23    Male    Student\n",
      "Age Group\n",
      "30-40    7\n",
      "40-50    4\n",
      "<30      7\n",
      "Name: Name, dtype: int64\n"
     ]
    }
   ],
   "source": [
    "import pandas as pd\n",
    "\n",
    "# read the CSV file\n",
    "df = pd.read_csv('example.csv')\n",
    "\n",
    "# print the first five rows\n",
    "print(df.head())\n",
    "\n",
    "# define a function to assign each age to an age group\n",
    "def assign_age_group(age):\n",
    "    if age < 30:\n",
    "        return '<30'\n",
    "    elif age < 40:\n",
    "        return '30-40'\n",
    "    elif age < 50:\n",
    "        return '40-50'\n",
    "    else:\n",
    "        return '>50'\n",
    "\n",
    "# apply the function to the Age column to create a new column with age groups\n",
    "df['Age Group'] = df['Age'].apply(assign_age_group)\n",
    "\n",
    "# group by age group and count the number of people in each group\n",
    "age_counts = df.groupby('Age Group')['Name'].count()\n",
    "\n",
    "# print the age group counts\n",
    "print(age_counts)\n"
   ]
  },
  {
   "attachments": {},
   "cell_type": "markdown",
   "metadata": {},
   "source": [
    "# how to manipulate the data in pandas.  "
   ]
  },
  {
   "cell_type": "code",
   "execution_count": 2,
   "metadata": {},
   "outputs": [
    {
     "name": "stdout",
     "output_type": "stream",
     "text": [
      "           Name  Age  Gender Occupation\n",
      "0      John Doe   32    Male   Engineer\n",
      "1    Jane Smith   27  Female    Teacher\n",
      "2  Mike Johnson   45    Male    Manager\n",
      "3      Sara Lee   38  Female     Doctor\n",
      "4     David Kim   23    Male    Student\n",
      "                Name  Age  Gender               Occupation\n",
      "0           John Doe   32    Male                 Engineer\n",
      "2       Mike Johnson   45    Male                  Manager\n",
      "3           Sara Lee   38  Female                   Doctor\n",
      "6       Robert Green   41    Male                Architect\n",
      "7        Emily Davis   35  Female        Marketing Manager\n",
      "8   Carlos Hernandez   47    Male             Entrepreneur\n",
      "10         Kevin Lee   31    Male               Accountant\n",
      "12     Jacob Johnson   34    Male                   Lawyer\n",
      "13   Maria Rodriguez   39  Female               Consultant\n",
      "15    Victoria Brown   42  Female  Human Resources Manager\n",
      "17        Sophie Lee   30  Female          Project Manager\n",
      "                Name  Age  Gender               Occupation\n",
      "8   Carlos Hernandez   47    Male             Entrepreneur\n",
      "2       Mike Johnson   45    Male                  Manager\n",
      "15    Victoria Brown   42  Female  Human Resources Manager\n",
      "6       Robert Green   41    Male                Architect\n",
      "13   Maria Rodriguez   39  Female               Consultant\n",
      "3           Sara Lee   38  Female                   Doctor\n",
      "7        Emily Davis   35  Female        Marketing Manager\n",
      "12     Jacob Johnson   34    Male                   Lawyer\n",
      "0           John Doe   32    Male                 Engineer\n",
      "10         Kevin Lee   31    Male               Accountant\n",
      "17        Sophie Lee   30  Female          Project Manager\n",
      "5        Anna Garcia   29  Female       Software Developer\n",
      "14       Mark Taylor   28    Male             Web Designer\n",
      "1         Jane Smith   27  Female                  Teacher\n",
      "11      Rachel Baker   26  Female               Journalist\n",
      "9     Melissa Nguyen   25  Female         Graphic Designer\n",
      "16        Ethan Chen   24    Male       Research Assistant\n",
      "4          David Kim   23    Male                  Student\n",
      "Gender\n",
      "Female    32.333333\n",
      "Male      33.888889\n",
      "Name: Age, dtype: float64\n"
     ]
    }
   ],
   "source": [
    "import pandas as pd\n",
    "\n",
    "# load the csv file\n",
    "df = pd.read_csv('example.csv')\n",
    "\n",
    "# print the first five rows\n",
    "print(df.head())\n",
    "\n",
    "# filter the data to include only people aged 30 or older\n",
    "df_filtered = df[df['Age'] >= 30]\n",
    "\n",
    "# sort the data by age in descending order\n",
    "df_sorted = df.sort_values('Age', ascending=False)\n",
    "\n",
    "# group the data by gender and calculate the mean age for each group\n",
    "age_by_gender = df.groupby('Gender')['Age'].mean()\n",
    "\n",
    "# print the filtered data\n",
    "print(df_filtered)\n",
    "\n",
    "# print the sorted data\n",
    "print(df_sorted)\n",
    "\n",
    "# print the mean age by gender\n",
    "print(age_by_gender)\n"
   ]
  },
  {
   "attachments": {},
   "cell_type": "markdown",
   "metadata": {},
   "source": [
    "# how do i put it into a chart 😩\n",
    "here is how:"
   ]
  },
  {
   "cell_type": "code",
   "execution_count": 4,
   "metadata": {},
   "outputs": [
    {
     "ename": "ValueError",
     "evalue": "bins must increase monotonically.",
     "output_type": "error",
     "traceback": [
      "\u001b[0;31m---------------------------------------------------------------------------\u001b[0m",
      "\u001b[0;31mValueError\u001b[0m                                Traceback (most recent call last)",
      "\u001b[1;32m/home/sophia/vscode/fastpages/_notebooks/2023-04-27-Data-Analysis-Pandas.ipynb Cell 18\u001b[0m in \u001b[0;36m<cell line: 9>\u001b[0;34m()\u001b[0m\n\u001b[1;32m      <a href='vscode-notebook-cell://wsl%2Bubuntu/home/sophia/vscode/fastpages/_notebooks/2023-04-27-Data-Analysis-Pandas.ipynb#X23sdnNjb2RlLXJlbW90ZQ%3D%3D?line=6'>7</a>\u001b[0m \u001b[39m# create a bar chart of the number of people in each age group\u001b[39;00m\n\u001b[1;32m      <a href='vscode-notebook-cell://wsl%2Bubuntu/home/sophia/vscode/fastpages/_notebooks/2023-04-27-Data-Analysis-Pandas.ipynb#X23sdnNjb2RlLXJlbW90ZQ%3D%3D?line=7'>8</a>\u001b[0m age_groups \u001b[39m=\u001b[39m [\u001b[39m'\u001b[39m\u001b[39m<30\u001b[39m\u001b[39m'\u001b[39m, \u001b[39m'\u001b[39m\u001b[39m30-40\u001b[39m\u001b[39m'\u001b[39m, \u001b[39m'\u001b[39m\u001b[39m40-50\u001b[39m\u001b[39m'\u001b[39m, \u001b[39m'\u001b[39m\u001b[39m>50\u001b[39m\u001b[39m'\u001b[39m]\n\u001b[0;32m----> <a href='vscode-notebook-cell://wsl%2Bubuntu/home/sophia/vscode/fastpages/_notebooks/2023-04-27-Data-Analysis-Pandas.ipynb#X23sdnNjb2RlLXJlbW90ZQ%3D%3D?line=8'>9</a>\u001b[0m age_counts \u001b[39m=\u001b[39m pd\u001b[39m.\u001b[39;49mcut(df[\u001b[39m'\u001b[39;49m\u001b[39mAge\u001b[39;49m\u001b[39m'\u001b[39;49m], bins\u001b[39m=\u001b[39;49m[\u001b[39m0\u001b[39;49m, \u001b[39m30\u001b[39;49m, \u001b[39m40\u001b[39;49m, \u001b[39m50\u001b[39;49m, df[\u001b[39m'\u001b[39;49m\u001b[39mAge\u001b[39;49m\u001b[39m'\u001b[39;49m]\u001b[39m.\u001b[39;49mmax()], labels\u001b[39m=\u001b[39;49mage_groups, include_lowest\u001b[39m=\u001b[39;49m\u001b[39mTrue\u001b[39;49;00m)\u001b[39m.\u001b[39mvalue_counts()\n\u001b[1;32m     <a href='vscode-notebook-cell://wsl%2Bubuntu/home/sophia/vscode/fastpages/_notebooks/2023-04-27-Data-Analysis-Pandas.ipynb#X23sdnNjb2RlLXJlbW90ZQ%3D%3D?line=9'>10</a>\u001b[0m plt\u001b[39m.\u001b[39mbar(age_counts\u001b[39m.\u001b[39mindex, age_counts\u001b[39m.\u001b[39mvalues)\n\u001b[1;32m     <a href='vscode-notebook-cell://wsl%2Bubuntu/home/sophia/vscode/fastpages/_notebooks/2023-04-27-Data-Analysis-Pandas.ipynb#X23sdnNjb2RlLXJlbW90ZQ%3D%3D?line=10'>11</a>\u001b[0m plt\u001b[39m.\u001b[39mtitle(\u001b[39m'\u001b[39m\u001b[39mNumber of people in each age group\u001b[39m\u001b[39m'\u001b[39m)\n",
      "File \u001b[0;32m~/anaconda3/lib/python3.9/site-packages/pandas/core/reshape/tile.py:290\u001b[0m, in \u001b[0;36mcut\u001b[0;34m(x, bins, right, labels, retbins, precision, include_lowest, duplicates, ordered)\u001b[0m\n\u001b[1;32m    288\u001b[0m     \u001b[39m# GH 26045: cast to float64 to avoid an overflow\u001b[39;00m\n\u001b[1;32m    289\u001b[0m     \u001b[39mif\u001b[39;00m (np\u001b[39m.\u001b[39mdiff(bins\u001b[39m.\u001b[39mastype(\u001b[39m\"\u001b[39m\u001b[39mfloat64\u001b[39m\u001b[39m\"\u001b[39m)) \u001b[39m<\u001b[39m \u001b[39m0\u001b[39m)\u001b[39m.\u001b[39many():\n\u001b[0;32m--> 290\u001b[0m         \u001b[39mraise\u001b[39;00m \u001b[39mValueError\u001b[39;00m(\u001b[39m\"\u001b[39m\u001b[39mbins must increase monotonically.\u001b[39m\u001b[39m\"\u001b[39m)\n\u001b[1;32m    292\u001b[0m fac, bins \u001b[39m=\u001b[39m _bins_to_cuts(\n\u001b[1;32m    293\u001b[0m     x,\n\u001b[1;32m    294\u001b[0m     bins,\n\u001b[0;32m   (...)\u001b[0m\n\u001b[1;32m    301\u001b[0m     ordered\u001b[39m=\u001b[39mordered,\n\u001b[1;32m    302\u001b[0m )\n\u001b[1;32m    304\u001b[0m \u001b[39mreturn\u001b[39;00m _postprocess_for_cut(fac, bins, retbins, dtype, original)\n",
      "\u001b[0;31mValueError\u001b[0m: bins must increase monotonically."
     ]
    }
   ],
   "source": [
    "import pandas as pd\n",
    "import matplotlib.pyplot as plt\n",
    "\n",
    "# read the CSV file\n",
    "df = pd.read_csv('example.csv')\n",
    "\n",
    "# create a bar chart of the number of people in each age group\n",
    "age_groups = ['<30', '30-40', '40-50', '>50']\n",
    "age_counts = pd.cut(df['Age'], bins=[0, 30, 40, 50, df['Age'].max()], labels=age_groups, include_lowest=True).value_counts()\n",
    "plt.bar(age_counts.index, age_counts.values)\n",
    "plt.title('Number of people in each age group')\n",
    "plt.xlabel('Age group')\n",
    "plt.ylabel('Number of people')\n",
    "plt.show()\n",
    "\n",
    "# create a pie chart of the gender distribution\n",
    "gender_counts = df['Gender'].value_counts()\n",
    "plt.pie(gender_counts.values, labels=gender_counts.index, autopct='%1.1f%%')\n",
    "plt.title('Gender distribution')\n",
    "plt.show()\n",
    "\n",
    "# create a scatter plot of age vs. income\n",
    "plt.scatter(df['Age'], df['Income'])\n",
    "plt.title('Age vs. Income')\n",
    "plt.xlabel('Age')\n",
    "plt.ylabel('Income')\n",
    "plt.show()\n"
   ]
  },
  {
   "attachments": {},
   "cell_type": "markdown",
   "metadata": {},
   "source": [
    "uh oh!!!! another error!??!!??!?!  install this library: \n",
    "```zsh\n",
    "pip install matplotlib\n",
    "```"
   ]
  },
  {
   "cell_type": "code",
   "execution_count": 5,
   "metadata": {},
   "outputs": [
    {
     "data": {
      "image/png": "[encoded data removed]",
      "text/plain": [
       "<Figure size 432x288 with 1 Axes>"
      ]
     },
     "metadata": {
      "needs_background": "light"
     },
     "output_type": "display_data"
    }
   ],
   "source": [
    "import pandas as pd\n",
    "import matplotlib.pyplot as plt\n",
    "import numpy as np\n",
    "\n",
    "# read the CSV file\n",
    "df = pd.read_csv('example.csv')\n",
    "\n",
    "# define age groups\n",
    "age_groups = ['<30', '30-40', '40-50', '>50']\n",
    "\n",
    "# create a new column with the age group for each person\n",
    "df['Age Group'] = pd.cut(df['Age'], bins=[0, 30, 40, 50, np.inf], labels=age_groups, include_lowest=True)\n",
    "\n",
    "# group by age group and count the number of people in each group\n",
    "age_counts = df.groupby('Age Group')['Name'].count()\n",
    "\n",
    "# create a bar chart of the age counts\n",
    "age_counts.plot(kind='bar')\n",
    "\n",
    "# set the title and axis labels\n",
    "plt.title('Number of People in Each Age Group')\n",
    "plt.xlabel('Age Group')\n",
    "plt.ylabel('Number of People')\n",
    "\n",
    "# show the chart\n",
    "plt.show()\n"
   ]
  },
  {
   "attachments": {},
   "cell_type": "markdown",
   "metadata": {},
   "source": [
    "magic!!!!!!"
   ]
  },
  {
   "attachments": {},
   "cell_type": "markdown",
   "metadata": {},
   "source": [
    "# Hacks\n",
    "1. make your own data using your brian, google or chatgpt, should look different than mine. \n",
    "2. modify my code or write your own\n",
    "3. output your data other than a bar graph.\n",
    "5. write an 850+ word essay on how pandas, python or irl, affected your life. If AI score below 85%, then -1 grading point\n",
    "4. answer the questions below, the more explained the better. \n",
    "\n",
    "## Questions\n",
    "1. What are the two primary data structures in pandas and how do they differ?\n",
    "    - Series is one-dimensional while a dataframe is 2-dimensional.\n",
    "2. How do you read a CSV file into a pandas DataFrame?\n",
    "    - Pandas read_csv() function to read a CSV file.\n",
    "3. How do you select a single column from a pandas DataFrame?\n",
    "    - You do the command ``df['column-name']``\n",
    "4. How do you filter rows in a pandas DataFrame based on a condition?\n",
    "    - ``df[df['column-name']=value]``\n",
    "5. How do you group rows in a pandas DataFrame by a particular column?\n",
    "    - ``df.groupby('name')['name']``\n",
    "6. How do you aggregate data in a pandas DataFrame using functions like sum and mean?\n",
    "    - ``df.groupby['column-name'].mean()``\n",
    "7. How do you handle missing values in a pandas DataFrame?\n",
    "    - you can drop rows or columns with a missing value with the command ``df.dropna()``\n",
    "8. How do you merge two pandas DataFrames together?\n",
    "    - ``pd.merge(left=dfname1, right=dfname2, left_on='column-name1', right_on='column-name2)``\n",
    "9. How do you export a pandas DataFrame to a CSV file?\n",
    "    - ``df.to_csv('file_name.csv')``\n",
    "10. What is the difference between a Series and a DataFrame in Pandas?\n",
    "    - series is only 1-d, but Dataframe is 2-d\n"
   ]
  },
  {
   "cell_type": "code",
   "execution_count": 11,
   "metadata": {},
   "outputs": [
    {
     "name": "stdout",
     "output_type": "stream",
     "text": [
      "                                               title  \\\n",
      "0  Harry Potter and the Half-Blood Prince (Harry ...   \n",
      "1  Harry Potter and the Order of the Phoenix (Har...   \n",
      "2  Harry Potter and the Chamber of Secrets (Harry...   \n",
      "3  Harry Potter and the Prisoner of Azkaban (Harr...   \n",
      "4  Harry Potter Boxed Set  Books 1-5 (Harry Potte...   \n",
      "\n",
      "                      authors  average_rating    num_pages  ratings_count  \\\n",
      "0  J.K. Rowling/Mary GrandPré            4.57          652        2095690   \n",
      "1  J.K. Rowling/Mary GrandPré            4.49          870        2153167   \n",
      "2                J.K. Rowling            4.42          352           6333   \n",
      "3  J.K. Rowling/Mary GrandPré            4.56          435        2339585   \n",
      "4  J.K. Rowling/Mary GrandPré            4.78         2690          41428   \n",
      "\n",
      "   text_reviews_count  \n",
      "0               27591  \n",
      "1               29221  \n",
      "2                 244  \n",
      "3               36325  \n",
      "4                 164  \n"
     ]
    }
   ],
   "source": [
    "import pandas as pd\n",
    "\n",
    "# read the CSV file\n",
    "df = pd.read_csv('datasets/books.csv')\n",
    "\n",
    "df = df.drop(columns=['bookID', 'isbn', 'isbn13', 'language_code', 'publication_date', 'publisher'])\n",
    "\n",
    "print(df.head())"
   ]
  },
  {
   "cell_type": "code",
   "execution_count": 20,
   "metadata": {},
   "outputs": [
    {
     "name": "stdout",
     "output_type": "stream",
     "text": [
      "Page-Group\n",
      "0-1       8\n",
      "2-3      15\n",
      "3-4    2154\n",
      "4-5    1891\n",
      "Name: title, dtype: int64\n"
     ]
    }
   ],
   "source": [
    "df.dropna()\n",
    "\n",
    "\n",
    "def assign_average_rating(rating):\n",
    "    if rating <= 1:\n",
    "        return '0-1'\n",
    "    elif rating < 2:\n",
    "        return '1-2'\n",
    "    elif rating < 3:\n",
    "        return '2-3'\n",
    "    elif rating < 4:\n",
    "        return '3-4'\n",
    "    else:\n",
    "        return '4-5'\n",
    "\n",
    "df['Page-Group'] = df['average_rating'].apply(assign_average_rating)\n",
    "\n",
    "rating_counts = df.groupby('Page-Group')['title'].count()\n",
    "\n",
    "# print the age group counts\n",
    "print(rating_counts)\n"
   ]
  },
  {
   "cell_type": "code",
   "execution_count": 26,
   "metadata": {},
   "outputs": [
    {
     "name": "stdout",
     "output_type": "stream",
     "text": [
      "                                               title  \\\n",
      "0  Harry Potter and the Half-Blood Prince (Harry ...   \n",
      "1  Harry Potter and the Order of the Phoenix (Har...   \n",
      "2  Harry Potter and the Chamber of Secrets (Harry...   \n",
      "3  Harry Potter and the Prisoner of Azkaban (Harr...   \n",
      "4  Harry Potter Boxed Set  Books 1-5 (Harry Potte...   \n",
      "\n",
      "                      authors  average_rating    num_pages  ratings_count  \\\n",
      "0  J.K. Rowling/Mary GrandPré            4.57          652        2095690   \n",
      "1  J.K. Rowling/Mary GrandPré            4.49          870        2153167   \n",
      "2                J.K. Rowling            4.42          352           6333   \n",
      "3  J.K. Rowling/Mary GrandPré            4.56          435        2339585   \n",
      "4  J.K. Rowling/Mary GrandPré            4.78         2690          41428   \n",
      "\n",
      "   text_reviews_count Page-Group  \n",
      "0               27591        4-5  \n",
      "1               29221        4-5  \n",
      "2                 244        4-5  \n",
      "3               36325        4-5  \n",
      "4                 164        4-5  \n",
      "                                                  title  \\\n",
      "624   Comoediae 1: Acharenses/Equites/Nubes/Vespae/P...   \n",
      "1243  Middlesex Borough (Images of America: New Jersey)   \n",
      "786                   Willem de Kooning: Late Paintings   \n",
      "855   Literature Circle Guide: Bridge to Terabithia:...   \n",
      "4     Harry Potter Boxed Set  Books 1-5 (Harry Potte...   \n",
      "\n",
      "                                   authors  average_rating    num_pages  \\\n",
      "624    Aristophanes/F.W. Hall/W.M. Geldart            5.00          364   \n",
      "1243  Middlesex Borough Heritage Committee            5.00          128   \n",
      "786        Julie Sylvester/David Sylvester            5.00           83   \n",
      "855                         Tara MacCarthy            5.00           32   \n",
      "4               J.K. Rowling/Mary GrandPré            4.78         2690   \n",
      "\n",
      "      ratings_count  text_reviews_count Page-Group  \n",
      "624               0                   0        4-5  \n",
      "1243              2                   0        4-5  \n",
      "786               1                   0        4-5  \n",
      "855               4                   1        4-5  \n",
      "4             41428                 164        4-5  \n",
      "authors\n",
      "A.S. Byatt                                            3.65\n",
      "Abdul Rahman Munif/Peter Theroux                      4.13\n",
      "Abigail Adams/Frank Shuffelton                        4.14\n",
      "Abraham Lincoln/Michael McCurdy                       4.53\n",
      "Adam Ginsberg                                         3.48\n",
      "                                                      ... \n",
      "Zolar                                                 3.68\n",
      "Zoë Heller                                            3.71\n",
      "Åsne Seierstad/Ingrid Christopherson                  3.77\n",
      "Émile Zola/Ernest Alfred Vizetelly/Henry Vizetelly    3.91\n",
      "Éric-Emmanuel Schmitt                                 3.82\n",
      "Name: average_rating, Length: 2597, dtype: float64\n"
     ]
    }
   ],
   "source": [
    "df_filtered = df[df['average_rating'] >= 3.5]\n",
    "\n",
    "# sort the data by age in descending order\n",
    "df_sorted = df.sort_values('average_rating', ascending=False)\n",
    "\n",
    "# group the data by gender and calculate the mean age for each group\n",
    "rating_by_author = df.groupby('authors')['average_rating'].mean()\n",
    "\n",
    "# print the filtered data\n",
    "print(df_filtered.head())\n",
    "\n",
    "# print the sorted data\n",
    "print(df_sorted.head())\n",
    "\n",
    "# print the mean age by gender\n",
    "print(rating_by_author)\n"
   ]
  },
  {
   "cell_type": "code",
   "execution_count": 29,
   "metadata": {},
   "outputs": [
    {
     "data": {
      "image/png": "[encoded data removed]",
      "text/plain": [
       "<Figure size 432x288 with 1 Axes>"
      ]
     },
     "metadata": {
      "needs_background": "light"
     },
     "output_type": "display_data"
    },
    {
     "data": {
      "image/png": "[encoded data removed]",
      "text/plain": [
       "<Figure size 432x288 with 1 Axes>"
      ]
     },
     "metadata": {
      "needs_background": "light"
     },
     "output_type": "display_data"
    }
   ],
   "source": [
    "rating_groups = ['0-1', '1-2', '2-3', '3-4', '4-5']\n",
    "rating_counts = pd.cut(df['average_rating'], bins=[0, 1, 2, 3, 4, df['average_rating'].max()], labels=rating_groups, include_lowest=True).value_counts()\n",
    "plt.bar(rating_counts.index, rating_counts.values)\n",
    "plt.title('Number of books in each rating group')\n",
    "plt.xlabel('Rating group')\n",
    "plt.ylabel('Number of books')\n",
    "plt.show()\n",
    "\n",
    "\n",
    "# create a scatter plot of number of ratings vs. rating\n",
    "plt.scatter(df['ratings_count'], df['average_rating'])\n",
    "plt.title('Ratings count VS Average rating')\n",
    "plt.xlabel('Ratings count')\n",
    "plt.ylabel('Average rating')\n",
    "plt.show()\n"
   ]
  }
 ],
 "metadata": {
  "kernelspec": {
   "display_name": "Python 3",
   "language": "python",
   "name": "python3"
  },
  "language_info": {
   "codemirror_mode": {
    "name": "ipython",
    "version": 3
   },
   "file_extension": ".py",
   "mimetype": "text/x-python",
   "name": "python",
   "nbconvert_exporter": "python",
   "pygments_lexer": "ipython3",
   "version": "3.9.12"
  },
  "orig_nbformat": 4
 },
 "nbformat": 4,
 "nbformat_minor": 2
}
