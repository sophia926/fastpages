{
 "cells": [
  {
   "cell_type": "markdown",
   "metadata": {},
   "source": [
    "# Javascript Web Page using an API\n",
    "> This is my documentation of API part 3.\n",
    "\n",
    "- layout: default\n",
    "- title: Javascript Web Page using an API\n",
    "- categories: [week9]"
   ]
  },
  {
   "cell_type": "markdown",
   "metadata": {},
   "source": [
    "### Hacks\n",
    "Some similarities I see to the jokes API is that they both have constant variables and fetch the API. They also both use catching errors and then statements."
   ]
  },
  {
   "cell_type": "markdown",
   "metadata": {},
   "source": [
    "https://docs.google.com/document/d/1O6yhw1Icx8SvaOF4MPpLskonw8GpxW7RyvCSbcjFOmk/edit\n",
    "\n",
    "Click the above link to see my comments for the code"
   ]
  }
 ],
 "metadata": {
  "kernelspec": {
   "display_name": "Python 3.8.10 64-bit",
   "language": "python",
   "name": "python3"
  },
  "language_info": {
   "name": "python",
   "version": "3.8.10"
  },
  "orig_nbformat": 4,
  "vscode": {
   "interpreter": {
    "hash": "916dbcbb3f70747c44a77c7bcd40155683ae19c65e1c03b4aa3499c5328201f1"
   }
  }
 },
 "nbformat": 4,
 "nbformat_minor": 2
}
