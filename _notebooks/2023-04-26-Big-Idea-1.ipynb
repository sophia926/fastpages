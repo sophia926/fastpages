{
 "cells": [
  {
   "attachments": {},
   "cell_type": "markdown",
   "metadata": {},
   "source": [
    "# Big Idea 1 - Binary Math and Truth Tables 4/26\n",
    "- title: Big Idea 1 Binary Math and Truth Tables Hacks 4/26\n",
    "- toc: true\n",
    "- categories: [week31]"
   ]
  },
  {
   "attachments": {},
   "cell_type": "markdown",
   "metadata": {},
   "source": [
    "### GitHubPages Hacks\n",
    "Github pages is a hosting service website. Search up another hosting service website other than Github's and write at least one benefit, advantage, or feature at is different from other hosting service websites.\n",
    "\n",
    "- Wix is another hosting service website.\n",
    "    - Benefits: Free, user-friendly (friendly GUI so you don't need to learn how to code in HTML/JS/CSS, etc.), can start from many different templates, advanced SEO tools to help you get your website/business out on the Internet and known to the public"
   ]
  },
  {
   "attachments": {},
   "cell_type": "markdown",
   "metadata": {},
   "source": [
    "### Binary Hacks\n",
    "- I chose to do just the 0.9 hacks of multiplying binary numbers.\n",
    "- See my [binary hacks page here](https://sophia926.github.io/fastpages/binary/)"
   ]
  },
  {
   "cell_type": "code",
   "execution_count": null,
   "metadata": {
    "vscode": {
     "languageId": "html"
    }
   },
   "outputs": [],
   "source": [
    "<form>\n",
    "        <label>Enter binary number #1</label>\n",
    "        <input id=\"num1\">\n",
    "        <br>\n",
    "        <label>Enter binary number #2</label>\n",
    "        <input id=\"num2\">\n",
    "    </form>\n",
    "    <button onclick = \"multiplyBinaryStrings()\" > Multiply Binary Numbers </button>\n",
    "\n",
    "    <br>\n",
    "    <p id=\"bin_result\"></p>\n",
    "    <br>\n",
    "    <p id=\"dec_result\"></p>\n",
    "\n",
    "    <script>\n",
    "\n",
    "        function multiplyBinaryStrings (){\n",
    "            let int1 = parseInt(document.getElementById(\"num1\").value, 2);\n",
    "            let int2 = parseInt(document.getElementById(\"num2\").value, 2);\n",
    "            console.log(int1);\n",
    "            let binresult = (int1 * int2).toString(2);\n",
    "            document.getElementById(\"bin_result\").innerHTML = \"Product in binary: \" + String(binresult);\n",
    "            let decresult = parseInt(parseInt(binresult, 2), 10);\n",
    "            document.getElementById(\"dec_result\").innerHTML = \"Product in decimal: \" + String(decresult);\n",
    "        }\n",
    "    </script>"
   ]
  }
 ],
 "metadata": {
  "language_info": {
   "name": "python"
  },
  "orig_nbformat": 4
 },
 "nbformat": 4,
 "nbformat_minor": 2
}
