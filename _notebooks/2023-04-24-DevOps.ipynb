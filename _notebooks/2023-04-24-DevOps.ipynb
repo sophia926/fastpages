{
 "cells": [
  {
   "attachments": {},
   "cell_type": "markdown",
   "metadata": {},
   "source": [
    "# DevOps Hacks\n",
    "- title: DevOps 4/24\n",
    "- toc: true\n",
    "- categories: [week31]"
   ]
  },
  {
   "attachments": {},
   "cell_type": "markdown",
   "metadata": {},
   "source": [
    "### KASM HACKS:\n",
    "\n",
    "In 3-4 sentences, please explain the significance of virtual desktops and KASM. How can virtual desktops such as these be utilized in our AP CSP environment? (0.45)\n",
    "- Virtual desktop helps users access a desktop environment using an external device. For example, you can access programming tools without specific hardware/software installations on separate devices. In APCSP, we can access other programming tools in our WSL environment!\n",
    "\n",
    "Attempt to work through the KASM setup with your team. Attach two screenshots to show that you have successfully gone through the setup: The first screenshot of KASM generating your credentials, and the second screenshot of the KASM workspace once you have logged in. (0.45)\n",
    "\n",
    "![](../images/week31kasm.png)\n",
    "\n",
    "![](../images/week31kasm2.png)"
   ]
  },
  {
   "attachments": {},
   "cell_type": "markdown",
   "metadata": {},
   "source": [
    "### AWS DATABASES HACKS:\n",
    "\n",
    "#### Quiz 1\n",
    "What is the main difference between relational and non-relational databases?\n",
    "Answer: C (Relational databases are based on tables and use SQL, while non-relational databases are based on collections and use JSON-like documents.)\n",
    "- Explanation: Relational databases store data in rows/columns (like SQL), but non-relational databases don't. They store it in JSOn formats.\n",
    "\n",
    "Which AWS database service is best suited for applications that require low-latency speed?\n",
    "Answer: A (Amazon ElastiCache)\n",
    "- Explanation: Low latency applications can process high volumes of data with minimal delay or latency. Thus ElastiCache is the most suitable option.\n",
    "\n",
    "What is the purpose of the code example provided in the lesson?\n",
    "Answer: C. To provide an example of how to connect to a database instance in RDS using Python.\n",
    "\n",
    "\n",
    "#### Quiz 2\n",
    "Which of the following is not an AWS database option?\n",
    "Answer: C (SQLite)\n",
    "- Explanation: SQLite is not an option in an AWS database\n",
    "\n",
    "Which of the following is a file-based, lightweight RDBMS?\n",
    "Answer: D\n",
    "D. SQLite Which AWS service enables you to store and query highly connected datasets?\n",
    "C. Amazon Neptune\n",
    "Explanation: Neputune enables you to store data and query entagnled datasets."
   ]
  },
  {
   "attachments": {},
   "cell_type": "markdown",
   "metadata": {},
   "source": [
    "### DuckDNS and AWS HACKS:\n",
    "\n",
    "HACK 1: Create a diagram (Canva). What are the pros and cons of using DuckDNS? Show a diagram of an application running on AWS using a DuckDNS system.\n",
    "![](../images/week31duckdns.png)\n",
    "HACK 2: Write a reflection. Why do we use DNS? How does DuckDNS work? What makes DuckDNS unique? How is DuckDNS useful for our projects? What are the steps to setup DuckDNS?\n",
    "- DNS is Domain name system, and its purpose is to translate a domain name into the appropriate IP address and this makes it user friendly because instead of typing in an IP address to access a website, users can instead type a word which is much easier to remember, such as \"google.com\" which everyone knows. DuckDNS helps users  assign a domain name to a dynamic IP. It's unique in the way that it is free, unlike many other services, however it does have limited functionality because of this. you can use it for projects to prive a hostname that can be accessed ona ny device.\n",
    "HACK 4: In 2-3 complete sentences, talk about any outdated Nginx/Docker functionalities that may need to be addressed or any confusions you may have in regards to the deployment process from Trimesters 1 and 2.\n",
    "- I had some difficuties in the deployment process. For example, I had trouble with finding the right files and also with version compatibility. I also had trouble managiing my dependences sometimes.\n",
    "HACK 5: Create a Venn Diagram comparing Nginx with Lighttpd.\n",
    "![](../images/week31venn.png)\n",
    "HACK 6: Complete the Python quiz and attach your output from the notebook (should be done once you do the quiz.)\n",
    "![](../images/week31quiz.png)"
   ]
  }
 ],
 "metadata": {
  "language_info": {
   "name": "python"
  },
  "orig_nbformat": 4
 },
 "nbformat": 4,
 "nbformat_minor": 2
}
