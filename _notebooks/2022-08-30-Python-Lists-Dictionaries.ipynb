{
 "cells": [
  {
   "cell_type": "markdown",
   "metadata": {},
   "source": [
    "# Week 2: Python Lists and Dictionaries\n",
    "- title: Week 2 - Python Lists and Dictionaries\n",
    "- toc: true \n",
    "- badges: true\n",
    "- comments: true\n",
    "- categories: [week2]"
   ]
  },
  {
   "cell_type": "markdown",
   "metadata": {},
   "source": [
    "### List of All Hacks\n",
    "1. Add a couple of records to the InfoDb\n",
    "2. Try to do a for loop with an index\n",
    "3. Would it be possible to output data in a reverse order?\n",
    "4. Are there other methods that can be performed on lists?\n",
    "5. Could you create new or add to dictionary data set? Could you do it with input?\n",
    "6. Make a quiz that stores in a List of Dictionaries."
   ]
  },
  {
   "cell_type": "markdown",
   "metadata": {},
   "source": [
    "### Hack #1: Add records to the InfoDb\n",
    "\n",
    "Here is my InfoDb where I added two new records to it."
   ]
  },
  {
   "cell_type": "code",
   "execution_count": 3,
   "metadata": {},
   "outputs": [
    {
     "name": "stdout",
     "output_type": "stream",
     "text": [
      "[{'FirstName': 'John', 'LastName': 'Mortensen', 'DOB': 'October 21', 'Residence': 'San Diego', 'Email': 'jmortensen@powayusd.com', 'Owns_Cars': ['2015-Fusion', '2011-Ranger', '2003-Excursion', '1997-F350', '1969-Cadillac']}, {'FirstName': 'Sunny', 'LastName': 'Naidu', 'DOB': 'August 2', 'Residence': 'Temecula', 'Email': 'snaidu@powayusd.com', 'Owns_Cars': ['4Runner']}, {'FirstName': 'Sophia', 'LastName': 'Tang', 'DOB': 'Septembr 4', 'Residence': 'San Diego', 'Email': 'sophiat14470@powayusd.com', 'Owns_Cars': ['None']}, {'FirstName': 'Random', 'LastName': 'Person', 'DOB': 'January 1', 'Residence': 'New York City', 'Email': 'randomemail@domain.com', 'Owns_Cars': ['Tesla']}]\n"
     ]
    }
   ],
   "source": [
    "# Define an empty List called InfoDb\n",
    "InfoDb = []\n",
    "\n",
    "# Append to List a Dictionary of key/values related to a person and cars\n",
    "InfoDb.append({\n",
    "    \"FirstName\": \"John\",\n",
    "    \"LastName\": \"Mortensen\",\n",
    "    \"DOB\": \"October 21\",\n",
    "    \"Residence\": \"San Diego\",\n",
    "    \"Email\": \"jmortensen@powayusd.com\",\n",
    "    \"Owns_Cars\": [\"2015-Fusion\", \"2011-Ranger\", \"2003-Excursion\", \"1997-F350\", \"1969-Cadillac\"]\n",
    "})\n",
    "\n",
    "# Append to List a 2nd Dictionary of key/values\n",
    "InfoDb.append({\n",
    "    \"FirstName\": \"Sunny\",\n",
    "    \"LastName\": \"Naidu\",\n",
    "    \"DOB\": \"August 2\",\n",
    "    \"Residence\": \"Temecula\",\n",
    "    \"Email\": \"snaidu@powayusd.com\",\n",
    "    \"Owns_Cars\": [\"4Runner\"]\n",
    "})\n",
    "\n",
    "# Append to List a 2nd Dictionary of key/values\n",
    "InfoDb.append({\n",
    "    \"FirstName\": \"Sophia\",\n",
    "    \"LastName\": \"Tang\",\n",
    "    \"DOB\": \"Septembr 4\",\n",
    "    \"Residence\": \"San Diego\",\n",
    "    \"Email\": \"sophiat14470@powayusd.com\",\n",
    "    \"Owns_Cars\": [\"None\"]\n",
    "})\n",
    "\n",
    "# Append to List a 2nd Dictionary of key/values\n",
    "InfoDb.append({\n",
    "    \"FirstName\": \"Random\",\n",
    "    \"LastName\": \"Person\",\n",
    "    \"DOB\": \"January 1\",\n",
    "    \"Residence\": \"New York City\",\n",
    "    \"Email\": \"randomemail@domain.com\",\n",
    "    \"Owns_Cars\": [\"Tesla\"]\n",
    "})\n",
    "\n",
    "# Print the data structure\n",
    "print(InfoDb)"
   ]
  },
  {
   "cell_type": "markdown",
   "metadata": {},
   "source": [
    "Define the printing data function (prints the data from the input)"
   ]
  },
  {
   "cell_type": "code",
   "execution_count": 6,
   "metadata": {},
   "outputs": [],
   "source": [
    "# given and index this will print InfoDb content\n",
    "def print_data(d_rec):\n",
    "    print(d_rec[\"FirstName\"], d_rec[\"LastName\"])  # using comma puts space between values\n",
    "    print(\"\\t\", \"Residence:\", d_rec[\"Residence\"]) # \\t is a tab indent\n",
    "    print(\"\\t\", \"Birth Day:\", d_rec[\"DOB\"])\n",
    "    print(\"\\t\", \"Cars: \", end=\"\")  # end=\"\" make sure no return occurs\n",
    "    print(\", \".join(d_rec[\"Owns_Cars\"]))  # join allows printing a string list with separator\n",
    "    print()"
   ]
  },
  {
   "cell_type": "markdown",
   "metadata": {},
   "source": [
    "### Hack #2: For loop with an index\n",
    "\n",
    "For loop with an index to print all the InfoDb"
   ]
  },
  {
   "cell_type": "code",
   "execution_count": 5,
   "metadata": {},
   "outputs": [
    {
     "name": "stdout",
     "output_type": "stream",
     "text": [
      "John Mortensen\n",
      "\t Residence: San Diego\n",
      "\t Birth Day: October 21\n",
      "\t Cars: 2015-Fusion, 2011-Ranger, 2003-Excursion, 1997-F350, 1969-Cadillac\n",
      "\n",
      "Sunny Naidu\n",
      "\t Residence: Temecula\n",
      "\t Birth Day: August 2\n",
      "\t Cars: 4Runner\n",
      "\n",
      "Sophia Tang\n",
      "\t Residence: San Diego\n",
      "\t Birth Day: Septembr 4\n",
      "\t Cars: None\n",
      "\n",
      "Random Person\n",
      "\t Residence: New York City\n",
      "\t Birth Day: January 1\n",
      "\t Cars: Tesla\n",
      "\n"
     ]
    }
   ],
   "source": [
    "for record in range(0, len(InfoDb)):\n",
    "    print_data(InfoDb[record])"
   ]
  },
  {
   "cell_type": "markdown",
   "metadata": {},
   "source": [
    "### Hack #3: Output data in reverse order\n",
    "I used the reversed build-in python function"
   ]
  },
  {
   "cell_type": "code",
   "execution_count": 6,
   "metadata": {},
   "outputs": [
    {
     "name": "stdout",
     "output_type": "stream",
     "text": [
      "Random Person\n",
      "\t Residence: New York City\n",
      "\t Birth Day: January 1\n",
      "\t Cars: Tesla\n",
      "\n",
      "Sophia Tang\n",
      "\t Residence: San Diego\n",
      "\t Birth Day: Septembr 4\n",
      "\t Cars: None\n",
      "\n",
      "Sunny Naidu\n",
      "\t Residence: Temecula\n",
      "\t Birth Day: August 2\n",
      "\t Cars: 4Runner\n",
      "\n",
      "John Mortensen\n",
      "\t Residence: San Diego\n",
      "\t Birth Day: October 21\n",
      "\t Cars: 2015-Fusion, 2011-Ranger, 2003-Excursion, 1997-F350, 1969-Cadillac\n",
      "\n"
     ]
    }
   ],
   "source": [
    "for record in reversed(range(0, len(InfoDb))):\n",
    "    print_data(InfoDb[record])"
   ]
  },
  {
   "cell_type": "markdown",
   "metadata": {},
   "source": [
    "### Hack #4: Other Methods with Lists\n",
    "Find greatest and least number in a list"
   ]
  },
  {
   "cell_type": "code",
   "execution_count": 7,
   "metadata": {},
   "outputs": [
    {
     "name": "stdout",
     "output_type": "stream",
     "text": [
      "The greatest in this list is 90\n",
      "The least in this list is 2\n"
     ]
    }
   ],
   "source": [
    "numList = [4, 7, 2, 67, 45, 90, 21, 34, 65, 31]\n",
    "\n",
    "# Find the max of the list\n",
    "\n",
    "greatest = 0\n",
    "for i in range(0, 10):\n",
    "    if (numList[i] > greatest):\n",
    "        greatest = numList[i]\n",
    "print(\"The greatest in this list is \" + str(greatest))\n",
    "\n",
    "least = 199999\n",
    "for i in range(0, 10):\n",
    "    if (numList[i] < least):\n",
    "        least = numList[i]\n",
    "print(\"The least in this list is \" + str(least))"
   ]
  },
  {
   "cell_type": "markdown",
   "metadata": {},
   "source": [
    "### Hack #5: Get Dictionary Values with Input\n",
    "It asks you how many records you want to input and even allows you to put in a list of cars!"
   ]
  },
  {
   "cell_type": "code",
   "execution_count": 4,
   "metadata": {},
   "outputs": [
    {
     "name": "stdout",
     "output_type": "stream",
     "text": [
      "[{'FirstName': 'Sophia', 'LastName': 'Tang', 'DOB': '9/4', 'Residence': 'San Diego', 'Email': 'email@email.com', 'Owns_Cars': ['car1', 'car2']}]\n"
     ]
    }
   ],
   "source": [
    "newDb = []\n",
    "\n",
    "num = input(\"How many records do you want to enter in?\")\n",
    "\n",
    "def getInput():\n",
    "    inputQuestions = [\"Enter in a first name: \", \"Enter in a last name: \", \"Enter in a DOB: \", \"Enter in a residence: \", \"Enter in an email: \", \"How many cars does this person have?\", \"Enter in owned car: \"]\n",
    "    inputList = []\n",
    "    for i in range(0, 5):\n",
    "        temp = input(inputQuestions[i])\n",
    "        inputList.append(temp)\n",
    "    cars = int(input(inputQuestions[5]))\n",
    "    for i in range (0, cars):\n",
    "        temp = input(inputQuestions[6])\n",
    "        inputList.append(temp)\n",
    "    return(inputList)\n",
    "\n",
    "for i in range(0, int(num)):\n",
    "    carsList = []\n",
    "    add = getInput()\n",
    "    for j in range (5, len(add)):\n",
    "        carsList.append(add[j])\n",
    "    newDb.append({\n",
    "        \"FirstName\": add[0],\n",
    "        \"LastName\": add[1],\n",
    "        \"DOB\": add[2],\n",
    "        \"Residence\": add[3],\n",
    "        \"Email\": add[4],\n",
    "        \"Owns_Cars\": carsList\n",
    "    })\n",
    "\n",
    "print(newDb)"
   ]
  },
  {
   "cell_type": "markdown",
   "metadata": {},
   "source": [
    "### Hack #6: Quiz Using Dictionaries\n",
    "I made a quiz about myself using python dictionaries!"
   ]
  },
  {
   "cell_type": "code",
   "execution_count": 9,
   "metadata": {},
   "outputs": [
    {
     "name": "stdout",
     "output_type": "stream",
     "text": [
      "Welcome to a quiz about me :)\n",
      "Sophia is correct!\n",
      "noodles is correct!\n",
      "September is correct!\n",
      "DNHS is correct!\n",
      "You scored4/4\n",
      "Your percentage is 100.0%! Good work!\n"
     ]
    }
   ],
   "source": [
    "import getpass, sys\n",
    "\n",
    "def question(prompt, answer):\n",
    "    msg = input(\"Question: \" + prompt)\n",
    "    if msg == answer:\n",
    "        print(msg + \" is correct!\")\n",
    "        return(1)\n",
    "    else:\n",
    "        print(msg + \" is incorrect!\")\n",
    "        return(0)\n",
    "\n",
    "print(\"Welcome to a quiz about me :)\")\n",
    "\n",
    "\n",
    "# Append to List a Dictionary of key/values related to a person and cars\n",
    "quiz = {\n",
    "    \"1. What is my name?\": \"Sophia\",\n",
    "    \"2. What is my favorite food (one word)?\": \"noodles\",\n",
    "    \"3. What month am I born in?\": \"September\",\n",
    "    \"4. What school do I go to (four letters, all caps)?\": \"DNHS\",\n",
    "}\n",
    "\n",
    "numqs = 4\n",
    "correct = 0\n",
    "\n",
    "for item in quiz:\n",
    "    num = question(item, quiz[item])\n",
    "    correct = correct + num\n",
    "\n",
    "print(\"You scored\" + str(correct) +\"/\" + str(numqs))\n",
    "print(\"Your percentage is \" + str(correct/numqs*100) + \"%! Good work!\")"
   ]
  },
  {
   "cell_type": "markdown",
   "metadata": {},
   "source": [
    "### Using While Loop"
   ]
  },
  {
   "cell_type": "code",
   "execution_count": 10,
   "metadata": {},
   "outputs": [
    {
     "name": "stdout",
     "output_type": "stream",
     "text": [
      "While loop output\n",
      "\n",
      "John Mortensen\n",
      "\t Residence: San Diego\n",
      "\t Birth Day: October 21\n",
      "\t Cars: 2015-Fusion, 2011-Ranger, 2003-Excursion, 1997-F350, 1969-Cadillac\n",
      "\n",
      "Sunny Naidu\n",
      "\t Residence: Temecula\n",
      "\t Birth Day: August 2\n",
      "\t Cars: 4Runner\n",
      "\n",
      "Sophia Tang\n",
      "\t Residence: San Diego\n",
      "\t Birth Day: Septembr 4\n",
      "\t Cars: None\n",
      "\n",
      "Random Person\n",
      "\t Residence: New York City\n",
      "\t Birth Day: January 1\n",
      "\t Cars: Tesla\n",
      "\n"
     ]
    }
   ],
   "source": [
    "# while loop algorithm contains an initial n and an index incrementing statement (n += 1)\n",
    "def while_loop():\n",
    "    print(\"While loop output\\n\")\n",
    "    i = 0\n",
    "    while i < len(InfoDb):\n",
    "        record = InfoDb[i]\n",
    "        print_data(record)\n",
    "        i += 1\n",
    "    return\n",
    "\n",
    "while_loop()"
   ]
  },
  {
   "cell_type": "markdown",
   "metadata": {},
   "source": [
    "### Recursion"
   ]
  },
  {
   "cell_type": "code",
   "execution_count": 11,
   "metadata": {},
   "outputs": [
    {
     "name": "stdout",
     "output_type": "stream",
     "text": [
      "Recursive loop output\n",
      "\n",
      "John Mortensen\n",
      "\t Residence: San Diego\n",
      "\t Birth Day: October 21\n",
      "\t Cars: 2015-Fusion, 2011-Ranger, 2003-Excursion, 1997-F350, 1969-Cadillac\n",
      "\n",
      "Sunny Naidu\n",
      "\t Residence: Temecula\n",
      "\t Birth Day: August 2\n",
      "\t Cars: 4Runner\n",
      "\n",
      "Sophia Tang\n",
      "\t Residence: San Diego\n",
      "\t Birth Day: Septembr 4\n",
      "\t Cars: None\n",
      "\n",
      "Random Person\n",
      "\t Residence: New York City\n",
      "\t Birth Day: January 1\n",
      "\t Cars: Tesla\n",
      "\n"
     ]
    }
   ],
   "source": [
    "# recursion algorithm loops incrementing on each call (n + 1) until exit condition is met\n",
    "def recursive_loop(i):\n",
    "    if i < len(InfoDb):\n",
    "        record = InfoDb[i]\n",
    "        print_data(record)\n",
    "        recursive_loop(i + 1)\n",
    "    return\n",
    "    \n",
    "print(\"Recursive loop output\\n\")\n",
    "recursive_loop(0)"
   ]
  },
  {
   "cell_type": "markdown",
   "metadata": {},
   "source": [
    "### Food Dictionary\n",
    "Here is an extra dictionary I made about foods that I like :)"
   ]
  },
  {
   "cell_type": "code",
   "execution_count": 11,
   "metadata": {},
   "outputs": [
    {
     "name": "stdout",
     "output_type": "stream",
     "text": [
      "Soup Noodles\n",
      "\t Cuisine: Chinese\n",
      "\t Taste: Light and savory\n",
      "\t Ingredients: Noodles, water, bok choy, meats, vegetables, poached egg, tomato\n",
      "\t Preparation Time: 20 minutes\n",
      "\t Cook Time: 15 minutes\n",
      "\t Rating: 9/10\n",
      "\n",
      "Sushi\n",
      "\t Cuisine: Japanese\n",
      "\t Taste: Light and savory\n",
      "\t Ingredients: Rice, seaweed, salmon, avocado, ingredients as you wish\n",
      "\t Preparation Time: 30 minutes\n",
      "\t Cook Time: 15 minutes\n",
      "\t Rating: 9/10\n",
      "\n",
      "Pizza\n",
      "\t Cuisine: Italian\n",
      "\t Taste: Savory/cheesy\n",
      "\t Ingredients: Tomato sauce, dough, pepperoni, pineapple, other toppings\n",
      "\t Preparation Time: 30 minutes\n",
      "\t Cook Time: 1 hour\n",
      "\t Rating: 7/10\n",
      "\n",
      "Fried rice\n",
      "\t Cuisine: Chinese\n",
      "\t Taste: Savory\n",
      "\t Ingredients: Leftover rice, eggs, peas, carrots, other veggies/meats\n",
      "\t Preparation Time: 10 minutes\n",
      "\t Cook Time: 10 minutes\n",
      "\t Rating: 8/10\n",
      "\n"
     ]
    }
   ],
   "source": [
    "# Create a food list\n",
    "food = []\n",
    "\n",
    "# create print_data function for food\n",
    "def print_food(d_rec):\n",
    "    print(d_rec[\"FoodName\"])\n",
    "    print(\"\\t\", \"Cuisine:\", d_rec[\"Cuisine\"])\n",
    "    print(\"\\t\", \"Taste:\", d_rec[\"Taste\"])\n",
    "    print(\"\\t\", \"Ingredients: \", end=\"\")\n",
    "    print(\", \".join(d_rec[\"Ingredients\"]))\n",
    "    print(\"\\t\", \"Preparation Time:\", d_rec[\"Preparation Time\"])\n",
    "    print(\"\\t\", \"Cook Time:\", d_rec[\"Cooking Time\"])\n",
    "    print(\"\\t\", \"Rating:\", d_rec[\"Rating\"])\n",
    "    print()\n",
    "\n",
    "# append information about different foods in the form of dictionaries\n",
    "food.append({\n",
    "    \"FoodName\": \"Soup Noodles\",\n",
    "    \"Cuisine\": \"Chinese\",\n",
    "    \"Taste\": \"Light and savory\",\n",
    "    \"Ingredients\": [\"Noodles\", \"water\", \"bok choy\", \"meats\", \"vegetables\", \"poached egg\", \"tomato\"],\n",
    "    \"Preparation Time\": \"20 minutes\",\n",
    "    \"Cooking Time\": \"15 minutes\",\n",
    "    \"Rating\": \"9/10\",\n",
    "})\n",
    "\n",
    "food.append({\n",
    "    \"FoodName\": \"Sushi\",\n",
    "    \"Cuisine\": \"Japanese\",\n",
    "    \"Taste\": \"Light and savory\",\n",
    "    \"Ingredients\": [\"Rice\", \"seaweed\", \"salmon\", \"avocado\", \"ingredients as you wish\"],\n",
    "    \"Preparation Time\": \"30 minutes\",\n",
    "    \"Cooking Time\": \"15 minutes\",\n",
    "    \"Rating\": \"9/10\",\n",
    "})\n",
    "\n",
    "food.append({\n",
    "    \"FoodName\": \"Pizza\",\n",
    "    \"Cuisine\": \"Italian\",\n",
    "    \"Taste\": \"Savory/cheesy\",\n",
    "    \"Ingredients\": [\"Tomato sauce\", \"dough\", \"pepperoni\", \"pineapple\", \"other toppings\"],\n",
    "    \"Preparation Time\": \"30 minutes\",\n",
    "    \"Cooking Time\": \"1 hour\",\n",
    "    \"Rating\": \"7/10\",\n",
    "})\n",
    "\n",
    "food.append({\n",
    "    \"FoodName\": \"Fried rice\",\n",
    "    \"Cuisine\": \"Chinese\",\n",
    "    \"Taste\": \"Savory\",\n",
    "    \"Ingredients\": [\"Leftover rice\", \"eggs\", \"peas\", \"carrots\", \"other veggies/meats\"],\n",
    "    \"Preparation Time\": \"10 minutes\",\n",
    "    \"Cooking Time\": \"10 minutes\",\n",
    "    \"Rating\": \"8/10\",\n",
    "})\n",
    "\n",
    "for record in range(0, len(food)):\n",
    "    print_food(food[record])"
   ]
  },
  {
   "cell_type": "markdown",
   "metadata": {},
   "source": [
    "### To Do List Using Dictionary and Input\n",
    "This code asks you to input your todo list to help you keep track of what you need to do!\n",
    "All you need to specify in the beginning is how many items on your list and then you just enter in the necessary information about your todo list."
   ]
  },
  {
   "cell_type": "code",
   "execution_count": 14,
   "metadata": {},
   "outputs": [
    {
     "name": "stdout",
     "output_type": "stream",
     "text": [
      "Welcome to a todo list to keep track of what you need to do!\n",
      "Humanities Beautiful Friday Presentation Slideshow\n",
      "\t Category: school\n",
      "\t Estimated Time: 1 hour\n",
      "\t Due Date: 9/30\n",
      "\t Urgency: 3\n",
      "\n",
      "Read Lovely War\n",
      "\t Category: school\n",
      "\t Estimated Time: 2 hours\n",
      "\t Due Date: 10/14\n",
      "\t Urgency: 3\n",
      "\n",
      "Laundry\n",
      "\t Category: home\n",
      "\t Estimated Time: 20 minutes\n",
      "\t Due Date: Saturday\n",
      "\t Urgency: 4\n",
      "\n",
      "AP Calc HW\n",
      "\t Category: school\n",
      "\t Estimated Time: 30 minutes\n",
      "\t Due Date: 9/7\n",
      "\t Urgency: 6\n",
      "\n",
      "AP Chem Lab Writeup\n",
      "\t Category: school\n",
      "\t Estimated Time: 2-3 hours\n",
      "\t Due Date: 9/6\n",
      "\t Urgency: 7\n",
      "\n"
     ]
    }
   ],
   "source": [
    "ToDoList = []\n",
    "\n",
    "print(\"Welcome to a todo list to keep track of what you need to do!\")\n",
    "num = input(\"How many todo items do you need to enter in?\")\n",
    "\n",
    "def getInput():\n",
    "    inputQuestions = [\"Task name: \", \"Category (Ex: home, school): \", \"Estimated Time: \", \"Due Date: \", \"Urgency Value (1 for least, 10 for most): \"]\n",
    "    inputList = []\n",
    "    for i in range(0, 5):\n",
    "        temp = input(inputQuestions[i])\n",
    "        inputList.append(temp)\n",
    "    return(inputList)\n",
    "\n",
    "for i in range(0, int(num)):\n",
    "    add = getInput()\n",
    "    ToDoList.append({\n",
    "        \"Task Name\": add[0],\n",
    "        \"Category\": add[1],\n",
    "        \"Estimated Time\": add[2],\n",
    "        \"Due Date\": add[3],\n",
    "        \"Urgency\": add[4],\n",
    "    })\n",
    "\n",
    "\n",
    "# create print_data function for todo list\n",
    "def print_tasks(d_rec):\n",
    "    print(d_rec[\"Task Name\"])\n",
    "    print(\"\\t\", \"Category:\", d_rec[\"Category\"])\n",
    "    print(\"\\t\", \"Estimated Time:\", d_rec[\"Estimated Time\"])\n",
    "    print(\"\\t\", \"Due Date:\", d_rec[\"Due Date\"])\n",
    "    print(\"\\t\", \"Urgency:\", d_rec[\"Urgency\"])\n",
    "    print()\n",
    "\n",
    "for record in range(0, len(ToDoList)):\n",
    "    print_tasks(ToDoList[record])"
   ]
  }
 ],
 "metadata": {
  "kernelspec": {
   "display_name": "Python 3.8.10 64-bit",
   "language": "python",
   "name": "python3"
  },
  "language_info": {
   "codemirror_mode": {
    "name": "ipython",
    "version": 3
   },
   "file_extension": ".py",
   "mimetype": "text/x-python",
   "name": "python",
   "nbconvert_exporter": "python",
   "pygments_lexer": "ipython3",
   "version": "3.8.10 (default, Jun 22 2022, 20:18:18) \n[GCC 9.4.0]"
  },
  "orig_nbformat": 4,
  "vscode": {
   "interpreter": {
    "hash": "916dbcbb3f70747c44a77c7bcd40155683ae19c65e1c03b4aa3499c5328201f1"
   }
  }
 },
 "nbformat": 4,
 "nbformat_minor": 2
}
