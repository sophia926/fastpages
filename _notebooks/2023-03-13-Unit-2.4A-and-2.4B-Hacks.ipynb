{
 "cells": [
  {
   "attachments": {},
   "cell_type": "markdown",
   "metadata": {},
   "source": [
    "#  Unit 2.4A & 2.4B Hacks\n",
    "- title: Unit 2.4A & 2.4BHacks\n",
    "- toc: true\n",
    "- categories: [week26]"
   ]
  },
  {
   "attachments": {},
   "cell_type": "markdown",
   "metadata": {},
   "source": [
    "# Creating the tasks database"
   ]
  },
  {
   "cell_type": "code",
   "execution_count": 20,
   "metadata": {},
   "outputs": [],
   "source": [
    "\"\"\"\n",
    "These imports define the key objects\n",
    "\"\"\"\n",
    "\n",
    "from flask import Flask\n",
    "from flask_sqlalchemy import SQLAlchemy\n",
    "\n",
    "\"\"\"\n",
    "These object and definitions are used throughout the Jupyter Notebook.\n",
    "\"\"\"\n",
    "\n",
    "# Setup of key Flask object (app)\n",
    "app = Flask(__name__)\n",
    "# Setup SQLAlchemy object and properties for the database (db)\n",
    "database = 'sqlite:///tasks.db'  # path and filename of database\n",
    "app.config['SQLALCHEMY_TRACK_MODIFICATIONS'] = False\n",
    "app.config['SQLALCHEMY_DATABASE_URI'] = database\n",
    "app.config['SECRET_KEY'] = 'SECRET_KEY'\n",
    "db = SQLAlchemy()\n",
    "\n",
    "\n",
    "# This belongs in place where it runs once per project\n",
    "db.init_app(app)\n"
   ]
  },
  {
   "cell_type": "code",
   "execution_count": 21,
   "metadata": {},
   "outputs": [],
   "source": [
    "\"\"\" database dependencies to support sqlite examples \"\"\"\n",
    "import datetime\n",
    "from datetime import datetime\n",
    "import json\n",
    "\n",
    "from sqlalchemy.exc import IntegrityError\n",
    "\n",
    "\n",
    "''' Tutorial: https://www.sqlalchemy.org/library.html#tutorials, try to get into a Python shell and follow along '''\n",
    "\n",
    "# Define the User class to manage actions in the 'users' table\n",
    "# -- Object Relational Mapping (ORM) is the key concept of SQLAlchemy\n",
    "# -- a.) db.Model is like an inner layer of the onion in ORM\n",
    "# -- b.) User represents data we want to store, something that is built on db.Model\n",
    "# -- c.) SQLAlchemy ORM is layer on top of SQLAlchemy Core, then SQLAlchemy engine, SQL\n",
    "class Task(db.Model):\n",
    "    __tablename__ = 'tasks'  # table name is plural, class name is singular\n",
    "\n",
    "    # Define the User schema with \"vars\" from object\n",
    "    id = db.Column(db.Integer, primary_key=True)\n",
    "    _name = db.Column(db.Text, unique=False, nullable=False)\n",
    "    _time = db.Column(db.Integer, unique=False, nullable=False)\n",
    "    _notes = db.Column(db.Text, unique=False, nullable=False)\n",
    "\n",
    "    # constructor of a User object, initializes the instance variables within object (self)\n",
    "    def __init__(self, name, time, notes):\n",
    "        self._name = name\n",
    "        self._time = time\n",
    "        self._notes = notes\n",
    "\n",
    "    # a name getter method, extracts name from object\n",
    "    @property\n",
    "    def name(self):\n",
    "        return self._name\n",
    "    \n",
    "    # a setter function, allows name to be updated after initial object creation\n",
    "    @name.setter\n",
    "    def name(self, name):\n",
    "        self._name = name\n",
    "    \n",
    "    # a getter method, extracts uid from object\n",
    "    @property\n",
    "    def time(self):\n",
    "        return self._time\n",
    "    \n",
    "    # a setter function, allows uid to be updated after initial object creation\n",
    "    @time.setter\n",
    "    def time(self, time):\n",
    "        self._uid = time\n",
    "            \n",
    "    # a getter method, extracts uid from object\n",
    "    @property\n",
    "    def notes(self):\n",
    "        return self._notes\n",
    "    \n",
    "    # a setter function, allows uid to be updated after initial object creation\n",
    "    @notes.setter\n",
    "    def notes(self, notes):\n",
    "        self._notes = notes\n",
    "        \n",
    "    # output content using str(object) is in human readable form\n",
    "    # output content using json dumps, this is ready for API response\n",
    "    def __str__(self):\n",
    "        return json.dumps(self.read())\n",
    "\n",
    "    # CRUD create/add a new record to the table\n",
    "    # returns self or None on error\n",
    "    def create(self):\n",
    "        try:\n",
    "            # creates a person object from User(db.Model) class, passes initializers\n",
    "            db.session.add(self)  # add prepares to persist person object to Users table\n",
    "            db.session.commit()  # SqlAlchemy \"unit of work pattern\" requires a manual commit\n",
    "            return self\n",
    "        except IntegrityError:\n",
    "            db.session.remove()\n",
    "            return None\n",
    "\n",
    "    # CRUD read converts self to dictionary\n",
    "    # returns dictionary\n",
    "    def read(self):\n",
    "        return {\n",
    "\n",
    "            \"id\": self.id,\n",
    "            \"name\": self.name,\n",
    "            \"time\": self.time,\n",
    "            \"notes\": self.notes,\n",
    "        }\n",
    "\n",
    "    # CRUD update: updates user name, password, phone\n",
    "    # returns self\n",
    "    def update(self, name=\"\", time=0, notes=\"\"):\n",
    "        \"\"\"only updates values with length\"\"\"\n",
    "        if len(name) > 0:\n",
    "            self.name = name\n",
    "        if time > 0:\n",
    "            self.time = time\n",
    "        if len(notes) > 0:\n",
    "            self.notes = notes\n",
    "        db.session.commit()\n",
    "        return self\n",
    "\n",
    "    # CRUD delete: remove self\n",
    "    # None\n",
    "    def delete(self):\n",
    "        db.session.delete(self)\n",
    "        db.session.commit()\n",
    "        return None\n",
    "    "
   ]
  },
  {
   "cell_type": "code",
   "execution_count": 22,
   "metadata": {},
   "outputs": [],
   "source": [
    "\"\"\"Database Creation and Testing \"\"\"\n",
    "\n",
    "\n",
    "# Builds working data for testing\n",
    "def initTasks():\n",
    "    with app.app_context():\n",
    "        \"\"\"Create database and tables\"\"\"\n",
    "        db.create_all()\n",
    "        \"\"\"Tester data for table\"\"\"\n",
    "        task1 = Task(name=\"APCSP HW\", time=60, notes=\"pretty time consuming, need a little bit of help\")\n",
    "        task2 = Task(name=\"APWH study\", time=30, notes=\"Need to study for upcoming SAQ exam\")\n",
    "        tasks = [task1, task2]\n",
    "\n",
    "        \"\"\"Builds sample user/note(s) data\"\"\"\n",
    "        for task in tasks:\n",
    "            task.create()\n",
    "initTasks()"
   ]
  },
  {
   "cell_type": "code",
   "execution_count": 46,
   "metadata": {},
   "outputs": [
    {
     "name": "stdout",
     "output_type": "stream",
     "text": [
      "{\"id\": 1, \"name\": \"APCSP HW\", \"time\": 60, \"notes\": \"pretty time consuming, need a little bit of help\"}\n"
     ]
    }
   ],
   "source": [
    "def find_by_task_name(task_name):\n",
    "    with app.app_context():\n",
    "        task = Task.query.filter_by(_name=task_name).first()\n",
    "    return task # returns user object\n",
    "print(find_by_task_name(\"APCSP HW\"))"
   ]
  },
  {
   "cell_type": "code",
   "execution_count": 34,
   "metadata": {},
   "outputs": [
    {
     "data": {
      "text/plain": [
       "[{'id': 1,\n",
       "  'name': 'APCSP HW',\n",
       "  'time': 60,\n",
       "  'notes': 'pretty time consuming, need a little bit of help'},\n",
       " {'id': 3,\n",
       "  'name': 'Piano practice',\n",
       "  'time': 50,\n",
       "  'notes': 'be sure to practice for competition'},\n",
       " {'id': 4,\n",
       "  'name': 'APCSP HW',\n",
       "  'time': 60,\n",
       "  'notes': 'pretty time consuming, need a little bit of help'},\n",
       " {'id': 5,\n",
       "  'name': 'APWH study',\n",
       "  'time': 30,\n",
       "  'notes': 'Need to study for upcoming SAQ exam'}]"
      ]
     },
     "execution_count": 34,
     "metadata": {},
     "output_type": "execute_result"
    }
   ],
   "source": [
    "def read():\n",
    "    with app.app_context():\n",
    "        table = Task.query.all()\n",
    "    json_ready = [task.read() for task in table] # \"List Comprehensions\", for each user add user.read() to list\n",
    "    return json_ready\n",
    "read()"
   ]
  },
  {
   "attachments": {},
   "cell_type": "markdown",
   "metadata": {},
   "source": [
    "# Delete Function"
   ]
  },
  {
   "cell_type": "code",
   "execution_count": 35,
   "metadata": {},
   "outputs": [
    {
     "name": "stdout",
     "output_type": "stream",
     "text": [
      "Task with task name APWH study has been deleted. \n",
      "[{'id': 1, 'name': 'APCSP HW', 'time': 60, 'notes': 'pretty time consuming, need a little bit of help'}, {'id': 3, 'name': 'Piano practice', 'time': 50, 'notes': 'be sure to practice for competition'}, {'id': 4, 'name': 'APCSP HW', 'time': 60, 'notes': 'pretty time consuming, need a little bit of help'}]\n"
     ]
    }
   ],
   "source": [
    "def deleteTask(): \n",
    "    task_name = input(\"Enter name of task to delete: \")\n",
    "    task = find_by_task_name(task_name)  # using previous function to locate user by inputted id\n",
    "    with app.app_context():\n",
    "        try:\n",
    "            object = task.delete()\n",
    "            print(f\"Task with task name {task_name} has been deleted. \")\n",
    "            db = read()\n",
    "            print(db)\n",
    "        except:  # error raised if object not found\n",
    "           (f\"No task with the name {task_name} was found.\")\n",
    "        \n",
    "deleteTask()\n"
   ]
  },
  {
   "attachments": {},
   "cell_type": "markdown",
   "metadata": {},
   "source": [
    "# Update Function"
   ]
  },
  {
   "cell_type": "code",
   "execution_count": 47,
   "metadata": {},
   "outputs": [
    {
     "name": "stdout",
     "output_type": "stream",
     "text": [
      "Here is the updated DB with all updated tasks:\n",
      "[{'id': 1, 'name': 'APCSP HW', 'time': 60, 'notes': 'pretty time consuming, need a little bit of help'}, {'id': 3, 'name': 'Piano practice', 'time': 50, 'notes': 'be sure to practice for competition'}, {'id': 4, 'name': 'APCSP HW', 'time': 60, 'notes': 'pretty time consuming, need a little bit of help'}, {'id': 5, 'name': 'Laundry', 'time': 30, 'notes': 'wash clothes'}]\n"
     ]
    }
   ],
   "source": [
    "def update_task():\n",
    "    task_name = input(\"Enter the name of the task you want to update: \")\n",
    "    task = find_by_task_name(task_name)\n",
    "    name = input(\"Enter new task name:\")\n",
    "    time = input(\"Enter new time:\")\n",
    "    notes = input(\"Enter notes:\")\n",
    "    with app.app_context():\n",
    "        try:\n",
    "            object = task.update(_name=name,_time=time, _notes=notes) \n",
    "            print(f\"{task_name}-- has been updated: {object} \")\n",
    "        except:  # error raised if object not found\n",
    "           (f\"The task, {task_name} was not found.\")\n",
    "    db = read()\n",
    "    print(\"Here is the updated DB with all updated tasks:\")\n",
    "    print(db)\n",
    "update_task()\n"
   ]
  },
  {
   "attachments": {},
   "cell_type": "markdown",
   "metadata": {},
   "source": [
    "# CRUD Functions with SQLite"
   ]
  },
  {
   "cell_type": "code",
   "execution_count": 37,
   "metadata": {},
   "outputs": [
    {
     "name": "stdout",
     "output_type": "stream",
     "text": [
      "(0, 'id', 'INTEGER', 1, None, 1)\n",
      "(1, '_name', 'TEXT', 1, None, 0)\n",
      "(2, '_time', 'INTEGER', 1, None, 0)\n",
      "(3, '_notes', 'TEXT', 1, None, 0)\n"
     ]
    }
   ],
   "source": [
    "import sqlite3\n",
    "\n",
    "database = 'instance/tasks.db' # this is location of database\n",
    "\n",
    "def schema():\n",
    "    \n",
    "    # Connect to the database file\n",
    "    conn = sqlite3.connect(database)\n",
    "\n",
    "    # Create a cursor object to execute SQL queries\n",
    "    cursor = conn.cursor()\n",
    "    \n",
    "    # Fetch results of Schema\n",
    "    # The PRAGMA table_info command prints out the stuff\n",
    "    results = cursor.execute(\"PRAGMA table_info('tasks')\").fetchall()\n",
    "\n",
    "    # Print the results\n",
    "    for row in results:\n",
    "        print(row)\n",
    "\n",
    "    # Close the database connection\n",
    "    conn.close()\n",
    "    \n",
    "schema()\n"
   ]
  },
  {
   "cell_type": "code",
   "execution_count": 2,
   "metadata": {},
   "outputs": [
    {
     "name": "stdout",
     "output_type": "stream",
     "text": [
      "(1, 'APCSP HW', 60, 'pretty time consuming, need a little bit of help')\n",
      "(2, 'APWH study', 30, 'Need to study for upcoming SAQ exam')\n"
     ]
    }
   ],
   "source": [
    "import sqlite3\n",
    "\n",
    "def read():\n",
    "    # Connect to the database file\n",
    "    conn = sqlite3.connect(database)\n",
    "\n",
    "    # Create a cursor object to execute SQL queries\n",
    "    cursor = conn.cursor()\n",
    "    \n",
    "    # Execute a SELECT statement to retrieve data from a table\n",
    "    results = cursor.execute('SELECT * FROM tasks').fetchall()\n",
    "\n",
    "    # Print the results\n",
    "    if len(results) == 0:\n",
    "        print(\"Table is empty\")\n",
    "    else:\n",
    "        for row in results:\n",
    "            print(row)\n",
    "\n",
    "    # Close the cursor and connection objects\n",
    "    cursor.close()\n",
    "    conn.close()\n",
    "    \n",
    "read()\n"
   ]
  },
  {
   "cell_type": "code",
   "execution_count": 38,
   "metadata": {},
   "outputs": [
    {
     "name": "stdout",
     "output_type": "stream",
     "text": [
      "A new task record Laundry has been created\n"
     ]
    }
   ],
   "source": [
    "import sqlite3\n",
    "\n",
    "def create():\n",
    "    taskname = input(\"Enter the task you need to complete: \")\n",
    "    tasktime = input(\"Enter the amount of time in minutes it will take you: \")\n",
    "    tasknotes = input(\"Enter any notes about the task or reminders for yourself: \")\n",
    "    \n",
    "    # Connect to the database file\n",
    "    conn = sqlite3.connect(database)\n",
    "\n",
    "    # Create a cursor object to execute SQL commands\n",
    "    cursor = conn.cursor()\n",
    "\n",
    "    try:\n",
    "        # Execute an SQL command to insert data into a table\n",
    "        cursor.execute(\"INSERT INTO tasks (_name, _time, _notes) VALUES (?, ?, ?)\", (taskname, tasktime, tasknotes))\n",
    "        \n",
    "        # Commit the changes to the database\n",
    "        conn.commit()\n",
    "        print(f\"A new task record {taskname} has been created\")\n",
    "                \n",
    "    except sqlite3.Error as error:\n",
    "        print(\"Error while executing the INSERT:\", error)\n",
    "\n",
    "\n",
    "    # Close the cursor and connection objects\n",
    "    cursor.close()\n",
    "    conn.close()\n",
    "    \n",
    "create()"
   ]
  },
  {
   "cell_type": "code",
   "execution_count": 10,
   "metadata": {},
   "outputs": [
    {
     "name": "stdout",
     "output_type": "stream",
     "text": [
      "The row with taskname Piano practice the time has been udpated successfully updated\n"
     ]
    }
   ],
   "source": [
    "import sqlite3\n",
    "\n",
    "def update():\n",
    "    name = input(\"Enter task name to update\")\n",
    "    tasktime = input(\"Enter updated time: \")\n",
    "    if int(tasktime) < 0:\n",
    "        tasktime = \"0\"\n",
    "        message = \"unsuccessfully: DO YOU NOT KNOW SIMPLE THINGS? TIME CAN'T BE NEGATIVE\"\n",
    "    else:\n",
    "        message = \"successfully updated\"\n",
    "\n",
    "    # Connect to the database file\n",
    "    conn = sqlite3.connect(database)\n",
    "\n",
    "    # Create a cursor object to execute SQL commands\n",
    "    cursor = conn.cursor()\n",
    "\n",
    "    try:\n",
    "        # Execute an SQL command to update data in a table\n",
    "        cursor.execute(\"UPDATE tasks SET _time = ? WHERE _name = ?\", (tasktime, name))\n",
    "        if cursor.rowcount == 0:\n",
    "            # The uid was not found in the table\n",
    "            print(f\"No taskname {name} was not found in the table\")\n",
    "        else:\n",
    "            print(f\"The row with taskname {name} the time has been udpated {message}\")\n",
    "            conn.commit()\n",
    "    except sqlite3.Error as error:\n",
    "        print(\"Error while executing the UPDATE:\", error)\n",
    "        \n",
    "    \n",
    "    # Close the cursor and connection objects\n",
    "    cursor.close()\n",
    "    conn.close()\n",
    "    \n",
    "update()\n"
   ]
  },
  {
   "cell_type": "code",
   "execution_count": 13,
   "metadata": {},
   "outputs": [
    {
     "name": "stdout",
     "output_type": "stream",
     "text": [
      "No task name hi was not found in the table\n"
     ]
    }
   ],
   "source": [
    "import sqlite3\n",
    "\n",
    "def delete():\n",
    "    name = input(\"Enter task name to mark it as complete and delete\")\n",
    "\n",
    "    # Connect to the database file\n",
    "    conn = sqlite3.connect(database)\n",
    "\n",
    "    # Create a cursor object to execute SQL commands\n",
    "    cursor = conn.cursor()\n",
    "    \n",
    "    try:\n",
    "        cursor.execute(\"DELETE FROM tasks WHERE _name = ?\", (name,))\n",
    "        if cursor.rowcount == 0:\n",
    "            # The uid was not found in the table\n",
    "            print(f\"No task name {name} was not found in the table\")\n",
    "        else:\n",
    "            # The uid was found in the table and the row was deleted\n",
    "            print(f\"The row with task name {name} was successfully deleted\")\n",
    "        conn.commit()\n",
    "    except sqlite3.Error as error:\n",
    "        print(\"Error while executing the DELETE:\", error)\n",
    "        \n",
    "    # Close the cursor and connection objects\n",
    "    cursor.close()\n",
    "    conn.close()\n",
    "    \n",
    "delete()"
   ]
  },
  {
   "attachments": {},
   "cell_type": "markdown",
   "metadata": {},
   "source": [
    "### CRUD MENU"
   ]
  },
  {
   "cell_type": "code",
   "execution_count": 16,
   "metadata": {},
   "outputs": [
    {
     "name": "stdout",
     "output_type": "stream",
     "text": [
      "The row with task name English essay was successfully deleted\n"
     ]
    }
   ],
   "source": [
    "# Menu, to run other cells from one control point\n",
    "def menu():\n",
    "    operation = input(\"Enter: (C)reate (R)ead (U)pdate or (D)elete or (S)chema\")\n",
    "    if operation.lower() == 'c':\n",
    "        create()\n",
    "    elif operation.lower() == 'r':\n",
    "        read()\n",
    "    elif operation.lower() == 'u':\n",
    "        update()\n",
    "    elif operation.lower() == 'd':\n",
    "        delete()\n",
    "    elif operation.lower() == 's':\n",
    "        schema()\n",
    "    elif len(operation)==0: # Escape Key\n",
    "        return\n",
    "    else:\n",
    "        print(\"Please enter c, r, u, or d\") \n",
    "    menu() # recursion, repeat menu\n",
    "        \n",
    "try:\n",
    "    menu() # start menu\n",
    "except:\n",
    "    print(\"Perform Jupyter 'Run All' prior to starting menu\")\n"
   ]
  },
  {
   "attachments": {},
   "cell_type": "markdown",
   "metadata": {},
   "source": [
    "### Debugging Proof"
   ]
  },
  {
   "attachments": {},
   "cell_type": "markdown",
   "metadata": {},
   "source": [
    "Here you can see evidence of me debugging the sqlite code, and I was able to see the connection being established, look at the attributes in the objects, and also see each individual line (each row of the database being accessed) being printed out.\n",
    "\n",
    "![title](../images/week26debug1.png)\n",
    "![title](../images/week26debug2.png)\n",
    "![title](../images/week26debug3.png)\n",
    "![title](../images/week26debug4.png)\n",
    "![title](../images/week26debug5.png)"
   ]
  }
 ],
 "metadata": {
  "kernelspec": {
   "display_name": "base",
   "language": "python",
   "name": "python3"
  },
  "language_info": {
   "codemirror_mode": {
    "name": "ipython",
    "version": 3
   },
   "file_extension": ".py",
   "mimetype": "text/x-python",
   "name": "python",
   "nbconvert_exporter": "python",
   "pygments_lexer": "ipython3",
   "version": "3.9.12"
  },
  "orig_nbformat": 4
 },
 "nbformat": 4,
 "nbformat_minor": 2
}
