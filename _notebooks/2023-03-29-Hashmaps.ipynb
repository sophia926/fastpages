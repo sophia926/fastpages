{
 "cells": [
  {
   "attachments": {},
   "cell_type": "markdown",
   "metadata": {},
   "source": [
    "#  Data Structures- Hashmaps, Sets, Hash Tables, Hashing and Collisions\n",
    "> Observing hashmaps with python dictionaries\n",
    "- toc: true\n",
    "- title: Data Structures - Hashmaps, Sets, Hash Tables, Hashing and Collisions\n",
    "- categories: [week28]"
   ]
  },
  {
   "attachments": {},
   "cell_type": "markdown",
   "metadata": {},
   "source": [
    "## What is a Hashtable/Hashmap?\n",
    "\n",
    "> A hashtable is a data structure that with a collection of key-value pairs, where each key maps to a value, and the keys must be unique and hashable.\n",
    "\n",
    "- In Python there is a built in hashtable known as a <mark>**dictionary**</mark>.\n",
    "\n",
    "> The primary purpose of a hashtable is to provide efficient lookup, insertion, and deletion operations. When an element is to be inserted into the hashtable, a hash function is used to map the key to a specific index in the underlying array that is used to store the key-value pairs. The value is then stored at that index. When searching for a value, the hash function is used again to find the index where the value is stored.\n",
    "\n",
    "> The key advantage of a hashtable over other data structures like arrays and linked lists is its average-case time complexity for lookup, insertion, and deletion operations.\n",
    "\n",
    "- The typical time complexity of a hashtable is <mark>**O(1) -- constant time!**</mark>. \n"
   ]
  },
  {
   "attachments": {},
   "cell_type": "markdown",
   "metadata": {},
   "source": [
    "## What is Hashing and Collision?\n",
    "\n",
    "> Hashing is the process of mapping a given key to a value in a hash table or hashmap, using a hash function. The hash function takes the key as input and produces a hash value or hash code, which is then used to determine the index in the underlying array where the value is stored. The purpose of hashing is to provide a quick and efficient way to access data, by eliminating the need to search through an entire data structure to find a value.\n",
    "\n",
    "> However, it is possible for two different keys to map to the same hash value, resulting in a collision. When a collision occurs, there are different ways to resolve it, depending on the collision resolution strategy used.\n",
    "\n",
    "> Python's dictionary implementation is optimized to handle collisions efficiently, and the performance of the dictionary is generally very good, even in the presence of collisions. However, if the number of collisions is very high, the performance of the dictionary can degrade, so it is important to choose a good hash function that minimizes collisions when designing a Python dictionary.\n",
    "\n",
    "## What is a Set?"
   ]
  },
  {
   "cell_type": "code",
   "execution_count": 1,
   "metadata": {},
   "outputs": [
    {
     "name": "stdout",
     "output_type": "stream",
     "text": [
      "{1, 2, 3}\n"
     ]
    }
   ],
   "source": [
    "# Creating a set using set() function\n",
    "my_set = set([1, 2, 3, 2, 1])\n",
    "print(my_set)  \n",
    "\n",
    "# What do you notice in the output?\n",
    "#\n",
    "#\n",
    "\n",
    "# Why do you think Sets are in the same tech talk as Hashmaps/Hashtables?\n",
    "#\n",
    "#"
   ]
  },
  {
   "attachments": {},
   "cell_type": "markdown",
   "metadata": {},
   "source": [
    "<mark>In the output, I noticed that it only printed 1, 2, and 3, even though the set originally had five items in it. The set only returned the unique values (it removed all duplicate values)! Sets are in the same tech talk as hashmaps/hashtables because they are similar -- there can only be unique values, like in python dictionaries, there can't be duplicate keys. Both of them can't have collisions/duplicates!</mark>"
   ]
  },
  {
   "attachments": {},
   "cell_type": "markdown",
   "metadata": {},
   "source": [
    "## Dictionary Example\n",
    "\n",
    "Below are just some basic features of a dictionary. As always, documentation is always the main source for all the full capablilties. "
   ]
  },
  {
   "cell_type": "code",
   "execution_count": 14,
   "metadata": {},
   "outputs": [
    {
     "name": "stdout",
     "output_type": "stream",
     "text": [
      "{'title': 'Lover', 'artist': 'Taylor Swift', 'year': 2019, 'genre': ['Pop', 'Synth-pop'], 'tracks': {1: 'I Forgot That You Existed', 2: 'Cruel Summer', 3: 'Lover', 4: 'The Man', 5: 'The Archer', 6: 'I Think He Knows', 7: 'Miss Americana & The Heartbreak Prince', 8: 'Paper Rings', 9: 'Cornelia Street', 10: 'Death By A Thousand Cuts', 11: 'London Boy', 12: \"Soon You'll Get Better (feat. Dixie Chicks)\", 13: 'False God', 14: 'You Need To Calm Down', 15: 'Afterglow', 16: 'Me! (feat. Brendon Urie of Panic! At The Disco)', 17: \"It's Nice To Have A Friend\", 18: 'Daylight'}}\n"
     ]
    }
   ],
   "source": [
    "# Creating a dictionary with information about the album \"Lover\"\n",
    "lover_album = {\n",
    "    \"title\": \"Lover\",\n",
    "    \"artist\": \"Taylor Swift\",\n",
    "    \"year\": 2019,\n",
    "    \"genre\": [\"Pop\", \"Synth-pop\"],\n",
    "    \"tracks\": {\n",
    "        1: \"I Forgot That You Existed\",\n",
    "        2: \"Cruel Summer\",\n",
    "        3: \"Lover\",\n",
    "        4: \"The Man\",\n",
    "        5: \"The Archer\",\n",
    "        6: \"I Think He Knows\",\n",
    "        7: \"Miss Americana & The Heartbreak Prince\",\n",
    "        8: \"Paper Rings\",\n",
    "        9: \"Cornelia Street\",\n",
    "        10: \"Death By A Thousand Cuts\",\n",
    "        11: \"London Boy\",\n",
    "        12: \"Soon You'll Get Better (feat. Dixie Chicks)\",\n",
    "        13: \"False God\",\n",
    "        14: \"You Need To Calm Down\",\n",
    "        15: \"Afterglow\",\n",
    "        16: \"Me! (feat. Brendon Urie of Panic! At The Disco)\",\n",
    "        17: \"It's Nice To Have A Friend\",\n",
    "        18: \"Daylight\"\n",
    "    }\n",
    "}\n",
    "\n",
    "# What data structures do you see?\n",
    "#\n",
    "#\n",
    "\n",
    "# Printing the dictionary\n",
    "print(lover_album)"
   ]
  },
  {
   "attachments": {},
   "cell_type": "markdown",
   "metadata": {},
   "source": [
    "<mark>I see the dictionary and list data structures, list for the genres, dictionary for the tracks.</mark>"
   ]
  },
  {
   "cell_type": "code",
   "execution_count": 15,
   "metadata": {},
   "outputs": [
    {
     "name": "stdout",
     "output_type": "stream",
     "text": [
      "{1: 'I Forgot That You Existed', 2: 'Cruel Summer', 3: 'Lover', 4: 'The Man', 5: 'The Archer', 6: 'I Think He Knows', 7: 'Miss Americana & The Heartbreak Prince', 8: 'Paper Rings', 9: 'Cornelia Street', 10: 'Death By A Thousand Cuts', 11: 'London Boy', 12: \"Soon You'll Get Better (feat. Dixie Chicks)\", 13: 'False God', 14: 'You Need To Calm Down', 15: 'Afterglow', 16: 'Me! (feat. Brendon Urie of Panic! At The Disco)', 17: \"It's Nice To Have A Friend\", 18: 'Daylight'}\n",
      "{1: 'I Forgot That You Existed', 2: 'Cruel Summer', 3: 'Lover', 4: 'The Man', 5: 'The Archer', 6: 'I Think He Knows', 7: 'Miss Americana & The Heartbreak Prince', 8: 'Paper Rings', 9: 'Cornelia Street', 10: 'Death By A Thousand Cuts', 11: 'London Boy', 12: \"Soon You'll Get Better (feat. Dixie Chicks)\", 13: 'False God', 14: 'You Need To Calm Down', 15: 'Afterglow', 16: 'Me! (feat. Brendon Urie of Panic! At The Disco)', 17: \"It's Nice To Have A Friend\", 18: 'Daylight'}\n"
     ]
    }
   ],
   "source": [
    "# Retrieve value from dictionary with key\n",
    "print(lover_album.get('tracks'))\n",
    "# or\n",
    "print(lover_album['tracks'])"
   ]
  },
  {
   "attachments": {},
   "cell_type": "markdown",
   "metadata": {},
   "source": [
    "<mark>Both the above methods work. They do the same thing.</mark>"
   ]
  },
  {
   "cell_type": "code",
   "execution_count": 16,
   "metadata": {},
   "outputs": [
    {
     "name": "stdout",
     "output_type": "stream",
     "text": [
      "The Man\n",
      "The Man\n"
     ]
    }
   ],
   "source": [
    "# Retrieve value from a dictionary inside a dictionary\n",
    "print(lover_album.get('tracks')[4])\n",
    "# or\n",
    "print(lover_album['tracks'][4])"
   ]
  },
  {
   "attachments": {},
   "cell_type": "markdown",
   "metadata": {},
   "source": [
    "<mark>You can get specific tracks by using indexes.</mark>"
   ]
  },
  {
   "cell_type": "code",
   "execution_count": 17,
   "metadata": {},
   "outputs": [
    {
     "name": "stdout",
     "output_type": "stream",
     "text": [
      "{'title': 'Lover', 'artist': 'Taylor Swift', 'year': 2019, 'genre': ['Pop', 'Synth-pop'], 'tracks': {1: 'I Forgot That You Existed', 2: 'Cruel Summer', 3: 'Lover', 4: 'The Man', 5: 'The Archer', 6: 'I Think He Knows', 7: 'Miss Americana & The Heartbreak Prince', 8: 'Paper Rings', 9: 'Cornelia Street', 10: 'Death By A Thousand Cuts', 11: 'London Boy', 12: \"Soon You'll Get Better (feat. Dixie Chicks)\", 13: 'False God', 14: 'You Need To Calm Down', 15: 'Afterglow', 16: 'Me! (feat. Brendon Urie of Panic! At The Disco)', 17: \"It's Nice To Have A Friend\", 18: 'Daylight'}, 'producer': {'Taylor Swift', 'Louis Bell', 'Frank Dukes', 'Joel Little', 'Jack Antonoff'}}\n",
      "{'Taylor Swift', 'Louis Bell', 'Frank Dukes', 'Joel Little', 'Jack Antonoff'}\n"
     ]
    }
   ],
   "source": [
    "# adding a value with a new key\n",
    "lover_album[\"producer\"] = set(['Taylor Swift', 'Jack Antonoff', 'Joel Little', 'Taylor Swift', 'Louis Bell', 'Frank Dukes'])\n",
    "\n",
    "\n",
    "# What can you change to make sure there are no duplicate producers?\n",
    "#\n",
    "#\n",
    "\n",
    "# Printing the dictionary\n",
    "print(lover_album)\n",
    "print(lover_album[\"producer\"])"
   ]
  },
  {
   "attachments": {},
   "cell_type": "markdown",
   "metadata": {},
   "source": [
    "<mark>To make sure there are no duplicates, you can change it to be a set. In the above code, you can see that when I change it to be set, then there is only one Taylor Swift in the producers list because it removed the duplicates!</mark>"
   ]
  },
  {
   "cell_type": "code",
   "execution_count": 18,
   "metadata": {},
   "outputs": [
    {
     "name": "stdout",
     "output_type": "stream",
     "text": [
      "{'title': 'Lover', 'artist': 'Taylor Swift', 'year': 2019, 'genre': ['Pop', 'Synth-pop'], 'tracks': {1: 'I Forgot That You Existed', 2: 'Cruel Summer', 3: 'Lover', 4: 'The Man', 5: 'The Archer', 6: 'I Think He Knows', 7: 'Miss Americana & The Heartbreak Prince', 8: 'Paper Rings', 9: 'Cornelia Street', 10: 'Death By A Thousand Cuts', 11: 'London Boy', 12: \"Soon You'll Get Better (feat. Dixie Chicks)\", 13: 'False God', 14: 'You Need To Calm Down', 15: 'Afterglow', 16: 'Me! (feat. Brendon Urie of Panic! At The Disco)', 17: \"It's Nice To Have A Friend\", 18: 'Daylight', 19: 'All Of The Girls You Loved Before'}, 'producer': {'Taylor Swift', 'Louis Bell', 'Frank Dukes', 'Joel Little', 'Jack Antonoff'}}\n",
      "['Pop', 'Synth-pop', 'electropop']\n"
     ]
    }
   ],
   "source": [
    "# Adding a an key-value pair to an existing key \n",
    "lover_album[\"tracks\"].update({19: \"All Of The Girls You Loved Before\"})\n",
    "\n",
    "# How would add an additional genre to the dictionary, like electropop? \n",
    "# \n",
    "# \n",
    "\n",
    "# Printing the dictionary\n",
    "print(lover_album)\n",
    "\n",
    "\n",
    "lover_album[\"genre\"].append(\"electropop\")\n",
    "print(lover_album[\"genre\"])"
   ]
  },
  {
   "attachments": {},
   "cell_type": "markdown",
   "metadata": {},
   "source": [
    "<mark>You can use the append function to add a genre to the genres list within the dictionary.</mark>"
   ]
  },
  {
   "cell_type": "code",
   "execution_count": 32,
   "metadata": {},
   "outputs": [
    {
     "name": "stdout",
     "output_type": "stream",
     "text": [
      "title: Lover\n",
      "artist: Taylor Swift\n",
      "year: 2019\n",
      "genre: ['Pop', 'Synth-pop', 'electropop']\n",
      "tracks: {1: 'I Forgot That You Existed', 2: 'Cruel Summer', 3: 'Lover', 4: 'The Man', 5: 'The Archer', 6: 'I Think He Knows', 7: 'Miss Americana & The Heartbreak Prince', 8: 'Paper Rings', 9: 'Cornelia Street', 10: 'Death By A Thousand Cuts', 11: 'London Boy', 12: \"Soon You'll Get Better (feat. Dixie Chicks)\", 13: 'False God', 14: 'You Need To Calm Down', 15: 'Afterglow', 16: 'Me! (feat. Brendon Urie of Panic! At The Disco)', 17: \"It's Nice To Have A Friend\", 18: 'Daylight', 19: 'All Of The Girls You Loved Before'}\n",
      "producer: {'Taylor Swift', 'Louis Bell', 'Frank Dukes', 'Joel Little', 'Jack Antonoff'}\n",
      "\n",
      "---Tracks in Lover album by Taylor Swift---\n",
      "track #1: I Forgot That You Existed\n",
      "track #2: Cruel Summer\n",
      "track #3: Lover\n",
      "track #4: The Man\n",
      "track #5: The Archer\n",
      "track #6: I Think He Knows\n",
      "track #7: Miss Americana & The Heartbreak Prince\n",
      "track #8: Paper Rings\n",
      "track #9: Cornelia Street\n",
      "track #10: Death By A Thousand Cuts\n",
      "track #11: London Boy\n",
      "track #12: Soon You'll Get Better (feat. Dixie Chicks)\n",
      "track #13: False God\n",
      "track #14: You Need To Calm Down\n",
      "track #15: Afterglow\n",
      "track #16: Me! (feat. Brendon Urie of Panic! At The Disco)\n",
      "track #17: It's Nice To Have A Friend\n",
      "track #18: Daylight\n",
      "track #19: All Of The Girls You Loved Before\n"
     ]
    }
   ],
   "source": [
    "# Print lover_album in more readable format\n",
    "for k,v in lover_album.items(): # iterate using a for loop for key and value\n",
    "    print(str(k) + \": \" + str(v))\n",
    "\n",
    "# Write your own code to print tracks in readable format\n",
    "#\n",
    "#\n",
    "print(\"\\n---Tracks in Lover album by Taylor Swift---\")\n",
    "for i in lover_album[\"tracks\"]:\n",
    "    print(\"track #\" + str(i) + \": \" + lover_album[\"tracks\"][i])\n",
    "#print(lover_album[\"tracks\"])"
   ]
  },
  {
   "attachments": {},
   "cell_type": "markdown",
   "metadata": {},
   "source": [
    "<mark>In the above code, you can see that I printed out the tracks in a readable format. I even included the track number.</mark>"
   ]
  },
  {
   "cell_type": "code",
   "execution_count": 42,
   "metadata": {},
   "outputs": [
    {
     "name": "stdout",
     "output_type": "stream",
     "text": [
      "track #19: All Of The Girls You Loved Before\n"
     ]
    }
   ],
   "source": [
    "# Using conditionals to retrieve a random song\n",
    "def search():\n",
    "    search = input(\"What would you like to know about the album? Valid options are title, artist, year, genre, and tracks.\")\n",
    "    if search.lower() == \"tracks\":\n",
    "        number = input(\"Which track number do you wish to know? If you wish to see all the tracks, enter 'all'. Otherwise, please enter a number between 1-19.\")\n",
    "        if (number == \"all\"):\n",
    "            for i in lover_album[\"tracks\"]:\n",
    "                print(\"track #\" + str(i) + \": \" + lover_album[\"tracks\"][i])\n",
    "        else:\n",
    "            print(\"track #\" + str(number) + \": \" + lover_album[\"tracks\"][int(number)])\n",
    "    elif lover_album.get(search.lower()) == None:\n",
    "        print(\"Invalid Search. Your option was not one of the valid options.\")\n",
    "    else:\n",
    "        print(lover_album.get(search.lower()))\n",
    "\n",
    "\n",
    "search()\n",
    "# This is a very basic code segment, how can you improve upon this code?\n",
    "#\n",
    "#"
   ]
  },
  {
   "attachments": {},
   "cell_type": "markdown",
   "metadata": {},
   "source": [
    "<mark>To make this code segment better, you can give some options and give clearer errors. For instance, \"your option was not a valid choice, please select a valid choice.\"</mark>"
   ]
  },
  {
   "attachments": {},
   "cell_type": "markdown",
   "metadata": {},
   "source": [
    "## Hacks\n",
    "\n",
    "- Answer *ALL* questions in the code segments\n",
    "    - <mark>I answered all the questions. Note that I didn't answer them in the code segments, but rather I answered them below each code segment. All my answers are highlighted!</mark>\n",
    "- Create a diagram or comparison illustration (Canva).\n",
    "    - What are the pro and cons of using this data structure? \n",
    "    - Dictionary vs List    \n",
    "    - <mark>See below.</mark>\n",
    "- Expand upon the code given to you, possible improvements in comments <mark>Done!</mark>\n",
    "- Build your own album showing features of a python dictionary <mark>See below!</mark>\n",
    "\n",
    "- For Mr. Yeung's class: Justify your favorite Taylor Swift song, answer may effect seed"
   ]
  },
  {
   "attachments": {},
   "cell_type": "markdown",
   "metadata": {},
   "source": [
    "### Here is my CANVA diagram"
   ]
  },
  {
   "attachments": {},
   "cell_type": "markdown",
   "metadata": {},
   "source": [
    "![image](../images/week28canva.png)"
   ]
  },
  {
   "attachments": {},
   "cell_type": "markdown",
   "metadata": {},
   "source": [
    "<mark>Here I create a folklore album for Taylor Swift.</mark>"
   ]
  },
  {
   "cell_type": "code",
   "execution_count": 45,
   "metadata": {},
   "outputs": [
    {
     "name": "stdout",
     "output_type": "stream",
     "text": [
      "{'title': 'Folklore', 'artist': 'Taylor Swift', 'year': 2020, 'genre': ['Alternative/Indie', 'Pop'], 'tracks': {1: ['the 1', 7], 2: ['cardigan', 19], 3: ['the last great american dynasty', 7], 4: ['exile (ft. Bon Iver)', 10], 5: ['my tears ricochet', 7], 6: ['mirrorball', 6], 7: ['seven', 5], 8: ['august', 7], 9: ['this is me trying', 7], 10: ['illicit affairs', 8], 11: ['invisible string', 6], 12: ['mad woman', 7], 13: ['epiphany', 6], 14: ['betty', 8], 15: ['peace', 9], 16: ['hoax', 7], 17: ['the lakes', 6]}}\n"
     ]
    }
   ],
   "source": [
    "# Creating a dictionary with information about the album \"Lover\"\n",
    "folklore_album = {\n",
    "    \"title\": \"Folklore\",\n",
    "    \"artist\": \"Taylor Swift\",\n",
    "    \"year\": 2020,\n",
    "    \"genre\": [\"Alternative/Indie\", \"Pop\"],\n",
    "    \"tracks\": {\n",
    "        1: [\"the 1\", 7],\n",
    "        2: [\"cardigan\", 19],\n",
    "        3: [\"the last great american dynasty\", 7],\n",
    "        4: [\"exile (ft. Bon Iver)\", 10],\n",
    "        5: [\"my tears ricochet\", 7],\n",
    "        6: [\"mirrorball\", 6],\n",
    "        7: [\"seven\", 5],\n",
    "        8: [\"august\", 7],\n",
    "        9: [\"this is me trying\", 7],\n",
    "        10: [\"illicit affairs\", 8],\n",
    "        11: [\"invisible string\", 6],\n",
    "        12: [\"mad woman\", 7],\n",
    "        13: [\"epiphany\", 6],\n",
    "        14: [\"betty\", 8],\n",
    "        15: [\"peace\", 9],\n",
    "        16: [\"hoax\", 7],\n",
    "        17: [\"the lakes\", 6]\n",
    "    }\n",
    "}\n",
    "\n",
    "# Printing the dictionary\n",
    "print(folklore_album)"
   ]
  },
  {
   "cell_type": "code",
   "execution_count": 48,
   "metadata": {},
   "outputs": [
    {
     "name": "stdout",
     "output_type": "stream",
     "text": [
      "track #1: the 1\n",
      "    my rating: 7/10\n",
      "track #2: cardigan\n",
      "    my rating: 19/10\n",
      "track #3: the last great american dynasty\n",
      "    my rating: 7/10\n",
      "track #4: exile (ft. Bon Iver)\n",
      "    my rating: 10/10\n",
      "track #5: my tears ricochet\n",
      "    my rating: 7/10\n",
      "track #6: mirrorball\n",
      "    my rating: 6/10\n",
      "track #7: seven\n",
      "    my rating: 5/10\n",
      "track #8: august\n",
      "    my rating: 7/10\n",
      "track #9: this is me trying\n",
      "    my rating: 7/10\n",
      "track #10: illicit affairs\n",
      "    my rating: 8/10\n",
      "track #11: invisible string\n",
      "    my rating: 6/10\n",
      "track #12: mad woman\n",
      "    my rating: 7/10\n",
      "track #13: epiphany\n",
      "    my rating: 6/10\n",
      "track #14: betty\n",
      "    my rating: 8/10\n",
      "track #15: peace\n",
      "    my rating: 9/10\n",
      "track #16: hoax\n",
      "    my rating: 7/10\n",
      "track #17: the lakes\n",
      "    my rating: 6/10\n"
     ]
    }
   ],
   "source": [
    "# Here I print the tracks list in a readable format with MY rating :)\n",
    "for i in folklore_album[\"tracks\"]:\n",
    "    print(\"track #\" + str(i) + \": \" + folklore_album[\"tracks\"][i][0])\n",
    "    print(\"    my rating: \" + str(folklore_album[\"tracks\"][i][1]) + \"/10\")"
   ]
  },
  {
   "attachments": {},
   "cell_type": "markdown",
   "metadata": {},
   "source": [
    "### The Best Taylor Swift Song\n",
    "The best TS song is definitely from the folklore album. I really like exile ft. Bon Iver because of the contrast between Taylor's soft, gentle voice and Bon Iver's deep voice. It gives the song a lot of depth, and the lyrics are also very emotional and moving. The song is very **haunting** and it stays with you for a long time."
   ]
  }
 ],
 "metadata": {
  "kernelspec": {
   "display_name": "base",
   "language": "python",
   "name": "python3"
  },
  "language_info": {
   "codemirror_mode": {
    "name": "ipython",
    "version": 3
   },
   "file_extension": ".py",
   "mimetype": "text/x-python",
   "name": "python",
   "nbconvert_exporter": "python",
   "pygments_lexer": "ipython3",
   "version": "3.9.12"
  },
  "orig_nbformat": 4
 },
 "nbformat": 4,
 "nbformat_minor": 2
}
