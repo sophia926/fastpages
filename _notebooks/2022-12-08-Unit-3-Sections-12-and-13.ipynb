{
 "cells": [
  {
   "attachments": {},
   "cell_type": "markdown",
   "metadata": {},
   "source": [
    "# Unit 3 Sections 12 and 13\n",
    "- comments: true\n",
    "- title: Unit 3 Sections 12 and 13\n",
    "- toc: true\n",
    "- categories: [week15]"
   ]
  },
  {
   "attachments": {},
   "cell_type": "markdown",
   "metadata": {},
   "source": [
    "Grade: I got a 1/1"
   ]
  },
  {
   "attachments": {},
   "cell_type": "markdown",
   "metadata": {},
   "source": [
    "**MY OWN NOTES:**\n",
    "- When developing procedures, you should ask yourself some questions like \n",
    "    - What am I going to name my procedure? (It should reflect the purpose of the code)\n",
    "    - What parameters do I need?\n",
    "    - What data would I need to take in to accomplish my goal?\n",
    "    - Do I want my procedure to give a numerical value, or complete an action?\n",
    "- Procedures are SUPER effective and save a lot of time because they are much easier to debug"
   ]
  },
  {
   "cell_type": "markdown",
   "metadata": {},
   "source": [
    "# Take some additional notes that you would like here for 3.12 and 3.13. We will be looking for additional notes from the presentation. \n"
   ]
  },
  {
   "attachments": {},
   "cell_type": "markdown",
   "metadata": {},
   "source": [
    "# What are procedures?\n",
    "\n",
    "**VOCAB:**\n",
    "\n",
    "Procedure: named group of programming instructions that may have parameters and return values.\n",
    "\n",
    "Parameters: input values of a procedure\n",
    "\n",
    "Arguments: specify the values of the parameters when a procedure is called\n",
    "\n",
    "Modularity: Separating a program's functions into independent pieces or blocks, each containing all the parts needed to execute a single aspect of the functionality\n",
    "\n",
    "Procedural Abstraction: process that allows a procedure to be used only knowing WHAT it does, not HOW it does it\n",
    "\n",
    "What are some other names for procedures?: other names for procedures include methods, strategies, \n",
    "\n",
    "Why are procedures effective?: have the ability to alter the result without actually changing the calls to the program, Convenient to change the actions if there is an error in the code, MUCH better than reviewing code WITHOUT a procedure, able to break the code up and abstract what different part of the code does, helps identify errors/bugs"
   ]
  },
  {
   "attachments": {},
   "cell_type": "markdown",
   "metadata": {},
   "source": [
    "## <mark>Challenge 1</mark> below: Add the command that will **call** the procedure. "
   ]
  },
  {
   "cell_type": "code",
   "execution_count": 13,
   "metadata": {},
   "outputs": [
    {
     "data": {
      "text/plain": [
       "'1010'"
      ]
     },
     "execution_count": 13,
     "metadata": {},
     "output_type": "execute_result"
    }
   ],
   "source": [
    "function convertToBinary(n) {\n",
    "    const result = n.toString(parseInt(2));\n",
    "    return result;\n",
    "}\n",
    "convertToBinary(10);"
   ]
  },
  {
   "attachments": {},
   "cell_type": "markdown",
   "metadata": {},
   "source": [
    "## <mark>Challenge 2</mark> below: Complete the Min and Max procedure in either JavaScript and Python using the instructions from the JavaScript page. (JavaScript will get you a extra 0.1)"
   ]
  },
  {
   "cell_type": "code",
   "execution_count": 3,
   "metadata": {},
   "outputs": [
    {
     "name": "stdout",
     "output_type": "stream",
     "text": [
      "20\n",
      "10\n"
     ]
    }
   ],
   "source": [
    "function findMax(numberA, numberB) {\n",
    "    if (numberA > numberB) {\n",
    "        return numberA;\n",
    "    }\n",
    "    else {\n",
    "        return numberB;\n",
    "    }\n",
    "}\n",
    "\n",
    "function findMin(numberA, numberB) {\n",
    "    if (numberA < numberB) {\n",
    "        return numberA;\n",
    "    }\n",
    "    else {\n",
    "        return numberB;\n",
    "    }\n",
    "}\n",
    "\n",
    "console.log(findMax(10, 20));\n",
    "console.log(findMin(10, 20));\n"
   ]
  },
  {
   "attachments": {},
   "cell_type": "markdown",
   "metadata": {},
   "source": [
    "## <mark>Homework/Hacks</mark>: For the hw, you have two options, easy or hard. The easy hack is for a 2.7 + extra work for the full 3. The easy hack is simply creating your own procedure with your own creativity. Since there is a lot of leeway for this one, you must do additional work to get a 3. For the hard hack, below is the start to a character to binary convertor. This is just a template, but the goal is to translate \"APCSP\" into binary. You can delete the existing code if you want. The only contraint is that you must use a procedure. Doing this will get you a 3. "
   ]
  },
  {
   "cell_type": "code",
   "execution_count": 9,
   "metadata": {},
   "outputs": [
    {
     "name": "stdout",
     "output_type": "stream",
     "text": [
      "APCSP to binary is...\n",
      "1000001 1010000 1000011 1010011 1010000 \n"
     ]
    }
   ],
   "source": [
    "function convert(hello){\n",
    "    var output = \"\";\n",
    "\n",
    "\n",
    "    output.innerHTML = \"\";\n",
    "    for (var i = 0; i < hello.length; i++){\n",
    "      output = output + hello[i].charCodeAt(0).toString(2) + \" \";\n",
    "    }\n",
    "    return output;\n",
    "  }\n",
    "\n",
    "\n",
    "console.log(\"APCSP to binary is...\")\n",
    "console.log(convert(\"APCSP\"));"
   ]
  },
  {
   "attachments": {},
   "cell_type": "markdown",
   "metadata": {},
   "source": [
    "I did everything in JavaScript, and I also did the challenge for the HW (converting \"APCSP\" to binary)."
   ]
  }
 ],
 "metadata": {
  "kernelspec": {
   "display_name": "JavaScript (Node.js)",
   "language": "javascript",
   "name": "javascript"
  },
  "language_info": {
   "file_extension": ".js",
   "mimetype": "application/javascript",
   "name": "javascript",
   "version": "6.11.2"
  },
  "orig_nbformat": 4,
  "vscode": {
   "interpreter": {
    "hash": "916dbcbb3f70747c44a77c7bcd40155683ae19c65e1c03b4aa3499c5328201f1"
   }
  }
 },
 "nbformat": 4,
 "nbformat_minor": 2
}
