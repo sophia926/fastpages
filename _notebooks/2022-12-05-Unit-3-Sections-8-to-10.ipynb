{
 "cells": [
  {
   "cell_type": "markdown",
   "metadata": {},
   "source": [
    "# Lists and Iteration Homework and Challenges\n",
    "> Try to complete this to show understanding! Copy this into your notebook so you can also take notes as we lecture. Make a copy of this notebook to your own repository to take notes, do the class challenges, and to access the homework.\n",
    "- title: Unit 3 Sections 8 and 10\n",
    "- toc: true\n",
    "- categories: [week15]"
   ]
  },
  {
   "cell_type": "markdown",
   "metadata": {},
   "source": [
    "## Overview and Notes:  3.10 - Lists\n",
    "- Make sure you complete the challenge in the challenges section while we present the lesson! \n",
    "\n",
    "Add your <mark>OWN</mark> Notes for 3.10 here: \n",
    "- Items in lists are located with indexes, which, in most code languages, start with 0 (though the pseudocode used by CollegeBoard usually starts at 1!).\n",
    "- Lists are incredibly helpful because you can use them to store unlimited amounts of data, and using loops and functions that locate list data using indexes, the information can be procedurally used in a way that suits a certain purpose.\n",
    "\n",
    "\n",
    "\n",
    "\n",
    "Fill out the empty boxes: \n",
    "\n",
    "|   Pseudocode Operation  | Python Syntax |                                                           Description                                                          |\n",
    "|:-----------------------:|---------------|:------------------------------------------------------------------------------------------------------------------------------:|\n",
    "|         aList[i]        |       aList[i]        | _Accesses the element of aList at index i_                                                                                     |\n",
    "|       x ← aList[i]      |       x = aList(i)        | _Assigns the element of aList at index i <br>to a variable 'x'_                                                                |\n",
    "|       aList[i] ← x      |      aList(i) = x         | _Assigns the value of a variable 'x' to <br>the element of a List at index i_                                                  |\n",
    "|   aList[i] ← aList[j]   |       aList[i] = aList[j]        | _Assigns value of aList[j] to aList[i]_                                                                                        |\n",
    "| INSERT(aList, i, value) |       aList.insert(i, value)        | _value is placed at index i in aList. Any <br>element at an index greater than i will shift<br>one position to the right. _    |\n",
    "|   APPEND(aList, value)  |      aList.append(value)         | value is added as an element to the end of aList and length of aList is increased by 1                                    |\n",
    "|     REMOVE(aList, i)    |      aList.pop(i)<br>OR<br>aList.remove(value)         | _Removes item at index i and any values at <br>indices greater than i shift to the left. <br>Length of aList decreased by 1. _ |\n"
   ]
  },
  {
   "cell_type": "markdown",
   "metadata": {},
   "source": [
    "## Overview and Notes:  3.8 - Iteration\n",
    "\n",
    "Add your <mark>OWN</mark> Notes for 3.8 here: \n",
    "- Iteration is the repetition of a function. Allowing a function to repeat on its own based on various conditions can vastly optimize a program.\n",
    "- Iteration is most often done with loops, typically in combination with lists and/or dictionaries.\n",
    "- Conditional iteration continues repeating until a condition is met\n",
    "- Nested loops or repeated loops are also useful\n",
    "\n",
    "\n"
   ]
  },
  {
   "cell_type": "markdown",
   "metadata": {},
   "source": [
    "## Homework Assignment\n",
    "\n",
    "Instead of us making a quiz for you to take, we would like YOU to make a quiz about the material we reviewed.\n",
    "\n",
    "We would like you to <mark>input questions into a list</mark>, and use some sort of iterative system to print the questions, detect an input, and determine if you answered correctly. There should be *at least* <mark>five questions</mark>, each with *at least* <mark>three possible answers</mark>.\n",
    "\n",
    "You may use the template below as a framework for this assignment."
   ]
  },
  {
   "cell_type": "code",
   "execution_count": 36,
   "metadata": {},
   "outputs": [
    {
     "name": "stdout",
     "output_type": "stream",
     "text": [
      "Welcome to the quiz! For your answers, please enter in 'A', 'B', or 'C'! Thanks!\n",
      "A is correct!\n",
      "C is correct!\n",
      "B is correct!\n",
      "C is correct!\n",
      "B is correct!\n",
      "A is correct!\n",
      "You scored6/6\n",
      "Your percentage is 100.0%! Good work!\n",
      "You passed!\n"
     ]
    }
   ],
   "source": [
    "import random\n",
    "\n",
    "print(\"Welcome to the quiz! For your answers, please enter in 'A', 'B', or 'C'! Thanks!\")\n",
    "\n",
    "def question(prompt, answer):\n",
    "    msg = input(\"Question: \" + prompt)\n",
    "    if msg == answer:\n",
    "        print(msg + \" is correct!\")\n",
    "        return(1)\n",
    "    else:\n",
    "        print(msg + \" is incorrect!\")\n",
    "        return(0)\n",
    "\n",
    "# Append to List a Dictionary of key/values related to a person and cars\n",
    "quiz = {\n",
    "    \"Which of the following python codes accesses the element from a list at index i? (A) aList[i] (B) aList(i) (C) aList[[i]]\": \"A\",\n",
    "    \"What are lists? (A) my grocery list (B) a useful feature in only the Python language (C) collections of data\": \"C\",\n",
    "    \"What indexes do lists start at in programming languages? (A) -1 (B) 0 (C) 1\": \"B\",\n",
    "    \"What indexes do lists in Collegeboard start at? (A) -1 (B) 0 (C) 1\": \"C\",\n",
    "    \"What is iteration? (A) When the teacher talks about something twice (B) repetition (C) a for loop\": \"B\",\n",
    "    \"When is a good time to use a recursive loop? (A) to limit the starting point (B) to be fancy (C) if you want a while loop\": \"A\"\n",
    "}\n",
    "\n",
    "numqs = 6\n",
    "correct = 0\n",
    "\n",
    "for item in quiz:\n",
    "    num = question(item, quiz[item])\n",
    "    correct = correct + num\n",
    "\n",
    "print(\"You scored\" + str(correct) +\"/\" + str(numqs))\n",
    "print(\"Your percentage is \" + str(correct/numqs*100) + \"%! Good work!\")\n",
    "if (correct >= 5):\n",
    "    print(\"You passed!\")\n",
    "else:\n",
    "    print(\"You failed!\")"
   ]
  },
  {
   "cell_type": "markdown",
   "metadata": {},
   "source": [
    "### Hacks\n",
    "\n",
    "Here are some ideas of things you can do to make your program even cooler. Doing these will raise your grade if done correctly.\n",
    "\n",
    "- Add more than five questions with more than three answer choices\n",
    "- Randomize the order in which questions/answers are output\n",
    "- At the end, display the user's score and determine whether or not they passed\n",
    "\n",
    "## Challenges\n",
    "\n",
    "<mark>Important!</mark> You don't have to complete these challenges completely perfectly, but you will be marked down if you don't show evidence of at least having tried these challenges in the time we gave during the lesson.\n",
    "\n",
    "### 3.10 Challenge\n",
    "\n",
    "Follow the instructions in the code comments."
   ]
  },
  {
   "cell_type": "code",
   "execution_count": 8,
   "metadata": {},
   "outputs": [
    {
     "name": "stdout",
     "output_type": "stream",
     "text": [
      "carrots\n",
      "['apples', 'eggs', 'artichokes', 'carrots', 'cucumbers', 'umbrellas', 'artichokes']\n"
     ]
    }
   ],
   "source": [
    "grocery_list = ['apples', 'milk', 'oranges', 'carrots', 'cucumbers']\n",
    "\n",
    "# Print the fourth item in the list\n",
    "grocery_list[3]\n",
    "\n",
    "# Now, assign the fourth item in the list to a variable, x and then print the variable\n",
    "x = grocery_list[3]\n",
    "print(x)\n",
    "\n",
    "# Add these two items at the end of the list : umbrellas and artichokes\n",
    "grocery_list.append(\"umbrellas\")\n",
    "grocery_list.append(\"artichokes\")\n",
    "\n",
    "# Insert the item eggs as the third item of the list \n",
    "grocery_list.insert(2, \"eggs\")\n",
    "\n",
    "# Remove milk from the list \n",
    "grocery_list.remove(\"milk\")\n",
    "\n",
    "# Assign the element at the end of the list to index 2. Print index 2 to check\n",
    "grocery_list[2] = grocery_list[-1]\n",
    "\n",
    "# Print the entire list, does it match ours ? \n",
    "print(grocery_list)\n",
    "\n",
    "# Expected output\n",
    "# carrots\n",
    "# carrots\n",
    "# artichokes\n",
    "# ['apples', 'eggs', 'artichokes', 'carrots', 'cucumbers', 'umbrellas', 'artichokes']"
   ]
  },
  {
   "cell_type": "markdown",
   "metadata": {},
   "source": [
    "### 3.8 Challenge\n",
    "\n",
    "Create a loop that <mark>converts 8-bit binary values</mark> from the provided list into <mark>decimal numbers</mark>. Then, after the value is determined, <mark>remove all the values greater than 100</mark> from the list using a list-related function you've been taught before. <mark>Print the new list</mark> when done.\n",
    "\n",
    "Once you've done this with one of the types of loops discussed in this lesson, create a function that does the same thing with a *different* type of loop."
   ]
  },
  {
   "cell_type": "code",
   "execution_count": 25,
   "metadata": {},
   "outputs": [
    {
     "name": "stdout",
     "output_type": "stream",
     "text": [
      "[73, 55]\n"
     ]
    }
   ],
   "source": [
    "binarylist = [\n",
    "    \"01001001\", \"10101010\", \"10010110\", \"00110111\", \"11101100\", \"11010001\", \"10000001\"\n",
    "]\n",
    "\n",
    "def binary_convert(binary):\n",
    "    return(int(binary,2))\n",
    "\n",
    "for i in range(0,7):\n",
    "     binarylist[i] = binary_convert(binarylist[i])\n",
    "\n",
    "finalList = []\n",
    "\n",
    "for i in range(0,7):\n",
    "    if (binarylist[i] <= 100):\n",
    "        finalList.append(binarylist[i])\n",
    "\n",
    "print(finalList)"
   ]
  }
 ],
 "metadata": {
  "kernelspec": {
   "display_name": "Python 3.8.10 64-bit",
   "language": "python",
   "name": "python3"
  },
  "language_info": {
   "codemirror_mode": {
    "name": "ipython",
    "version": 3
   },
   "file_extension": ".py",
   "mimetype": "text/x-python",
   "name": "python",
   "nbconvert_exporter": "python",
   "pygments_lexer": "ipython3",
   "version": "3.8.10"
  },
  "orig_nbformat": 4,
  "vscode": {
   "interpreter": {
    "hash": "916dbcbb3f70747c44a77c7bcd40155683ae19c65e1c03b4aa3499c5328201f1"
   }
  }
 },
 "nbformat": 4,
 "nbformat_minor": 2
}
