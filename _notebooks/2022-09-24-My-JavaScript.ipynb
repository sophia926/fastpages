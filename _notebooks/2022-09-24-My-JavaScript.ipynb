{
 "cells": [
  {
   "cell_type": "markdown",
   "metadata": {},
   "source": [
    "# JavaScript Documentation\n",
    "> This is a documentation of all my javascript code for this week.\n",
    "- title: JavaScript Documentation\n",
    "- toc: true \n",
    "- badges: true\n",
    "- comments: true\n",
    "- categories: [week5]"
   ]
  },
  {
   "cell_type": "markdown",
   "metadata": {},
   "source": [
    "{% include nav_javascript.html %}"
   ]
  },
  {
   "cell_type": "markdown",
   "metadata": {},
   "source": [
    "### What I did\n",
    "\n",
    "#### Submenu\n",
    "I created a submenu which shows usage of Jupyter JavaScript kernel.\n",
    "\n",
    "#### Calculator\n",
    "I created a simple calculator, which you can go to by clicking the above link in the header or by clicking <a href=\"{{site.baseurl}}/java/calculator\">this</a>.\n",
    "\n",
    "In this calculator, I demonstrated that I can use javascript and HTML. Here is an image of my code that I wrote :)\n",
    "![](../images/week5calculatorcode.jpg)\n",
    "\n",
    "### Food Ratings\n",
    "I also created a food ratings table, which you can go to by clicking the above link in the header or by clicking <a href=\"{{site.baseurl}}/java/foodratings\">this</a>.\n",
    "\n",
    "In this food ratings, I demonstrated JS and HTML. Here is an image of my code that I wrote :)\n",
    "![](../images/week5foodratingscode.jpg)"
   ]
  }
 ],
 "metadata": {
  "kernelspec": {
   "display_name": "Python 3.8.10 64-bit",
   "language": "python",
   "name": "python3"
  },
  "language_info": {
   "file_extension": ".js",
   "mimetype": "application/javascript",
   "name": "python",
   "version": "3.8.10"
  },
  "orig_nbformat": 4,
  "vscode": {
   "interpreter": {
    "hash": "916dbcbb3f70747c44a77c7bcd40155683ae19c65e1c03b4aa3499c5328201f1"
   }
  }
 },
 "nbformat": 4,
 "nbformat_minor": 2
}
