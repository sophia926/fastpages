{
 "cells": [
  {
   "attachments": {},
   "cell_type": "markdown",
   "metadata": {},
   "source": [
    "# Unit 3 Sections 14 and 15 Master\n",
    "\n",
    "- title: Unit 3 Sections 14 an 15 ALL (combined)\n",
    "- toc: true\n",
    "- comments: true\n",
    "- categories: [week16]"
   ]
  },
  {
   "attachments": {},
   "cell_type": "markdown",
   "metadata": {},
   "source": [
    "Purpose: Help students streamline and make their coding experience easier through built in packages and methods from a library\n",
    "<br>Objective: By the end of the lesson, students should be able to fluently use methods from the turtle and math packages, and be able to look up documentation for any python package and us it."
   ]
  },
  {
   "attachments": {},
   "cell_type": "markdown",
   "metadata": {},
   "source": [
    "fill in the blanks!\n",
    "# Libraries\n",
    "Okay, so we've learned a lot of code, and all of you now can boast that you can code at least some basic programs in python. But, what about more advanced stuff? What if there's a more advanced program you don't know how to make? Do you need to make it yourself? Well, not always. \n",
    "\n",
    "You've already learned about **functions** that you can write to reuse in your code in previous lessons. But,there are many others who code in python just like you. So why would you do again what someone has already done, and is available for any python user? \n",
    "\n",
    "**Packages** allow a python user to import **methods** from a **library**, and use the methods in their code. Most libraries come with **documentation** on the different methods they entail and how to use them, and they can be found with a quick **google search**. methods are used with the following: \n",
    "\n",
    "#### Note: a method from a package can only be used after the import statement. \n",
    "\n",
    "Some libraries are always installed, such as those with the **list** methods which we have previously discussed. But others require a special python keyword called **import**. We will learn different ways to **import** in Challenge 1.\n",
    "\n",
    "Sometimes we only need to import a single **method** from the package. We can do that with the word **from**, followed by the package name, then the word **import**, then the method. This will alllow you to use the method without mentioning the package's name, unlike what we did before, however other methods from that package cannot be used. To get the best of both worlds you can use *.\n",
    "\n",
    "To import a method as an easier name, just do what we did first, add the word **as**, and write the name you would like to use that package as.\n",
    "\n",
    "# Challenge 1: Basic Libraries\n",
    "1. Find a python package on the internet and import it\n",
    "2. Choose a method from the package and import only the method\n",
    "3. import the package as a more convenient name."
   ]
  },
  {
   "cell_type": "code",
   "execution_count": 1,
   "metadata": {},
   "outputs": [],
   "source": [
    "import random\n",
    "from random import randint\n",
    "import random as rand"
   ]
  },
  {
   "attachments": {},
   "cell_type": "markdown",
   "metadata": {},
   "source": [
    "# Challenge 2: Turtle\n",
    "Turtle is a python **drawing** library which allows you to draw all kinds of different shapes. It's ofter used to teach beginning python learners, but is really cool to use anywhere. Turtle employs a **graphics package** to display what you've done, but unfortunately it's kind of annoying to make work with vscode.\n",
    "<br>\n",
    "Use: repl.it\n",
    "<br>\n",
    "Click \"+ Create\", and for language, select \"Python (with Turtle)\"\n",
    "<br>\n",
    "[Documentation](https://docs.python.org/3/library/turtle.html#turtle.pendown)<br>\n",
    "Task: Have fun with turtle! Create something that uses at least 2 lines of different lengths and 2 turns with different angles, and changes at least one setting about either the pen or canvas. Also use one command that isn't mentioned on the table below(there are a lot). Paste a screenshot of the code and the drawing from repl.it\n",
    "\n",
    "|Commands|\n",
    "|--------|\n",
    "|forward(pixels)|\n",
    "|right(degrees)|\n",
    "|left(degrees)|\n",
    "|setpos(x,y)|\n",
    "|speed(speed)|\n",
    "|pensize(size)|\n",
    "|pencolor(color)|\n",
    "Note: Color should be within quotes, like \"brown\", or \"red\"\n",
    "\n"
   ]
  },
  {
   "attachments": {},
   "cell_type": "markdown",
   "metadata": {},
   "source": [
    "The command I used that wasn't mentioned was \"oogway.backward\"\n",
    "![](../images/week16turtle.jpg)"
   ]
  },
  {
   "attachments": {},
   "cell_type": "markdown",
   "metadata": {},
   "source": [
    "# Challenge 3: Math\n",
    "The math package allows for some really cool mathematical methods!<br>\n",
    "\n",
    "|methods|Action|\n",
    "|-------|------|\n",
    "|ceil(x)|computes the smallest integer that is greater than or equal to x|\n",
    "|floor(x)|rounds to largest intefer less than or equal to x|\n",
    "|factorial(x)|returns the factorial of x (for example factorial(4) is 4)|\n",
    "|gcd(x,y)|returns the greatest common denominator of x and y|\n",
    "|lcm(x,y)|returns the least common multiple of x and y|\n",
    "\n",
    "##### Challenge: Create a program which asks for a user input of two numbers, and returns the following:\n",
    "- each number rounded up\n",
    "- each number rounded down\n",
    "- the lcm of the rounded down numbers\n",
    "- the gcf of the rounded up numbers\n",
    "- the factorial of each number\n",
    "- something else using the math package!<br>\n",
    "[Documentation](https://docs.python.org/3/library/math.html)"
   ]
  },
  {
   "cell_type": "code",
   "execution_count": 8,
   "metadata": {},
   "outputs": [
    {
     "name": "stdout",
     "output_type": "stream",
     "text": [
      "x rounded up is 5\n",
      "y rounded up is 7\n",
      "x rounded down is 4\n",
      "y rounded down is 6\n",
      "lcm of rounded down numbers is 12\n",
      "gcf of the rounded up numbers is 1\n",
      "factorial of x is 24\n",
      "factorial of y is 720\n",
      "the square root of x is 2.04939015319192\n"
     ]
    }
   ],
   "source": [
    "import math\n",
    "from math import *\n",
    "\n",
    "x = float(input(\"Enter in one number: \"))\n",
    "y = float(input(\"Enter in another number: \"))\n",
    "print(\"x rounded up is \" + str(ceil(x)))\n",
    "print(\"y rounded up is \" + str(ceil(y)))\n",
    "print(\"x rounded down is \" + str(floor(x)))\n",
    "print(\"y rounded down is \" + str(floor(y)))\n",
    "print(\"lcm of rounded down numbers is \" + str(lcm(floor(x), floor(y))))\n",
    "print(\"gcf of the rounded up numbers is \" + str(gcd(ceil(x), ceil(y))))\n",
    "print(\"factorial of x is \" + str(factorial(floor(x))))\n",
    "print(\"factorial of y is \" + str(factorial(floor(y))))\n",
    "print(\"the square root of x is \" + str(sqrt(x)))"
   ]
  },
  {
   "attachments": {},
   "cell_type": "markdown",
   "metadata": {},
   "source": [
    "# Homework: Putting it all together(complete only after the random values lesson)\n",
    "Option 1: Create a python program which generates a random number between 1 and 10, and use turtle to draw a regular polygon with that many sides. As a hint, remember that the total sum of all the angles in a polygon is (the number of sides - 2) * 180. Note: a regular polygon has all sides and angles the same size. Paste a screenshot of the code and the drawing from repl.it\n",
    "\n",
    "Option 2: use the \"datetime\" package, and looking up documentation, create a program to generate 2 random dates and find the number of days between\n",
    "\n",
    "\n",
    "Extra ideas: customize the settings, draw a picture, or something else!"
   ]
  },
  {
   "attachments": {},
   "cell_type": "markdown",
   "metadata": {},
   "source": [
    "I chose option 1. I also added something extra where the length of the sides of the polygon is randomized, also the user can input a color!\n",
    "![](../images/week16turtle2.jpg)"
   ]
  },
  {
   "attachments": {},
   "cell_type": "markdown",
   "metadata": {},
   "source": [
    "# Unit 3.15 Random Values\n",
    "> Here is our lesson about random values!"
   ]
  },
  {
   "attachments": {},
   "cell_type": "markdown",
   "metadata": {},
   "source": [
    "Purpose/Objectives: Teach student how to implement randomness into their code to make their code simulate real life situations. \n",
    "\n",
    "In this lesson students will learn:\n",
    "- How to import random to python\n",
    "- How to use random with a list or number range \n",
    "- How to code randomness in everyday scenarios"
   ]
  },
  {
   "attachments": {},
   "cell_type": "markdown",
   "metadata": {},
   "source": [
    "ADD YOUR ADDITIONAL NOTES HERE:\n",
    "- **Random Values** are a number generated using a large set of numbers and a mathematical algorithm which gives equal probability to all number occuring\n",
    "- Random values are SUPER useful in coding, you need them SUPER often"
   ]
  },
  {
   "attachments": {},
   "cell_type": "markdown",
   "metadata": {},
   "source": [
    "## What are Random Values?\n",
    "Random Values are a number generated using a large set of numbers and a mathematical algorithm which gives equal probability to all number occuring\n",
    "Each Result from randomization is equally likely to occur\n",
    "Using random number generation in a program means each execution may produce a different result\n",
    "What are Examples of Random outputs in the world?  Add a few you can think of. \n",
    "- Ex: Marbles\n"
   ]
  },
  {
   "attachments": {},
   "cell_type": "markdown",
   "metadata": {},
   "source": [
    "## Why do we need Random Values for code?\n",
    "Random values can be used in coding:"
   ]
  },
  {
   "cell_type": "code",
   "execution_count": 9,
   "metadata": {},
   "outputs": [
    {
     "name": "stdout",
     "output_type": "stream",
     "text": [
      "45\n"
     ]
    }
   ],
   "source": [
    "import random\n",
    "random_number = random.randint(1,100)\n",
    "print(random_number)"
   ]
  },
  {
   "cell_type": "code",
   "execution_count": 10,
   "metadata": {},
   "outputs": [
    {
     "name": "stdout",
     "output_type": "stream",
     "text": [
      "apple\n"
     ]
    }
   ],
   "source": [
    "def randomlist():\n",
    "    list = [\"apple\", \"banana\", \"cherry\", \"blueberry\"]\n",
    "    element = random.choice(list)\n",
    "    print(element)\n",
    "randomlist()"
   ]
  },
  {
   "attachments": {},
   "cell_type": "markdown",
   "metadata": {},
   "source": [
    "Real life example: dice roll"
   ]
  },
  {
   "cell_type": "code",
   "execution_count": 11,
   "metadata": {},
   "outputs": [
    {
     "name": "stdout",
     "output_type": "stream",
     "text": [
      "Roll 1:3\n",
      "Roll 2:5\n",
      "Roll 3:4\n"
     ]
    }
   ],
   "source": [
    "import random\n",
    "for i in range(3):\n",
    "    roll = random.randint(1,6)\n",
    "    print(\"Roll \" + str(i + 1) + \":\" + str(roll))"
   ]
  },
  {
   "attachments": {},
   "cell_type": "markdown",
   "metadata": {},
   "source": [
    "## Challenge #1\n",
    "Write a function that will a simulate a coinflip and print the output"
   ]
  },
  {
   "cell_type": "code",
   "execution_count": 12,
   "metadata": {},
   "outputs": [
    {
     "name": "stdout",
     "output_type": "stream",
     "text": [
      "tails\n",
      "tails\n"
     ]
    }
   ],
   "source": [
    "import random\n",
    "def coinflip():\n",
    "    x = random.randint(1,2)\n",
    "    if (x==1):\n",
    "        return(\"heads\")\n",
    "    else:\n",
    "        return(\"tails\")\n",
    "print(coinflip())\n",
    "print(coinflip())"
   ]
  },
  {
   "attachments": {},
   "cell_type": "markdown",
   "metadata": {},
   "source": [
    "## Homework\n",
    "Given a random decimal number convert it into binary\n",
    "as Extra convert it to hexidecimal as well. "
   ]
  },
  {
   "cell_type": "code",
   "execution_count": 14,
   "metadata": {},
   "outputs": [
    {
     "name": "stdout",
     "output_type": "stream",
     "text": [
      "The random decimal number is 51\n",
      "Converted to binary, it is 110011\n"
     ]
    }
   ],
   "source": [
    "import random\n",
    "x = random.randint(1,100)\n",
    "print(\"The random decimal number is \" + str(x))\n",
    "xbin = bin(x)\n",
    "print(\"Converted to binary, it is \" + xbin[2:])"
   ]
  },
  {
   "attachments": {},
   "cell_type": "markdown",
   "metadata": {},
   "source": [
    "# Unit 3 Sections 14-15 Homework"
   ]
  },
  {
   "attachments": {},
   "cell_type": "markdown",
   "metadata": {},
   "source": [
    "Create a program that asks the user for a day and then gives them a distance in days between that day and another random day in the year. We have provided you with a possible starter, but you are welcome to change it up if you would like."
   ]
  },
  {
   "cell_type": "code",
   "execution_count": 15,
   "metadata": {},
   "outputs": [
    {
     "name": "stdout",
     "output_type": "stream",
     "text": [
      "user date: 12/12/2022\n",
      "random date: 1/12/1994\n",
      "There are 10561 days between the two dates\n"
     ]
    }
   ],
   "source": [
    "from datetime import date\n",
    "import random\n",
    "import math\n",
    "\n",
    "# expected output shown below (or something similar)\n",
    "day = input(\"input a day: \")\n",
    "month = input(\"input a month: \")\n",
    "year = input(\"input a year: \")\n",
    "print(\"user date: \" + str(month) + \"/\" + str(day) + \"/\" + str(year))\n",
    "userdate = date(int(year), int(month), int(day))\n",
    "randommonth = random.randint(1,12)\n",
    "\n",
    "thirtyonedays = [1,3,5,7,8,10,12]\n",
    "\n",
    "if (randommonth in thirtyonedays):\n",
    "    randomday = random.randint(1,31)\n",
    "elif (randommonth == 2):\n",
    "    randomday = random.randint(1,28)\n",
    "else:\n",
    "    randomday = random.randint(1,30)\n",
    "\n",
    "randomyear = random.randint(1990, 2023)\n",
    "\n",
    "print(\"random date: \" + str(randommonth) + \"/\" + str(randomday) + \"/\" + str(randomyear))\n",
    "randomdate = date(randomyear, randommonth, randomday)\n",
    "result = randomdate - userdate\n",
    "result = abs(result.days)\n",
    "print(\"There are \" + str(result) + \" days between the two dates\")"
   ]
  }
 ],
 "metadata": {
  "kernelspec": {
   "display_name": "Python 3",
   "language": "python",
   "name": "python3"
  },
  "language_info": {
   "codemirror_mode": {
    "name": "ipython",
    "version": 3
   },
   "file_extension": ".py",
   "mimetype": "text/x-python",
   "name": "python",
   "nbconvert_exporter": "python",
   "pygments_lexer": "ipython3",
   "version": "3.8.10"
  },
  "orig_nbformat": 4,
  "vscode": {
   "interpreter": {
    "hash": "916dbcbb3f70747c44a77c7bcd40155683ae19c65e1c03b4aa3499c5328201f1"
   }
  }
 },
 "nbformat": 4,
 "nbformat_minor": 2
}
