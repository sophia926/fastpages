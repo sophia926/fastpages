{
 "cells": [
  {
   "attachments": {},
   "cell_type": "markdown",
   "metadata": {},
   "source": [
    "#  Unit 2.4b Using Programs with Data, SQL\n",
    "> Using Programs with Data is focused on SQL and database actions.  Part B focuses on learning SQL commands, connections, and curses using an Imperative programming style,\n",
    "- title: Unit 2.4B\n",
    "- toc: true\n",
    "- categories: [week26]"
   ]
  },
  {
   "attachments": {},
   "cell_type": "markdown",
   "metadata": {},
   "source": [
    "# Database Programming is Program with Data\n",
    "> Each Tri 2 Final Project should be an example of a Program with Data. \n",
    "\n",
    ">  Prepare to use SQLite in common Imperative Technique\n",
    "- Explore [SQLite Connect object](https://www.tutorialspoint.com/python_data_access/python_sqlite_establishing_connection.htm) to establish database connection\n",
    "- Explore [SQLite Cursor Object](https://www.tutorialspoint.com/python_data_access/python_sqlite_cursor_object.htm) to fetch data from a table within a database\n"
   ]
  },
  {
   "attachments": {},
   "cell_type": "markdown",
   "metadata": {},
   "source": [
    "## Schema of Users table in Sqlite.db\n",
    "> Uses PRAGMA statement to read schema.\n",
    "\n",
    "Describe Schema, here is resource [Resource](https://www.sqlite.org/index.html)\n",
    "- What is a database schema?\n",
    "    - **A database schema is how data is organized within a relational database**\n",
    "- What is the purpose of identity Column in SQL database?\n",
    "    - **It should be unique because it will be the identifiable aspect, such as the id of a user.**\n",
    "- What is the purpose of a primary key in SQL database?\n",
    "    - **The purpose of a primary key is to be able to correctly identify a row or thing**\n",
    "- What are the Data Types in SQL table?\n",
    "    - **Boolean, float, integer, string, list, dictionary, pretty much any data type**\n",
    "\n",
    "***Notes on code below:***\n",
    "- **schema is the function name**\n",
    "- **255 is the maximum length**"
   ]
  },
  {
   "cell_type": "code",
   "execution_count": 2,
   "metadata": {},
   "outputs": [
    {
     "name": "stdout",
     "output_type": "stream",
     "text": [
      "(0, 'id', 'INTEGER', 1, None, 1)\n",
      "(1, '_name', 'VARCHAR(255)', 1, None, 0)\n",
      "(2, '_uid', 'VARCHAR(255)', 1, None, 0)\n",
      "(3, '_password', 'VARCHAR(255)', 1, None, 0)\n",
      "(4, '_dob', 'DATE', 0, None, 0)\n"
     ]
    }
   ],
   "source": [
    "import sqlite3\n",
    "\n",
    "database = 'instance/sqlite.db' # this is location of database\n",
    "\n",
    "def schema():\n",
    "    \n",
    "    # Connect to the database file\n",
    "    conn = sqlite3.connect(database)\n",
    "\n",
    "    # Create a cursor object to execute SQL queries\n",
    "    cursor = conn.cursor()\n",
    "    \n",
    "    # Fetch results of Schema\n",
    "    # The PRAGMA table_info command prints out the stuff\n",
    "    results = cursor.execute(\"PRAGMA table_info('users')\").fetchall()\n",
    "\n",
    "    # Print the results\n",
    "    for row in results:\n",
    "        print(row)\n",
    "\n",
    "    # Close the database connection\n",
    "    conn.close()\n",
    "    \n",
    "schema()\n"
   ]
  },
  {
   "attachments": {},
   "cell_type": "markdown",
   "metadata": {},
   "source": [
    "## Reading Users table in Sqlite.db\n",
    "> Uses SQL SELECT statement to read data\n",
    "\n",
    "- What is a connection object?  After you google it, what do you think it does?\n",
    "    - **A connection object represents a unique session with a data source. I think it establishes a session with a database/table**\n",
    "- Same for cursor object?\n",
    "    - **A cursor object is an object that is used to make the connection for executing SQL queries. I think they are used to process individual rows returned by database queries.**\n",
    "- Look at conn object and cursor object in VSCode debugger.  What attributes are in the object?\n",
    "    - **In the conn object, there are no attributes, but in the cursor object there is the \"conn\" label.**\n",
    "- Is \"results\" an object?  How do you know?\n",
    "    - **Results is an object because it has data and attributes. It has the data/results of the users. An object can also have functions, like create, read, update, and delete.**\n",
    "- **Abstraction is simplifying something**"
   ]
  },
  {
   "cell_type": "code",
   "execution_count": 9,
   "metadata": {},
   "outputs": [
    {
     "name": "stdout",
     "output_type": "stream",
     "text": [
      "(1, 'Thomas Edison', 'toby', 'sha256$Ift7y99XXOVQ21Ph$4cdd49aa61d25fa94f72885eb6c897a244a6a8c5bfa8a057adf9d45f34ab5dda', '1847-02-11')\n",
      "(2, 'Nikola Tesla', 'niko', 'sha256$11SQjnbwrdR3YKhw$2bc18f087e3880c737102e5a2c074a385e4687b8913f369bfd0e2115086af4a2', '2023-03-15')\n",
      "(3, 'Alexander Graham Bell', 'lex', 'sha256$CC3MGK7aibrHi5ge$d6fc5371ea5e8705c4506a04c70f4f45790cc220694ae928d96d82f120ce94ea', '2023-03-15')\n",
      "(4, 'Eli Whitney', 'whit', 'sha256$70ZZwHUQd0YG5oo1$0557ddbb2b46f2f9cc32a7cb9d79e22a23f930177a673b5c064e84b5f57ebb9d', '2023-03-15')\n",
      "(5, 'Indiana Jones', 'indi', 'sha256$yUwk3VzgsU7Rx16X$084203d16347c10a3a93b12021c20e08edd945df1f8f029788219f3aec5aca1a', '1920-10-21')\n",
      "(6, 'Marion Ravenwood', 'raven', 'sha256$xf2Opm6tefO9zoAn$2f786c4d5815e91accec9f40ed27d6f5be5995ecc9306b162608b207f287b454', '1921-10-21')\n",
      "(7, 'Sophia Tang', 'sophia', 'sosecure2', '2000-01-01')\n",
      "(8, 'Harry', 'harry', 'dumbledore', '2000-07-14')\n"
     ]
    }
   ],
   "source": [
    "import sqlite3\n",
    "\n",
    "def read():\n",
    "    # Connect to the database file\n",
    "    conn = sqlite3.connect(database)\n",
    "\n",
    "    # Create a cursor object to execute SQL queries\n",
    "    cursor = conn.cursor()\n",
    "    \n",
    "    # Execute a SELECT statement to retrieve data from a table\n",
    "    results = cursor.execute('SELECT * FROM users').fetchall()\n",
    "\n",
    "    # Print the results\n",
    "    if len(results) == 0:\n",
    "        print(\"Table is empty\")\n",
    "    else:\n",
    "        for row in results:\n",
    "            print(row)\n",
    "\n",
    "    # Close the cursor and connection objects\n",
    "    cursor.close()\n",
    "    conn.close()\n",
    "    \n",
    "read()\n"
   ]
  },
  {
   "attachments": {},
   "cell_type": "markdown",
   "metadata": {},
   "source": [
    "## Create a new User in table in Sqlite.db\n",
    "> Uses SQL INSERT to add row\n",
    "-  Compore create() in both SQL lessons.  What is better or worse in the two implementations?\n",
    "    - **This one is better because it is a cleaner implementation with less confusions and less code. However, this implementation doesn't censor your password. OOP is easier for bigger programs.**\n",
    "-  Explain purpose of SQL INSERT.   Is this the same as User __init__?\n",
    "    - **SQL INSERT adds a new row, so it is different from User __init__ because that is the initial starting, whereas insert is after it has already started and you are adding a new row**"
   ]
  },
  {
   "cell_type": "code",
   "execution_count": 4,
   "metadata": {},
   "outputs": [
    {
     "name": "stdout",
     "output_type": "stream",
     "text": [
      "A new user record harry has been created\n"
     ]
    }
   ],
   "source": [
    "import sqlite3\n",
    "\n",
    "def create():\n",
    "    name = input(\"Enter your name:\")\n",
    "    uid = input(\"Enter your user id:\")\n",
    "    password = input(\"Enter your password\")\n",
    "    dob = input(\"Enter your date of birth 'YYYY-MM-DD'\")\n",
    "    \n",
    "    # Connect to the database file\n",
    "    conn = sqlite3.connect(database)\n",
    "\n",
    "    # Create a cursor object to execute SQL commands\n",
    "    cursor = conn.cursor()\n",
    "\n",
    "    try:\n",
    "        # Execute an SQL command to insert data into a table\n",
    "        cursor.execute(\"INSERT INTO users (_name, _uid, _password, _dob) VALUES (?, ?, ?, ?)\", (name, uid, password, dob))\n",
    "        \n",
    "        # Commit the changes to the database\n",
    "        conn.commit()\n",
    "        print(f\"A new user record {uid} has been created\")\n",
    "                \n",
    "    except sqlite3.Error as error:\n",
    "        print(\"Error while executing the INSERT:\", error)\n",
    "\n",
    "\n",
    "    # Close the cursor and connection objects\n",
    "    cursor.close()\n",
    "    conn.close()\n",
    "    \n",
    "create()"
   ]
  },
  {
   "attachments": {},
   "cell_type": "markdown",
   "metadata": {},
   "source": [
    "## Updating a User in table in Sqlite.db\n",
    "> Uses SQL UPDATE to modify password\n",
    "- What does the hacked part do?\n",
    "    - **The hacked part checks if the length of the password is less than 2, if so then the password is changed.**\n",
    "- Explain try/except, when would except occur?\n",
    "    - **If the uid was not found, then it will print out an error message, if there wasn an error then it would print out \"error while executing the update\"**\n",
    "- What code seems to be repeated in each of these examples to point, why is it repeated?\n",
    "    - **The connection to the database is repeated because it is necessary to establish a connection to edit/view the database. It repeats because it's recursive.**"
   ]
  },
  {
   "cell_type": "code",
   "execution_count": 6,
   "metadata": {},
   "outputs": [
    {
     "name": "stdout",
     "output_type": "stream",
     "text": [
      "The row with user id sophia the password has been successfully updated\n"
     ]
    }
   ],
   "source": [
    "import sqlite3\n",
    "\n",
    "def update():\n",
    "    uid = input(\"Enter user id to update\")\n",
    "    password = input(\"Enter updated password\")\n",
    "    if len(password) < 2:\n",
    "        message = \"hacked\"\n",
    "        password = 'gothackednewpassword123'\n",
    "    else:\n",
    "        message = \"successfully updated\"\n",
    "\n",
    "    # Connect to the database file\n",
    "    conn = sqlite3.connect(database)\n",
    "\n",
    "    # Create a cursor object to execute SQL commands\n",
    "    cursor = conn.cursor()\n",
    "\n",
    "    try:\n",
    "        # Execute an SQL command to update data in a table\n",
    "        cursor.execute(\"UPDATE users SET _password = ? WHERE _uid = ?\", (password, uid))\n",
    "        if cursor.rowcount == 0:\n",
    "            # The uid was not found in the table\n",
    "            print(f\"No uid {uid} was not found in the table\")\n",
    "        else:\n",
    "            print(f\"The row with user id {uid} the password has been {message}\")\n",
    "            conn.commit()\n",
    "    except sqlite3.Error as error:\n",
    "        print(\"Error while executing the UPDATE:\", error)\n",
    "        \n",
    "    \n",
    "    # Close the cursor and connection objects\n",
    "    cursor.close()\n",
    "    conn.close()\n",
    "    \n",
    "update()\n"
   ]
  },
  {
   "attachments": {},
   "cell_type": "markdown",
   "metadata": {},
   "source": [
    "## Delete a User in table in Sqlite.db\n",
    "> Uses a delete function to remove a user based on a user input of the id.\n",
    "- Is DELETE a dangerous operation?  Why?\n",
    "    - **yes, because it is irreversible**\n",
    "- In the print statemements, what is the \"f\" and what does {uid} do?\n",
    "    - **the f formats the string, uid tells the program to insert the uid there**"
   ]
  },
  {
   "cell_type": "code",
   "execution_count": 7,
   "metadata": {},
   "outputs": [
    {
     "name": "stdout",
     "output_type": "stream",
     "text": [
      "No uid hi was not found in the table\n"
     ]
    }
   ],
   "source": [
    "import sqlite3\n",
    "\n",
    "def delete():\n",
    "    uid = input(\"Enter user id to delete\")\n",
    "\n",
    "    # Connect to the database file\n",
    "    conn = sqlite3.connect(database)\n",
    "\n",
    "    # Create a cursor object to execute SQL commands\n",
    "    cursor = conn.cursor()\n",
    "    \n",
    "    try:\n",
    "        cursor.execute(\"DELETE FROM users WHERE _uid = ?\", (uid,))\n",
    "        if cursor.rowcount == 0:\n",
    "            # The uid was not found in the table\n",
    "            print(f\"No uid {uid} was not found in the table\")\n",
    "        else:\n",
    "            # The uid was found in the table and the row was deleted\n",
    "            print(f\"The row with uid {uid} was successfully deleted\")\n",
    "        conn.commit()\n",
    "    except sqlite3.Error as error:\n",
    "        print(\"Error while executing the DELETE:\", error)\n",
    "        \n",
    "    # Close the cursor and connection objects\n",
    "    cursor.close()\n",
    "    conn.close()\n",
    "    \n",
    "delete()"
   ]
  },
  {
   "attachments": {},
   "cell_type": "markdown",
   "metadata": {},
   "source": [
    "# Menu Interface to CRUD operations\n",
    "> CRUD and Schema interactions from one location by running menu. Observe input at the top of VSCode, observe output underneath code cell.\n",
    "- Why does the menu repeat?\n",
    "- Could you refactor this menu?  Make it work with a List?"
   ]
  },
  {
   "cell_type": "code",
   "execution_count": 8,
   "metadata": {},
   "outputs": [
    {
     "name": "stdout",
     "output_type": "stream",
     "text": [
      "No uid hello was not found in the table\n",
      "(1, 'Thomas Edison', 'toby', 'sha256$Ift7y99XXOVQ21Ph$4cdd49aa61d25fa94f72885eb6c897a244a6a8c5bfa8a057adf9d45f34ab5dda', '1847-02-11')\n",
      "(2, 'Nikola Tesla', 'niko', 'sha256$11SQjnbwrdR3YKhw$2bc18f087e3880c737102e5a2c074a385e4687b8913f369bfd0e2115086af4a2', '2023-03-15')\n",
      "(3, 'Alexander Graham Bell', 'lex', 'sha256$CC3MGK7aibrHi5ge$d6fc5371ea5e8705c4506a04c70f4f45790cc220694ae928d96d82f120ce94ea', '2023-03-15')\n",
      "(4, 'Eli Whitney', 'whit', 'sha256$70ZZwHUQd0YG5oo1$0557ddbb2b46f2f9cc32a7cb9d79e22a23f930177a673b5c064e84b5f57ebb9d', '2023-03-15')\n",
      "(5, 'Indiana Jones', 'indi', 'sha256$yUwk3VzgsU7Rx16X$084203d16347c10a3a93b12021c20e08edd945df1f8f029788219f3aec5aca1a', '1920-10-21')\n",
      "(6, 'Marion Ravenwood', 'raven', 'sha256$xf2Opm6tefO9zoAn$2f786c4d5815e91accec9f40ed27d6f5be5995ecc9306b162608b207f287b454', '1921-10-21')\n",
      "(7, 'Sophia Tang', 'sophia', 'sosecure2', '2000-01-01')\n",
      "(8, 'Harry', 'harry', 'dumbledore', '2000-07-14')\n"
     ]
    }
   ],
   "source": [
    "# Menu, to run other cells from one control point\n",
    "def menu():\n",
    "    operation = input(\"Enter: (C)reate (R)ead (U)pdate or (D)elete or (S)chema\")\n",
    "    if operation.lower() == 'c':\n",
    "        create()\n",
    "    elif operation.lower() == 'r':\n",
    "        read()\n",
    "    elif operation.lower() == 'u':\n",
    "        update()\n",
    "    elif operation.lower() == 'd':\n",
    "        delete()\n",
    "    elif operation.lower() == 's':\n",
    "        schema()\n",
    "    elif len(operation)==0: # Escape Key\n",
    "        return\n",
    "    else:\n",
    "        print(\"Please enter c, r, u, or d\") \n",
    "    menu() # recursion, repeat menu\n",
    "        \n",
    "try:\n",
    "    menu() # start menu\n",
    "except:\n",
    "    print(\"Perform Jupyter 'Run All' prior to starting menu\")\n"
   ]
  },
  {
   "attachments": {},
   "cell_type": "markdown",
   "metadata": {},
   "source": [
    "# Hacks\n",
    "- Add this Blog to you own Blogging site.  In the Blog add notes and observations on each code cell.\n",
    "- In this implementation, do you see procedural abstraction?\n",
    "    - **Procedural abstraction is like having the same operations being performed in different places in a program. There is procedural abstraction in this implementation because the CRUD functions are being used in multiple places.**\n",
    "- In 2.4a or 2.4b lecture\n",
    "    - Do you see data abstraction?  Complement this with Debugging example.\n",
    "        - **Data abstraction is the reduction of a particular body of data to a simplified representation of the whole. This is seen when you read the data from the database and then print it out to be a representation of the whoel**\n",
    "    - Use Imperative or OOP style to Create a new Table or do something that applies to your CPT project.\n",
    "    \n",
    "\n",
    "Reference... [sqlite documentation](https://www.sqlitetutorial.net/sqlite-python/creating-tables/)\n"
   ]
  }
 ],
 "metadata": {
  "kernelspec": {
   "display_name": "base",
   "language": "python",
   "name": "python3"
  },
  "language_info": {
   "codemirror_mode": {
    "name": "ipython",
    "version": 3
   },
   "file_extension": ".py",
   "mimetype": "text/x-python",
   "name": "python",
   "nbconvert_exporter": "python",
   "pygments_lexer": "ipython3",
   "version": "3.9.12"
  },
  "orig_nbformat": 4,
  "vscode": {
   "interpreter": {
    "hash": "8b82d5009c68ba5675978267e2b13a671f2a7143d61273c5a3813c97e0b2493d"
   }
  }
 },
 "nbformat": 4,
 "nbformat_minor": 2
}
