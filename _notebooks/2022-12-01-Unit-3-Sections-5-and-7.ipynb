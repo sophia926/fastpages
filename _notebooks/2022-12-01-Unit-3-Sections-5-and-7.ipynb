{
 "cells": [
  {
   "cell_type": "markdown",
   "metadata": {},
   "source": [
    "# Homework for Unit 3 Sections 5 and 7\n",
    "\n",
    "- toc: true\n",
    "- comments: true\n",
    "- categories: [week14]"
   ]
  },
  {
   "attachments": {},
   "cell_type": "markdown",
   "metadata": {},
   "source": [
    "Score of 0.9/1"
   ]
  },
  {
   "cell_type": "markdown",
   "metadata": {},
   "source": [
    "**VOCAB!**:\n",
    "- Boolean Operators: produces booleans after it is used between two values\n",
    "- Relational Operators: can work between any two values of the same type known as operands, provided that the type supports such types of operators\n",
    "- Logical Operators: operators that works on operand(s) to produce a single boolean result. Examples include and, or, not.\n",
    "- Algorithm: A set of instructions that accomplish a task\n",
    "- Selection: The process that determines which parts of an algoritm is being executed based on a condition that is true or false\n",
    "- Nested Conditionals: consist of conditional statements within conditional statements"
   ]
  },
  {
   "cell_type": "markdown",
   "metadata": {},
   "source": [
    "## Homework\n",
    "our homework we have decided for a decimal number to binary converter. You must use conditional statements within your code and have a input box for where the decimal number will go. This will give you a 2.7 out of 3 and you may add anything else to the code to get above a 2.7"
   ]
  },
  {
   "cell_type": "code",
   "execution_count": 1,
   "metadata": {},
   "outputs": [
    {
     "name": "stdout",
     "output_type": "stream",
     "text": [
      "Binary of 67 is: "
     ]
    },
    {
     "data": {
      "text/plain": [
       "1000011"
      ]
     },
     "execution_count": 1,
     "metadata": {},
     "output_type": "execute_result"
    }
   ],
   "source": [
    "def DecimalToBinary(decimal):\n",
    "    binary = 0\n",
    "    ctr = 0\n",
    "    temp = decimal  #copy input decimal\n",
    "    #find binary value using while loop\n",
    "    while(temp > 0):\n",
    "        binary = ((temp%2)*(10**ctr)) + binary\n",
    "        temp = int(temp/2)\n",
    "        ctr += 1\n",
    "    return binary\n",
    "\n",
    " \n",
    "# Driver Code\n",
    "num = int(input(\"Enter a number to convert to binary: \"))\n",
    "print(\"Binary of \" + str(num) + \" is:\", end=\" \")\n",
    "DecimalToBinary(num)"
   ]
  }
 ],
 "metadata": {
  "kernelspec": {
   "display_name": "Python 3.8.10 64-bit",
   "language": "python",
   "name": "python3"
  },
  "language_info": {
   "codemirror_mode": {
    "name": "ipython",
    "version": 3
   },
   "file_extension": ".py",
   "mimetype": "text/x-python",
   "name": "python",
   "nbconvert_exporter": "python",
   "pygments_lexer": "ipython3",
   "version": "3.8.10 (default, Jun 22 2022, 20:18:18) \n[GCC 9.4.0]"
  },
  "orig_nbformat": 4,
  "vscode": {
   "interpreter": {
    "hash": "31f2aee4e71d21fbe5cf8b01ff0e069b9275f58929596ceb00d14d90e3e16cd6"
   }
  }
 },
 "nbformat": 4,
 "nbformat_minor": 2
}
